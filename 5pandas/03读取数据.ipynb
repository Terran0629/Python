{
 "cells": [
  {
   "cell_type": "code",
   "execution_count": null,
   "metadata": {},
   "outputs": [],
   "source": [
    "import pandas as pd\n",
    "\n",
    "'''\n",
    "sheet_name: 指定要读取的sheet。\n",
    "header: 指定列标题,默认是0(第一行)。如果没有,应设置为 None。\n",
    "index_col: 指定索引列\n",
    "usecols: 指定要读取的列\n",
    "names: 用于结果列的列名列表。\n",
    "converters: 列转换器的字典,用于转换列中的数据。\n",
    "'''\n",
    "df = pd.read_excel('xxx.xlsx',\n",
    "                   sheet_name='xx',header=0,\n",
    "                   usecols=[0,1,2],index_col=0,)"
   ]
  },
  {
   "cell_type": "code",
   "execution_count": null,
   "metadata": {},
   "outputs": [],
   "source": [
    "df = pd.read_csv('xxx.csv',encoding='gbk')\n",
    "# 参数与read_excel的基本相同"
   ]
  },
  {
   "cell_type": "code",
   "execution_count": null,
   "metadata": {},
   "outputs": [],
   "source": [
    "# 导入txt文件\n",
    "df = pd.read_table('xxx.txt',sep=',',encoding='gbk')   # sep默认以\\t进行分隔"
   ]
  },
  {
   "cell_type": "code",
   "execution_count": null,
   "metadata": {},
   "outputs": [],
   "source": [
    "# 导入数据库数据\n",
    "import pymysql\n",
    "sql = 'select * from xx limit 100'\n",
    "conn = pymysql.connect(host = 'localhost',user = 'root',passwd = 'root',db ='mydb')\n",
    "df = pd.read_sql(sql=sql,con=conn)"
   ]
  }
 ],
 "metadata": {
  "kernelspec": {
   "display_name": "base",
   "language": "python",
   "name": "python3"
  },
  "language_info": {
   "codemirror_mode": {
    "name": "ipython",
    "version": 3
   },
   "file_extension": ".py",
   "mimetype": "text/x-python",
   "name": "python",
   "nbconvert_exporter": "python",
   "pygments_lexer": "ipython3",
   "version": "3.11.4"
  }
 },
 "nbformat": 4,
 "nbformat_minor": 2
}
