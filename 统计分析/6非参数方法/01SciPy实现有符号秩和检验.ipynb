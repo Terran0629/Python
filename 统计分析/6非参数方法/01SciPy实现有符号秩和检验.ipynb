{
 "cells": [
  {
   "cell_type": "code",
   "execution_count": 15,
   "metadata": {},
   "outputs": [],
   "source": [
    "import numpy as np\n",
    "from scipy import stats as ss"
   ]
  },
  {
   "cell_type": "code",
   "execution_count": 16,
   "metadata": {},
   "outputs": [
    {
     "name": "stdout",
     "output_type": "stream",
     "text": [
      "0.021270751953125\n"
     ]
    }
   ],
   "source": [
    "data=[36, 32, 31, 25, 28, 36, 40, 32, 41, 26, 35, 35, 32, 87, 33, 35]\n",
    "data = np.array(data)\n",
    "\n",
    "# 检验总体均值是否为37\n",
    "len(data[data>37])\n",
    "len(data[data<37])\n",
    "k = min(len(data[data>37]),len(data[data<37]))\n",
    "p_value = 2*ss.binom.cdf(k,len(data),0.5)\n",
    "print(p_value)\n"
   ]
  }
 ],
 "metadata": {
  "kernelspec": {
   "display_name": "base",
   "language": "python",
   "name": "python3"
  },
  "language_info": {
   "codemirror_mode": {
    "name": "ipython",
    "version": 3
   },
   "file_extension": ".py",
   "mimetype": "text/x-python",
   "name": "python",
   "nbconvert_exporter": "python",
   "pygments_lexer": "ipython3",
   "version": "3.11.4"
  }
 },
 "nbformat": 4,
 "nbformat_minor": 2
}
