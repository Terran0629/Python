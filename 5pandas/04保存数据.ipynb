{
 "cells": [
  {
   "cell_type": "code",
   "execution_count": null,
   "metadata": {},
   "outputs": [],
   "source": [
    "import pandas as pd\n",
    "\n",
    "'''\n",
    "columns = 需要导出的变量列表 \n",
    "header = True : 指定导出数据的新变量名，可直接提供 list \n",
    "index = True : 是否导出索引 \n",
    "'''\n",
    "df = pd.read_excel('xx.xlsx')\n",
    "df.to_excel('xxx.xlsx',index=False)\n",
    "df.to_csv('xxx.csv',sep=',')"
   ]
  }
 ],
 "metadata": {
  "kernelspec": {
   "display_name": "base",
   "language": "python",
   "name": "python3"
  },
  "language_info": {
   "name": "python",
   "version": "3.11.4"
  }
 },
 "nbformat": 4,
 "nbformat_minor": 2
}
