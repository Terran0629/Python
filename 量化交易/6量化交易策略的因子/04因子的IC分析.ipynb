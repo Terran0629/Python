{
 "cells": [
  {
   "cell_type": "markdown",
   "metadata": {},
   "source": [
    "### 因子的IC分析"
   ]
  },
  {
   "cell_type": "code",
   "execution_count": null,
   "metadata": {},
   "outputs": [],
   "source": [
    "'''\n",
    "IC分析:\n",
    "IC是information coefficient的缩写,表示所选股票的因子值与股票下期收益率的相关系数,\n",
    "通过 IC 值可以判断因子值对下期收益率的预测能力。\n",
    "*IC的取值范围为-1~1,IC的绝对值越大,该因子越有效。\n",
    "\n",
    "\n",
    "\n",
    "\n",
    "●IC最大值为1,表示该因子选股100%准确,代表排名分最高的股票,在下个调仓周期中,涨幅最大\n",
    "\n",
    "●如果IC值为-1,则代表排名分最高的股票,在下个调仓周期中,跌幅最大,是一个完全反向的指标。\n",
    "\n",
    "●最无用的IC值是0或者接近0的值,代表该因子对于股票没有任何的预测能力。\n",
    "'''"
   ]
  }
 ],
 "metadata": {
  "language_info": {
   "name": "python"
  }
 },
 "nbformat": 4,
 "nbformat_minor": 2
}
