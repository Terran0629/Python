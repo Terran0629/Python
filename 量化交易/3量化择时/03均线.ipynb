{
 "cells": [
  {
   "cell_type": "code",
   "execution_count": 2,
   "metadata": {},
   "outputs": [
    {
     "name": "stdout",
     "output_type": "stream",
     "text": [
      "auth success \n"
     ]
    }
   ],
   "source": [
    "import jqdatasdk as jq\n",
    "import pandas as pd\n",
    "from jqdatasdk import *\n",
    "jq.auth('15661317439','Ax020629.')"
   ]
  },
  {
   "cell_type": "markdown",
   "metadata": {},
   "source": [
    "简单移动平均线(SMA)\n",
    "\n",
    "周期为N的SMA = N根K线收盘价之和 / N"
   ]
  },
  {
   "cell_type": "markdown",
   "metadata": {},
   "source": [
    "------------------------------------------------------------------------------"
   ]
  },
  {
   "cell_type": "markdown",
   "metadata": {},
   "source": [
    "指数移动平均线(EMA)\n",
    "\n",
    "对价格进行加权平均,近期的价格分配更高的权重"
   ]
  },
  {
   "cell_type": "code",
   "execution_count": null,
   "metadata": {},
   "outputs": [],
   "source": [
    "'''\n",
    "MACD全称: Moving Average Convergence and Divergence, 指数平滑异同移动平均线\n",
    "国内软件大多使用的是双线MACD\n",
    "指标原理:运用快、慢速移动平均线聚合与分离的功能,加以移动平滑运算,用以研判买卖时机和信号\n",
    "\n",
    "快线(DIF) = 12EMA - 26EMA (默认情况下)\n",
    "慢线 (DEA)= 快线DIF的EMA均线(默认周期为9)\n",
    "\n",
    "慢线DEA一定是跟随着快线DIF变化,并滞后于快线的\n",
    "默认参数: (12, 26, 9),12代表周期为12的EMA均线(短期EMA为12天);\n",
    "26代表周期为26的EMA均线(长期EMA为26天);快线DIF周期为9的EMA均线\n",
    "能量柱:n x (快线DIF-慢线DEA)\n",
    "\n",
    "MACD指标的应用\n",
    "MACD金叉是指指标中的快线(DIF线)上穿慢线(DEA线)所形成的一个交点\n",
    "MACD死叉是指指标中的快线(DIF线)下穿慢线(DEA线)所形成的一个交点\n",
    "\n",
    "注意\n",
    "根据金叉与死叉在MACD的零轴的相对位置,又可划分为:低位金叉、零轴金叉、高位金叉;低位死叉、零轴死叉、高位死叉。\n",
    "\n",
    "A股经典买卖法则:“金叉买,死叉卖”\n",
    "MACD的背离:股价与MACD的变动出现了“不一致”\n",
    "由于上涨速度的减缓,使得两个EMA的差离值减小,则对应的快线DIF的数值减小,\n",
    "表现在图表上就形成了MACD背离的状态,所以,上涨速度减缓不一定意味着行情反转！\n",
    "\n",
    "注意\n",
    "背离只是描述了上涨的速度在减缓这个状态,不一定代表行情要反转！\n",
    "'''"
   ]
  }
 ],
 "metadata": {
  "kernelspec": {
   "display_name": "base",
   "language": "python",
   "name": "python3"
  },
  "language_info": {
   "codemirror_mode": {
    "name": "ipython",
    "version": 3
   },
   "file_extension": ".py",
   "mimetype": "text/x-python",
   "name": "python",
   "nbconvert_exporter": "python",
   "pygments_lexer": "ipython3",
   "version": "3.11.4"
  }
 },
 "nbformat": 4,
 "nbformat_minor": 2
}
