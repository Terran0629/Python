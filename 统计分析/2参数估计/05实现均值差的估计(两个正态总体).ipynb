{
 "cells": [
  {
   "cell_type": "code",
   "execution_count": 2,
   "metadata": {},
   "outputs": [],
   "source": [
    "import numpy as np\n",
    "from scipy.stats import norm, t, chi2"
   ]
  },
  {
   "cell_type": "code",
   "execution_count": 3,
   "metadata": {},
   "outputs": [],
   "source": [
    "# 两个正态总体均值差的置信区间\n",
    "def mean_diff_ci_t_est(data1, data2, alpha, equal=True):\n",
    "    n1 = len(data1)    # 样本1的容量\n",
    "    n2 = len(data2)    # 样本1的容量\n",
    "    mean_diff = np.mean(data1) - np.mean(data2)     # 样本均值差\n",
    "    sample1_var = np.var(data1) # 样本1的样本方差\n",
    "    sample2_var = np.var(data2) # 样本2的样本方差\n",
    "\n",
    "    if equal:   # 方差未知且相等\n",
    "\n",
    "        Sw = np.sqrt(((n1-1)*sample1_var + (n2-1)*sample2_var) / (n1 + n2 - 2))\n",
    "\n",
    "        t_value = np.abs(t.ppf(alpha/2,n1+n2-2))\n",
    "        \n",
    "        return mean_diff - Sw*np.sqrt(1/n1 + 1/n2)*t_value, mean_diff + Sw*np.sqrt(1/n1 + 1/n2)*t_value\n",
    "\n",
    "    else:       # 方差未知且不等\n",
    "\n",
    "        # 自由度分子\n",
    "        df_numerator = (sample1_var/n1 + sample2_var/n2)**2 \n",
    "        # 自由度分母\n",
    "        df_denominator = (sample1_var/n1)**2/(n1-1) + (sample2_var/n2)**2/(n2-1)\n",
    "\n",
    "        df = df_numerator / df_denominator # 自由度\n",
    "\n",
    "        t_value = np.abs(t.ppf( alpha/2,  df))\n",
    "\n",
    "        return (mean_diff - np.sqrt(sample1_var/n1 + sample2_var/n2)* t_value, \\\n",
    "               mean_diff + np.sqrt(sample1_var/n1 + sample2_var/n2)* t_value)\n"
   ]
  },
  {
   "cell_type": "code",
   "execution_count": 5,
   "metadata": {},
   "outputs": [
    {
     "name": "stdout",
     "output_type": "stream",
     "text": [
      "(-2196.676574582891, -199.32342541710875)\n",
      "-1198.0\n",
      "(-2227.5521493017823, -168.4478506982175)\n"
     ]
    }
   ],
   "source": [
    "salary_18 = [1484, 785, 1598, 1366, 1716, 1020, 1716, 785, 3113, 1601]\n",
    "salary_35 = [902, 4508, 3809, 3923, 4276, 2065, 1601, 553, 3345, 2182]\n",
    "\n",
    "print(mean_diff_ci_t_est(salary_18, salary_35, 0.05, equal=True))\n",
    "print(np.mean(salary_18) - np.mean(salary_35))\n",
    "print(mean_diff_ci_t_est(salary_18, salary_35, 0.05, equal=False))"
   ]
  }
 ],
 "metadata": {
  "kernelspec": {
   "display_name": "base",
   "language": "python",
   "name": "python3"
  },
  "language_info": {
   "codemirror_mode": {
    "name": "ipython",
    "version": 3
   },
   "file_extension": ".py",
   "mimetype": "text/x-python",
   "name": "python",
   "nbconvert_exporter": "python",
   "pygments_lexer": "ipython3",
   "version": "3.11.4"
  }
 },
 "nbformat": 4,
 "nbformat_minor": 2
}
