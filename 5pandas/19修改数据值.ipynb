{
 "cells": [
  {
   "cell_type": "code",
   "execution_count": null,
   "metadata": {},
   "outputs": [],
   "source": [
    "import pandas as pd\n",
    "\n",
    "df = pd.read_excel('D:/数据分析/源码压缩/数据源/人口数据.xlsx')\n",
    "\n",
    "# 修改单个值\n",
    "df['Age'][2] = 4    # 不推荐,未来会取消\n",
    "\n",
    "df.loc[2,'Age'] = 4\n",
    "df.iloc[2,3] = 4"
   ]
  },
  {
   "cell_type": "code",
   "execution_count": null,
   "metadata": {},
   "outputs": [],
   "source": [
    "# 批量修改数据\n",
    "df.Age.replace('85+',85)\n",
    "df.Gender.replace(['Male''Female'],['男','女'])\n",
    "df.Gender.replace({'男':'Male','女':'Female'})"
   ]
  },
  {
   "cell_type": "code",
   "execution_count": null,
   "metadata": {},
   "outputs": [],
   "source": [
    "df.query('Gender == \"Female\" and Age < 60 ').Gender = 'Male'  # 不推荐\n",
    "\n",
    "df.loc[(df['Gender'] == \"Female\") & (df['Age'] < 60), 'Gender'] = 'Male'"
   ]
  }
 ],
 "metadata": {
  "kernelspec": {
   "display_name": "base",
   "language": "python",
   "name": "python3"
  },
  "language_info": {
   "codemirror_mode": {
    "name": "ipython",
    "version": 3
   },
   "file_extension": ".py",
   "mimetype": "text/x-python",
   "name": "python",
   "nbconvert_exporter": "python",
   "pygments_lexer": "ipython3",
   "version": "3.11.4"
  }
 },
 "nbformat": 4,
 "nbformat_minor": 2
}
