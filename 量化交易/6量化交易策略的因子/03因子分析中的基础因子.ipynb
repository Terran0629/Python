{
 "cells": [
  {
   "cell_type": "markdown",
   "metadata": {},
   "source": [
    "### 因子分析中的基础因子"
   ]
  },
  {
   "cell_type": "code",
   "execution_count": null,
   "metadata": {},
   "outputs": [],
   "source": [
    "'''\n",
    "1.价量因子\n",
    "    是指利用get_price()函数获取的价量信息,如open(开盘价)、close(收盘价)、\n",
    "    high(最高价)、low(最低价)、volume(成交量)、money(成交金额)。\n",
    "\n",
    "2.财务数据因子\n",
    "\n",
    "3.行业因子\n",
    "\n",
    "4.概念因子\n",
    "\n",
    "5.指数因子\n",
    "\n",
    "6.资金流因子\n",
    "    利用get_money_flow()函数查询的数据\n",
    "'''"
   ]
  }
 ],
 "metadata": {
  "language_info": {
   "name": "python"
  }
 },
 "nbformat": 4,
 "nbformat_minor": 2
}
