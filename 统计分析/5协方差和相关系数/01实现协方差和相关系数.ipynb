{
 "cells": [
  {
   "cell_type": "code",
   "execution_count": 3,
   "metadata": {},
   "outputs": [],
   "source": [
    "import numpy as np"
   ]
  },
  {
   "cell_type": "code",
   "execution_count": 4,
   "metadata": {},
   "outputs": [],
   "source": [
    "# 协方差\n",
    "def covariance(data1, data2):\n",
    "    assert len(data1)==len(data2)  # 两个变量的数据个数要相等,否则会报错\n",
    "    n = len(data1)\n",
    "    assert n > 1\n",
    "    \n",
    "    mean_data1 = np.mean(data1)\n",
    "    mean_data2 = np.mean(data2)\n",
    "    return sum((e1 - mean_data1)*(e2 - mean_data2) for e1, e2 in zip(data1, data2))/(n-1)\n",
    "\n",
    "# 相关系数\n",
    "def cor(data1, data2):\n",
    "  std1 = np.sqrt(np.var(data1))\n",
    "  std2 = np.sqrt(np.var(data2))\n",
    "  return covariance(data1, data2) / (std1*std2)"
   ]
  },
  {
   "cell_type": "code",
   "execution_count": 5,
   "metadata": {},
   "outputs": [
    {
     "name": "stdout",
     "output_type": "stream",
     "text": [
      "7.944444444444445\n",
      "0.962962962962963\n"
     ]
    }
   ],
   "source": [
    "# 测试协方差,相关系数\n",
    "score = [1, 2, 3, 4, 5, 6, 7, 8, 9, 10]\n",
    "happy = [1, 3, 2, 6, 4, 5, 8, 10, 9, 7]\n",
    "print(covariance(score, happy))\n",
    "print(cor(score, happy))\n"
   ]
  }
 ],
 "metadata": {
  "kernelspec": {
   "display_name": "base",
   "language": "python",
   "name": "python3"
  },
  "language_info": {
   "codemirror_mode": {
    "name": "ipython",
    "version": 3
   },
   "file_extension": ".py",
   "mimetype": "text/x-python",
   "name": "python",
   "nbconvert_exporter": "python",
   "pygments_lexer": "ipython3",
   "version": "3.11.4"
  }
 },
 "nbformat": 4,
 "nbformat_minor": 2
}
