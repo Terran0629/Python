{
 "cells": [
  {
   "cell_type": "code",
   "execution_count": null,
   "metadata": {},
   "outputs": [],
   "source": [
    "import pandas as pd\n",
    "import matplotlib.pyplot as plt\n",
    "\n",
    "data = {'年份': [2030, 2031, 2032, 2033, 2034],\n",
    "    '销售额': [100, 150, 200, 180, 250]}\n",
    "df = pd.DataFrame(data)\n",
    "\n",
    "plt.rcParams['font.family']='SimHei'"
   ]
  },
  {
   "cell_type": "code",
   "execution_count": null,
   "metadata": {},
   "outputs": [],
   "source": [
    "df.plot(x='年份',y='销售额')"
   ]
  },
  {
   "cell_type": "code",
   "execution_count": null,
   "metadata": {},
   "outputs": [],
   "source": [
    "# 区域图\n",
    "df.plot(x='年份', y='销售额', kind='area', title='年度销售额')"
   ]
  },
  {
   "cell_type": "code",
   "execution_count": null,
   "metadata": {},
   "outputs": [],
   "source": [
    "# 堆叠柱状图\n",
    "data = {'城市': ['北京', '上海', '广州', '深圳'],\n",
    "    '男性人口': [1050, 1190, 693, 646],\n",
    "    '女性人口': [1103, 1233, 711, 657]}\n",
    "df = pd.DataFrame(data)\n",
    "\n",
    "df.plot(x='城市', kind='bar', stacked=True, title='城市人口性别分布')"
   ]
  },
  {
   "cell_type": "code",
   "execution_count": null,
   "metadata": {},
   "outputs": [],
   "source": [
    "# 分组直方图\n",
    "data = {'Category': ['A', 'A', 'B', 'B', 'B'],\n",
    "    'Value': [1, 2, 3, 4, 5]}\n",
    "\n",
    "df = pd.DataFrame(data)\n",
    "df.plot(kind='hist', by='Category', title='分组直方图')"
   ]
  },
  {
   "cell_type": "code",
   "execution_count": null,
   "metadata": {},
   "outputs": [],
   "source": [
    "# 饼图\n",
    "data = {'类别': ['A', 'B', 'C', 'D'],\n",
    "    '数值': [30, 20, 15, 35]}\n",
    "df = pd.DataFrame(data)\n",
    "\n",
    "explode = [0.1, 0, 0, 0] # 突出显示第一个类别\n",
    "df.plot(kind='pie', y='数值', labels=df['类别'], autopct='%.1f%%', explode=explode, title='突出特定类别的饼图')"
   ]
  },
  {
   "cell_type": "code",
   "execution_count": null,
   "metadata": {},
   "outputs": [],
   "source": [
    "# 箱线图\n",
    "data = {'数值': [10, 20, 30, 40, 500]}\n",
    "df = pd.DataFrame(data)\n",
    "\n",
    "df.plot(kind='box', title='Box Plot with Outliers')"
   ]
  }
 ],
 "metadata": {
  "kernelspec": {
   "display_name": "base",
   "language": "python",
   "name": "python3"
  },
  "language_info": {
   "codemirror_mode": {
    "name": "ipython",
    "version": 3
   },
   "file_extension": ".py",
   "mimetype": "text/x-python",
   "name": "python",
   "nbconvert_exporter": "python",
   "pygments_lexer": "ipython3",
   "version": "3.11.4"
  }
 },
 "nbformat": 4,
 "nbformat_minor": 2
}
