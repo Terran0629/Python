{
 "cells": [
  {
   "cell_type": "code",
   "execution_count": null,
   "metadata": {},
   "outputs": [],
   "source": [
    "import pandas as pd\n",
    "\n",
    "population_dict={'beijing':3000,'shanghai':1200,'guangzhou':1800}\n",
    "area_dict={'beijing':300,'shanghai':180,'guangzhou':200}\n",
    "\n",
    "a = pd.DataFrame({'population':population_dict,'area':area_dict})\n",
    "print(a)\n",
    "print(a.index)\n",
    "print(a.columns)\n",
    "print(a.values)"
   ]
  },
  {
   "cell_type": "code",
   "execution_count": null,
   "metadata": {},
   "outputs": [],
   "source": [
    "import numpy as np\n",
    "\n",
    "value = np.random.randint(20,size=(3,2))\n",
    "a = pd.DataFrame(value,index=list('abc'),columns=['population','area'])\n",
    "print(a)"
   ]
  }
 ],
 "metadata": {
  "kernelspec": {
   "display_name": "base",
   "language": "python",
   "name": "python3"
  },
  "language_info": {
   "codemirror_mode": {
    "name": "ipython",
    "version": 3
   },
   "file_extension": ".py",
   "mimetype": "text/x-python",
   "name": "python",
   "nbconvert_exporter": "python",
   "pygments_lexer": "ipython3",
   "version": "3.11.4"
  }
 },
 "nbformat": 4,
 "nbformat_minor": 2
}
