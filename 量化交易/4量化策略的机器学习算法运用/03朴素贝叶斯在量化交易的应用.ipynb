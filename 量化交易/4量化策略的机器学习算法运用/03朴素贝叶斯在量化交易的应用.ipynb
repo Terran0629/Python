{
 "cells": [
  {
   "cell_type": "markdown",
   "metadata": {},
   "source": [
    "实战需求\n",
    "\n",
    "预测平安银行的涨跌行情，然后将预测结果与实际情况进行对比，来判断预测结果的对错。"
   ]
  },
  {
   "cell_type": "code",
   "execution_count": 1,
   "metadata": {},
   "outputs": [],
   "source": [
    "import talib   \n",
    "from jqdata import *  "
   ]
  },
  {
   "cell_type": "code",
   "execution_count": 2,
   "metadata": {},
   "outputs": [],
   "source": [
    "test_stock = '000001.XSHG'  #设置测试标的为平安银行\n",
    "start_date = datetime.date(2023, 1, 4)  #设置开始时间\n",
    "end_date = datetime.date(2023, 4, 21)   #设置结束时间"
   ]
  },
  {
   "cell_type": "code",
   "execution_count": 3,
   "metadata": {},
   "outputs": [],
   "source": [
    "trading_days = list(get_all_trade_days())  #获取所有交易日\n",
    "start_date_index = trading_days.index(start_date) #获取开始日期索引\n",
    "end_date_index = trading_days.index(end_date) #获取结束日期索引\n",
    "\n",
    "x_all = []\n",
    "y_all = []"
   ]
  },
  {
   "cell_type": "code",
   "execution_count": 4,
   "metadata": {},
   "outputs": [],
   "source": [
    "for index in range(start_date_index,end_date_index):\n",
    "    start_day = trading_days[index-30] # 当前时间周期的开始日期\n",
    "    end_day = trading_days[index] # 当前时间周期的结束日期\n",
    "    \n",
    "    # 获取当前时间周期内的股票数据\n",
    "    stock_data = get_price(test_stock,start_day,end_day,\n",
    "                           frequency='daily',fields=['close'])\n",
    "    \n",
    "    # 获取收盘价\n",
    "    close_prices = stock_data['close'].values\n",
    "    # -2是保证获取的数据是昨天的，-1是今天的\n",
    "    ema = talib.EMA(close_prices)[-2] # 指数移动平均线指标\n",
    "    rsi = talib.RSI(close_prices)[-2] # RSI指标\n",
    "  \n",
    "    features = []\n",
    "    features.append(ema)\n",
    "    features.append(rsi)\n",
    "    \n",
    "    # 涨跌指标\n",
    "    label = False \n",
    "    if close_prices[-1] > close_prices[-2]:\n",
    "        label = True\n",
    "         \n",
    "    x_all.append(features)\n",
    "    y_all.append(label)"
   ]
  },
  {
   "cell_type": "code",
   "execution_count": 5,
   "metadata": {},
   "outputs": [],
   "source": [
    "# 整理数据\n",
    "import numpy as np\n",
    "x_train = np.array(x_all[:-1])\n",
    "y_train = np.array(y_all[:-1])\n",
    "\n",
    "x_test = np.array(x_all[-1]).reshape(1,-1)\n",
    "y_test = np.array(y_all[-1])"
   ]
  },
  {
   "cell_type": "code",
   "execution_count": 6,
   "metadata": {},
   "outputs": [
    {
     "name": "stdout",
     "output_type": "stream",
     "text": [
      "预测正确!\n"
     ]
    }
   ],
   "source": [
    "from sklearn.naive_bayes import GaussianNB \n",
    "\n",
    "clf = GaussianNB()\n",
    "\n",
    "clf.fit(x_train,y_train) # 训练拟合\n",
    "\n",
    "prediction = clf.predict(x_test) # 预测\n",
    "\n",
    "if prediction == y_test:\n",
    "    print(\"预测正确!\")\n",
    "else:\n",
    "    print(\"预测错误!\")"
   ]
  },
  {
   "cell_type": "code",
   "execution_count": 7,
   "metadata": {},
   "outputs": [
    {
     "data": {
      "text/plain": [
       "array([False])"
      ]
     },
     "metadata": {},
     "output_type": "display_data"
    },
    {
     "data": {
      "text/plain": [
       "array(False)"
      ]
     },
     "metadata": {},
     "output_type": "display_data"
    }
   ],
   "source": [
    "display(prediction,y_test)"
   ]
  }
 ],
 "metadata": {
  "kernelspec": {
   "display_name": "Python 3",
   "language": "python",
   "name": "python3"
  },
  "language_info": {
   "codemirror_mode": {
    "name": "ipython",
    "version": 3
   },
   "file_extension": ".py",
   "mimetype": "text/x-python",
   "name": "python",
   "nbconvert_exporter": "python",
   "pygments_lexer": "ipython3",
   "version": "3.6.7"
  },
  "toc": {
   "base_numbering": 1,
   "nav_menu": {},
   "number_sections": false,
   "sideBar": true,
   "skip_h1_title": false,
   "title_cell": "MarkDown菜单",
   "title_sidebar": "Contents",
   "toc_cell": false,
   "toc_position": {},
   "toc_section_display": true,
   "toc_window_display": false
  }
 },
 "nbformat": 4,
 "nbformat_minor": 2
}
