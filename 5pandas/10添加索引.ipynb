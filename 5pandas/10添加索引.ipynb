{
 "cells": [
  {
   "cell_type": "code",
   "execution_count": null,
   "metadata": {},
   "outputs": [],
   "source": [
    "import pandas as pd\n",
    "\n",
    "df = pd.DataFrame({\n",
    "    'varl' : 1.0, \n",
    "    'var2' : [1,2,3,4], \n",
    "    'var3' : ['test', 'python','test', 'hello'] , \n",
    "    'var4' : 'cons'\n",
    "    },\n",
    "    index=range(1,5))\n",
    "df"
   ]
  },
  {
   "cell_type": "code",
   "execution_count": null,
   "metadata": {},
   "outputs": [],
   "source": [
    "df = pd.read_excel('D:/数据分析/源码压缩/数据源/人口数据.xlsx',index_col=0)\n",
    "df"
   ]
  },
  {
   "cell_type": "code",
   "execution_count": null,
   "metadata": {},
   "outputs": [],
   "source": [
    "df = pd.read_excel('D:/数据分析/源码压缩/数据源/人口数据.xlsx')\n",
    "df.set_index(['Age','Counts'],inplace=True)\n",
    "'''\n",
    "keys : 被指定为索引的列名，复合索引用 list:格式提供 \n",
    "drop = True :建立索引后是否删除该列 \n",
    "append = False :是否在原索引基础上添加索引，默认是直接替换原索引    \n",
    "inplace = False :是否直接修改原数据框\n",
    "'''"
   ]
  }
 ],
 "metadata": {
  "kernelspec": {
   "display_name": "base",
   "language": "python",
   "name": "python3"
  },
  "language_info": {
   "codemirror_mode": {
    "name": "ipython",
    "version": 3
   },
   "file_extension": ".py",
   "mimetype": "text/x-python",
   "name": "python",
   "nbconvert_exporter": "python",
   "pygments_lexer": "ipython3",
   "version": "3.11.4"
  }
 },
 "nbformat": 4,
 "nbformat_minor": 2
}
