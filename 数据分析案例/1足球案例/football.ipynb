{
 "cells": [
  {
   "cell_type": "code",
   "execution_count": null,
   "metadata": {},
   "outputs": [],
   "source": [
    "import pandas as pd\n",
    "import matplotlib.pyplot as plt\n",
    "plt.rcParams['font.family'] = 'SimHei'\n",
    "\n",
    "df = pd.read_csv('Football.csv')\n",
    "df.columns = [\"姓名\",\"国籍\",\"国家队位置\",\"国家队号码\",\"所在俱乐部\",\"所在俱乐部位置\",\"俱乐部号码\",\"加入俱乐部时间\",\"合同到期时间\",\"评分\",\"身高\",\"体重\",\"擅长左（右）脚\",\"出生日期\",\"年龄\",\"擅长位置\",\"工作效率\",\"非惯用脚使用频率\",\"技术等级\",\"控球技术\",\"盘球（带球）能力\",\"盯人能力\",\"铲球\",\"逼抢能力\",\"攻击能力\",\"反映\",\"攻击性跑位\",\"抢断\",\"视野\",\"镇静\",\"下底传中\",\"短传\",\"长传\",\"加速度\",\"速度\",\"体力\",\"强壮\",\"平衡\",\"敏捷度\",\"跳跃\",\"投球\",\"射门力量\",\"射门\",\"远射\",\"弧线\",\"任意球精准度\",\"点球\",\"凌空能力\",\"门将位置感\",\"扑救能力\",\"门将踢球能力\",\"扑球脱手几率\",\"门将反应度\"]\n",
    "df.info()"
   ]
  },
  {
   "cell_type": "code",
   "execution_count": null,
   "metadata": {},
   "outputs": [],
   "source": [
    "# 查看缺失值\n",
    "df['所在俱乐部位置'].isnull().any()\n",
    "# 找出缺失值的数据\n",
    "df[df['所在俱乐部位置'].isnull()]\n",
    "# 去掉缺失值后的数据\n",
    "df1 = df[~df['所在俱乐部位置'].isnull()]  # df[df['所在俱乐部位置'].notnull()]"
   ]
  },
  {
   "cell_type": "code",
   "execution_count": null,
   "metadata": {},
   "outputs": [],
   "source": [
    "# 发现异常值\n",
    "df1.describe()    # 看最小值最大值\n",
    "df1[df1['评分']>100]\n",
    "df1['评分'].plot(kind='box')"
   ]
  },
  {
   "cell_type": "code",
   "execution_count": null,
   "metadata": {},
   "outputs": [],
   "source": [
    "# 查看是否有重复值\n",
    "df1[df1.duplicated()]\n",
    "# 查看指定列是否有重复\n",
    "df1[df1.duplicated(subset='姓名')]\n",
    "# 获取不含有重复值的数据\n",
    "df2 = df1[~df1.duplicated(subset='姓名')]   # 也可以直接删除\n",
    "df2.info()"
   ]
  },
  {
   "cell_type": "code",
   "execution_count": null,
   "metadata": {},
   "outputs": [],
   "source": [
    "# 数据预处理\n",
    "# df2[['身高','体重']]\n",
    "df2['身高'] = df2['身高'].str.replace('cm','').astype('int')\n",
    "df2['体重'] = df2['体重'].str.replace('kg','').astype('int')"
   ]
  },
  {
   "cell_type": "code",
   "execution_count": null,
   "metadata": {},
   "outputs": [],
   "source": [
    "# 查看身高体重_数据分布情况\n",
    "df2[['身高','体重']].describe()\n",
    "df2[['身高','体重']].hist(bins=10)\n",
    "df2[['身高','体重']].plot(kind='kde')\n"
   ]
  },
  {
   "cell_type": "code",
   "execution_count": null,
   "metadata": {},
   "outputs": [],
   "source": [
    "# 分析左右脚习惯\n",
    "# 方法一\n",
    "df2['擅长左（右）脚'].value_counts()\n",
    "\n",
    "# 方法二\n",
    "g = df2.groupby('擅长左（右）脚')\n",
    "g['擅长左（右）脚'].count()"
   ]
  },
  {
   "cell_type": "code",
   "execution_count": null,
   "metadata": {},
   "outputs": [],
   "source": [
    "# 通过图表显示数据\n",
    "df2['擅长左（右）脚'].value_counts().plot(kind='pie',autopct='%.2f%%')\n",
    "df2['擅长左（右）脚'].value_counts().plot(kind='bar')"
   ]
  },
  {
   "cell_type": "code",
   "execution_count": null,
   "metadata": {},
   "outputs": [],
   "source": [
    "# 获取评分前10的运动员\n",
    "df2[['姓名','评分','所在俱乐部']].sort_values(by='评分',ascending=False).head(10)"
   ]
  },
  {
   "cell_type": "code",
   "execution_count": null,
   "metadata": {},
   "outputs": [],
   "source": [
    "# 获取前10的 俱乐部，根据球员的评分\n",
    "dfg = df2.groupby('所在俱乐部')\n",
    "dfg['评分'].mean().sort_values(ascending=False).head(10)"
   ]
  },
  {
   "cell_type": "code",
   "execution_count": null,
   "metadata": {},
   "outputs": [],
   "source": [
    "# 查看俱乐部的球员人数，球员的平均分,过滤掉人数小于25,排名前10的俱乐部\n",
    "a = dfg['评分'].agg(['mean','count'])\n",
    "a[a['count']>=25].sort_values(by='mean',ascending=False).head(10)"
   ]
  },
  {
   "cell_type": "code",
   "execution_count": null,
   "metadata": {},
   "outputs": [],
   "source": [
    "# 足球运动员与出生日期的关系\n",
    "data = df2['出生日期'].str.split('/',expand=True)\n",
    "# 获取年份\n",
    "data[2].value_counts().plot(kind='bar')"
   ]
  },
  {
   "cell_type": "code",
   "execution_count": null,
   "metadata": {},
   "outputs": [],
   "source": [
    "#将评分大于等于80的球员数据\n",
    "b = df2[df2['评分']>=80]\n",
    "data2 = b['出生日期'].str.split('/',expand=True)\n",
    "data2[2].value_counts(ascending=False).plot(kind='bar')"
   ]
  },
  {
   "cell_type": "code",
   "execution_count": null,
   "metadata": {},
   "outputs": [],
   "source": [
    "# 身高与体重是否具有相关性\n",
    "df2.plot(x='体重',y='身高',kind='scatter')\n",
    "df2['身高'].corr(df2['体重'])\n",
    "\n",
    "import seaborn as sns\n",
    "sns.heatmap(df2[['身高','体重','评分']].corr())"
   ]
  },
  {
   "cell_type": "code",
   "execution_count": 133,
   "metadata": {},
   "outputs": [
    {
     "data": {
      "text/plain": [
       "反映      0.828470\n",
       "镇静      0.614512\n",
       "短传      0.497502\n",
       "视野      0.490819\n",
       "长传      0.483872\n",
       "控球技术    0.464461\n",
       "年龄      0.459140\n",
       "射门力量    0.442233\n",
       "弧线      0.422051\n",
       "远射      0.420645\n",
       "Name: 评分, dtype: float64"
      ]
     },
     "execution_count": 133,
     "metadata": {},
     "output_type": "execute_result"
    }
   ],
   "source": [
    "# 探索分析数据之间的相关性\n",
    "df2.select_dtypes(include=['number']).corr()\n",
    "# 筛选和评分相关性的数据，比较强的前10个指标\n",
    "df2.select_dtypes(include=['number']).corr()['评分'].sort_values(ascending=False).head(11).iloc[1:]"
   ]
  },
  {
   "cell_type": "code",
   "execution_count": 137,
   "metadata": {},
   "outputs": [
    {
     "name": "stderr",
     "output_type": "stream",
     "text": [
      "C:\\Users\\伟力思\\AppData\\Local\\Temp\\ipykernel_20508\\1262970821.py:4: SettingWithCopyWarning: \n",
      "A value is trying to be set on a copy of a slice from a DataFrame.\n",
      "Try using .loc[row_indexer,col_indexer] = value instead\n",
      "\n",
      "See the caveats in the documentation: https://pandas.pydata.org/pandas-docs/stable/user_guide/indexing.html#returning-a-view-versus-a-copy\n",
      "  df2['age'] = pd.cut(df2['年龄'],bins=4,labels=['青年','中年','壮年','老年'])\n",
      "C:\\Users\\伟力思\\AppData\\Local\\Temp\\ipykernel_20508\\1262970821.py:6: FutureWarning: The default of observed=False is deprecated and will be changed to True in a future version of pandas. Pass observed=False to retain current behavior or observed=True to adopt the future default and silence this warning.\n",
      "  df2.groupby('age')['评分'].mean()\n",
      "C:\\Users\\伟力思\\AppData\\Local\\Temp\\ipykernel_20508\\1262970821.py:8: FutureWarning: The default of observed=False is deprecated and will be changed to True in a future version of pandas. Pass observed=False to retain current behavior or observed=True to adopt the future default and silence this warning.\n",
      "  df2.groupby('age')['评分'].mean().plot(kind='line')\n"
     ]
    },
    {
     "data": {
      "text/plain": [
       "<Axes: xlabel='age'>"
      ]
     },
     "execution_count": 137,
     "metadata": {},
     "output_type": "execute_result"
    },
    {
     "data": {
      "image/png": "[encoded data removed]",
      "text/plain": [
       "<Figure size 640x480 with 1 Axes>"
      ]
     },
     "metadata": {},
     "output_type": "display_data"
    }
   ],
   "source": [
    "# 对年龄进行分组\n",
    "pd.cut(df2['年龄'],bins=4,labels=['青年','中年','壮年','老年'])\n",
    "# 将切分好的数据，添加到原来的数据中\n",
    "df2['age'] = pd.cut(df2['年龄'],bins=4,labels=['青年','中年','壮年','老年'])\n",
    "# 按照年龄分组，查看评分的情况\n",
    "df2.groupby('age')['评分'].mean()\n",
    "# 通过图表，按照年龄分组，查看评分的情况\n",
    "df2.groupby('age')['评分'].mean().plot(kind='line')\n"
   ]
  }
 ],
 "metadata": {
  "kernelspec": {
   "display_name": "base",
   "language": "python",
   "name": "python3"
  },
  "language_info": {
   "codemirror_mode": {
    "name": "ipython",
    "version": 3
   },
   "file_extension": ".py",
   "mimetype": "text/x-python",
   "name": "python",
   "nbconvert_exporter": "python",
   "pygments_lexer": "ipython3",
   "version": "3.11.4"
  }
 },
 "nbformat": 4,
 "nbformat_minor": 2
}
