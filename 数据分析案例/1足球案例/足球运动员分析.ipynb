{
 "cells": [
  {
   "cell_type": "code",
   "execution_count": null,
   "metadata": {},
   "outputs": [],
   "source": [
    "# 安装必要的模块库\n",
    "# pip install pandas==2.1.1\n",
    "# numpy-1.26.0"
   ]
  },
  {
   "cell_type": "code",
   "execution_count": null,
   "metadata": {},
   "outputs": [],
   "source": [
    "# 引入模块\n",
    "import pandas as pd\n",
    "\n",
    "# 读取数据\n",
    "df = pd.read_csv('FullData.csv')"
   ]
  },
  {
   "cell_type": "code",
   "execution_count": null,
   "metadata": {},
   "outputs": [],
   "source": [
    "# 设置默认显示的行数\n",
    "pd.set_option('display.max_rows', 10)\n",
    "# 设置默认显示的列数\n",
    "pd.set_option('display.max_columns', 10)\n",
    "# 查看数据\n",
    "df"
   ]
  },
  {
   "cell_type": "code",
   "execution_count": null,
   "metadata": {},
   "outputs": [],
   "source": [
    "# 查看数据的形状\n",
    "df.shape"
   ]
  },
  {
   "cell_type": "code",
   "execution_count": null,
   "metadata": {},
   "outputs": [],
   "source": [
    "# 查看数据的前5行\n",
    "# df.head()\n",
    "# 查看数据的后5行\n",
    "df.tail()\n",
    "# 随机查看数据的5行\n",
    "# df.sample(5)"
   ]
  },
  {
   "cell_type": "code",
   "execution_count": null,
   "metadata": {},
   "outputs": [],
   "source": [
    "# 查看所有的列名\n",
    "df.columns"
   ]
  },
  {
   "cell_type": "code",
   "execution_count": null,
   "metadata": {},
   "outputs": [],
   "source": [
    "# 设置列名为中文\n",
    "df.columns = [\"姓名\",\"国籍\",\"国家队位置\",\"国家队号码\",\"所在俱乐部\",\"所在俱乐部位置\",\"俱乐部号码\",\"加入俱乐部时间\",\"合同到期时间\",\"评分\",\"身高\",\"体重\",\"擅长左（右）脚\",\"出生日期\",\"年龄\",\"擅长位置\",\"工作效率\",\"非惯用脚使用频率\",\"技术等级\",\"控球技术\",\"盘球（带球）能力\",\"盯人能力\",\"铲球\",\"逼抢能力\",\"攻击能力\",\"反映\",\"攻击性跑位\",\"抢断\",\"视野\",\"镇静\",\"下底传中\",\"短传\",\"长传\",\"加速度\",\"速度\",\"体力\",\"强壮\",\"平衡\",\"敏捷度\",\"跳跃\",\"投球\",\"射门力量\",\"射门\",\"远射\",\"弧线\",\"任意球精准度\",\"点球\",\"凌空能力\",\"门将位置感\",\"扑救能力\",\"门将踢球能力\",\"扑球脱手几率\",\"门将反应度\"]"
   ]
  },
  {
   "cell_type": "code",
   "execution_count": null,
   "metadata": {},
   "outputs": [],
   "source": [
    "# 查看数据的基本情况\n",
    "df.info()"
   ]
  },
  {
   "cell_type": "markdown",
   "metadata": {},
   "source": [
    "### 缺失值处理"
   ]
  },
  {
   "cell_type": "code",
   "execution_count": null,
   "metadata": {},
   "outputs": [],
   "source": [
    "# 查看是否有缺失值\n",
    "# df['所在俱乐部位置'].isnull().any()\n",
    "df['所在俱乐部位置'].isna().any()"
   ]
  },
  {
   "cell_type": "code",
   "execution_count": null,
   "metadata": {},
   "outputs": [],
   "source": [
    "# 显示缺失值的数据\n",
    "# df[df['所在俱乐部位置'].isnull()]\n",
    "df[df['所在俱乐部位置'].isna()]"
   ]
  },
  {
   "cell_type": "code",
   "execution_count": null,
   "metadata": {},
   "outputs": [],
   "source": [
    "# 没有缺失值的数据\n",
    "# df2 = df[~df['所在俱乐部位置'].isna()]\n",
    "# df2 = df[df['所在俱乐部位置'].notna()]\n",
    "df2 = df[df['所在俱乐部位置'].notnull()]\n",
    "df2"
   ]
  },
  {
   "cell_type": "markdown",
   "metadata": {},
   "source": [
    "### 异常值处理"
   ]
  },
  {
   "cell_type": "code",
   "execution_count": null,
   "metadata": {},
   "outputs": [],
   "source": [
    "# 发现异常值\n",
    "df2.describe()"
   ]
  },
  {
   "cell_type": "code",
   "execution_count": null,
   "metadata": {},
   "outputs": [],
   "source": [
    "# 模拟创造一个异常值\n",
    "df2.loc[0,'评分'] = 888\n",
    "df2['评分']"
   ]
  },
  {
   "cell_type": "code",
   "execution_count": null,
   "metadata": {},
   "outputs": [],
   "source": [
    "# 通过条件判断筛选异常值\n",
    "# df2[df2['评分'] < 0]\n",
    "df2[df2['评分'] > 100]"
   ]
  },
  {
   "cell_type": "code",
   "execution_count": null,
   "metadata": {},
   "outputs": [],
   "source": [
    "# 通过图形化的方式查看异常值,注意：需要安装matplotlib==3.8.0\n",
    "# 通过箱图查看异常值\n",
    "df2.boxplot(column='评分')"
   ]
  },
  {
   "cell_type": "code",
   "execution_count": null,
   "metadata": {},
   "outputs": [],
   "source": [
    "# 对数据进行修改\n",
    "df2.loc[0,'评分'] = 94"
   ]
  },
  {
   "cell_type": "markdown",
   "metadata": {},
   "source": [
    "### 重复值处理"
   ]
  },
  {
   "cell_type": "code",
   "execution_count": null,
   "metadata": {},
   "outputs": [],
   "source": [
    "# 查看是否有重复值,默认是所有列都重复才算重复\n",
    "df2.duplicated().any()"
   ]
  },
  {
   "cell_type": "code",
   "execution_count": null,
   "metadata": {},
   "outputs": [],
   "source": [
    "# 查看是否有重复值,指定某些列重复才算重复，使用subset参数\n",
    "df2.duplicated(subset=['姓名']).any()"
   ]
  },
  {
   "cell_type": "code",
   "execution_count": null,
   "metadata": {},
   "outputs": [],
   "source": [
    "# 获取重复值\n",
    "df2[df2.duplicated(subset=['姓名'])]"
   ]
  },
  {
   "cell_type": "code",
   "execution_count": null,
   "metadata": {},
   "outputs": [],
   "source": [
    "# 获取没有重复值的数据,通过数据筛选\n",
    "# df2[~df2.duplicated(subset=['姓名'])]\n",
    "# 删除重复值\n",
    "df3 = df2.drop_duplicates(subset=['姓名'])\n",
    "df3"
   ]
  },
  {
   "cell_type": "code",
   "execution_count": null,
   "metadata": {},
   "outputs": [],
   "source": [
    "# 查看数据的列\n",
    "df3.columns"
   ]
  },
  {
   "cell_type": "markdown",
   "metadata": {},
   "source": [
    "### 查看身高和体重相关性"
   ]
  },
  {
   "cell_type": "code",
   "execution_count": null,
   "metadata": {},
   "outputs": [],
   "source": [
    "# 查看身高和体重\n",
    "df3[['身高','体重']].info()"
   ]
  },
  {
   "cell_type": "code",
   "execution_count": null,
   "metadata": {},
   "outputs": [],
   "source": [
    "# 去掉身高和体重的单位，通过字符串的替换\n",
    "# df3['身高'] = df3['身高'].str.replace('cm','').astype('int')\n",
    "# df3['体重'] = df3['体重'].str.replace('kg','').astype('int')\n",
    "# df3[['身高','体重']]"
   ]
  },
  {
   "cell_type": "code",
   "execution_count": null,
   "metadata": {},
   "outputs": [],
   "source": [
    "# 通过apply方式\n",
    "def handle_cm(v:str) -> int:\n",
    "    return int(v.replace('cm',''))\n",
    "\n",
    "df3['身高'] = df3['身高'].apply(handle_cm)\n",
    "# 使用匿名函数的方式 lambda\n",
    "df3['体重'] = df3['体重'].apply(lambda v:int(v.replace('kg','')))"
   ]
  },
  {
   "cell_type": "code",
   "execution_count": null,
   "metadata": {},
   "outputs": [],
   "source": [
    "df3[['身高','体重']].info()"
   ]
  },
  {
   "cell_type": "code",
   "execution_count": null,
   "metadata": {},
   "outputs": [],
   "source": [
    "# 查看数据的分布情况\n",
    "# 1. 通过命令的方式 describe\n",
    "df3[['身高','体重']].describe()"
   ]
  },
  {
   "cell_type": "code",
   "execution_count": null,
   "metadata": {},
   "outputs": [],
   "source": [
    "# 2. 通过图形化的方式 直方图、密度图\n",
    "# 画图的方式 matplotlib\\ pandas\n",
    "# 导入模块\n",
    "import matplotlib.pyplot as plt\n",
    "#解决中文乱码\n",
    "plt.rcParams['font.sans-serif'] = ['KaiTi'] # 指定默认字体\n",
    "plt.rcParams['axes.unicode_minus'] = False # 解决保存图像是负号'-'显示为方块的问题"
   ]
  },
  {
   "cell_type": "code",
   "execution_count": null,
   "metadata": {},
   "outputs": [],
   "source": [
    "# 通过matplotlib画直方图\n",
    "plt.hist(df3['身高'],bins=15)"
   ]
  },
  {
   "cell_type": "code",
   "execution_count": null,
   "metadata": {},
   "outputs": [],
   "source": [
    "# 通过pandas画直方图\n",
    "df3['身高'].hist(bins=15)"
   ]
  },
  {
   "cell_type": "code",
   "execution_count": null,
   "metadata": {},
   "outputs": [],
   "source": [
    "df3['体重'].hist(bins=15)"
   ]
  },
  {
   "cell_type": "code",
   "execution_count": null,
   "metadata": {},
   "outputs": [],
   "source": [
    "# pip install scipy==1.11.2\n",
    "# 通过pandas画密度图\n",
    "# df3['身高'].plot(kind='kde')\n",
    "df3['体重'].plot(kind='kde')"
   ]
  },
  {
   "cell_type": "code",
   "execution_count": null,
   "metadata": {},
   "outputs": [],
   "source": [
    "# 查看数据\n",
    "df3['擅长左（右）脚'].head()"
   ]
  },
  {
   "cell_type": "code",
   "execution_count": null,
   "metadata": {},
   "outputs": [],
   "source": [
    "# 通过value_counts查看数据的情况\n",
    "df3['擅长左（右）脚'].value_counts()"
   ]
  },
  {
   "cell_type": "code",
   "execution_count": null,
   "metadata": {},
   "outputs": [],
   "source": [
    "# 通过能列进行分组，查看数据的情况\n",
    "dfg = df3.groupby('擅长左（右）脚')\n",
    "dfg['擅长左（右）脚'].count()"
   ]
  },
  {
   "cell_type": "code",
   "execution_count": null,
   "metadata": {},
   "outputs": [],
   "source": [
    "# 通过图形化的方式查看数据的情况\n",
    "# 统计数量使用 饼图、柱状图\n",
    "# 通过pandas画饼图\n",
    "df3['擅长左（右）脚'].value_counts().plot(kind='pie',autopct='%.2f%%',fontsize=15)\n",
    "# dfg['擅长左（右）脚'].count().plot(kind='pie',autopct='%.2f%%',fontsize=15)"
   ]
  },
  {
   "cell_type": "code",
   "execution_count": null,
   "metadata": {},
   "outputs": [],
   "source": [
    "# 通过pandas画柱状图\n",
    "# df3['擅长左（右）脚'].value_counts().plot(kind='bar',fontsize=15)\n",
    "df3['擅长左（右）脚'].value_counts().plot(kind='barh',fontsize=15)"
   ]
  },
  {
   "cell_type": "markdown",
   "metadata": {},
   "source": [
    "### 获取评分前10的运动员"
   ]
  },
  {
   "cell_type": "code",
   "execution_count": null,
   "metadata": {},
   "outputs": [],
   "source": [
    "# 获取评分前10的运动员\n",
    "# df3[['姓名','评分']].sort_values(by='评分',ascending=False).head(10)\n",
    "df3[['姓名','评分','所在俱乐部']].sort_values(by='评分',ascending=False).head(10)"
   ]
  },
  {
   "cell_type": "markdown",
   "metadata": {},
   "source": [
    "### 获取前10的 俱乐部，根据球员的评分"
   ]
  },
  {
   "cell_type": "code",
   "execution_count": null,
   "metadata": {},
   "outputs": [],
   "source": [
    "# 获取前10的 俱乐部，根据球员的评分\n",
    "dfg1 = df3.groupby('所在俱乐部')\n",
    "dfg1['评分'].mean().sort_values(ascending=False).head(10)"
   ]
  },
  {
   "cell_type": "code",
   "execution_count": null,
   "metadata": {},
   "outputs": [],
   "source": [
    "# 查看俱乐部的球员人数，球员的平均分\n",
    "rs1 = dfg1['评分'].agg(['mean','count'])"
   ]
  },
  {
   "cell_type": "code",
   "execution_count": null,
   "metadata": {},
   "outputs": [],
   "source": [
    "# 查看俱乐部的球员人数，球员的平均分,过滤掉人数小于25\n",
    "# rs1['count']>=25\n",
    "# 查看俱乐部的球员人数，球员的平均分,过滤掉人数小于25,排名前10的俱乐部\n",
    "rs1[rs1['count']>=25].sort_values(by='mean',ascending=False).head(10)"
   ]
  },
  {
   "cell_type": "code",
   "execution_count": null,
   "metadata": {},
   "outputs": [],
   "source": [
    "# 根据排名进行绘制图表\n",
    "rs1[rs1['count']>=25].sort_values(by='mean',ascending=False).head(10).plot(kind='bar')"
   ]
  },
  {
   "cell_type": "markdown",
   "metadata": {},
   "source": [
    "### 分析运动员与出生日期是否相关"
   ]
  },
  {
   "cell_type": "code",
   "execution_count": null,
   "metadata": {},
   "outputs": [],
   "source": [
    "# 预处理数据\n",
    "data = df3['出生日期'].str.split('/',expand=True)\n",
    "# 获取年份\n",
    "data[2].value_counts()"
   ]
  },
  {
   "cell_type": "code",
   "execution_count": null,
   "metadata": {},
   "outputs": [],
   "source": [
    "# 通过图表分析和年份是否相关\n",
    "data[2].value_counts().plot(kind='bar')"
   ]
  },
  {
   "cell_type": "code",
   "execution_count": null,
   "metadata": {},
   "outputs": [],
   "source": [
    "# 通过图表分析和月份是否相关\n",
    "data[0].value_counts().plot(kind='bar')"
   ]
  },
  {
   "cell_type": "code",
   "execution_count": null,
   "metadata": {},
   "outputs": [],
   "source": [
    "# 通过图表分析和日是否相关\n",
    "data[1].value_counts().plot(kind='bar')"
   ]
  },
  {
   "cell_type": "code",
   "execution_count": null,
   "metadata": {},
   "outputs": [],
   "source": [
    "# 获取评分大于80的球员\n",
    "df4 = df3[df3['评分']>=80]\n",
    "data2 = df4['出生日期'].str.split('/',expand=True)\n",
    "data2"
   ]
  },
  {
   "cell_type": "code",
   "execution_count": null,
   "metadata": {},
   "outputs": [],
   "source": [
    "# 通过图表分析和年份是否相关\n",
    "# data2[2].value_counts().plot(kind='bar')\n",
    "# 通过图表分析和日是否相关\n",
    "# data2[1].value_counts().plot(kind='bar')\n",
    "# 通过图表分析和月是否相关\n",
    "data2[0].value_counts().plot(kind='bar')"
   ]
  },
  {
   "cell_type": "markdown",
   "metadata": {},
   "source": [
    "### 身高与体重的相关性"
   ]
  },
  {
   "cell_type": "code",
   "execution_count": null,
   "metadata": {},
   "outputs": [],
   "source": [
    "# 通过 命令的方式 查看数据的相关性\n",
    "# 使用 corr()方法 查看数据的相关性，值在-1到1之间，值越大，相关性越强\n",
    "# df3['身高'].corr(df3['体重'])\n",
    "# df3['身高'].corr(df3['评分'])\n",
    "# df3['体重'].corr(df3['评分'])\n",
    "df3[['身高','体重','评分','技术等级']].corr()"
   ]
  },
  {
   "cell_type": "code",
   "execution_count": null,
   "metadata": {},
   "outputs": [],
   "source": [
    "# 通过 图表的方式 查看数据的相关性\n",
    "# df3.plot(kind='scatter',x='身高',y='体重')\n",
    "# df3.plot(kind='scatter',x='身高',y='评分')\n",
    "# df3.plot(kind='scatter',x='体重',y='评分')\n",
    "df3.plot.scatter(x='体重',y='体重')"
   ]
  },
  {
   "cell_type": "code",
   "execution_count": null,
   "metadata": {},
   "outputs": [],
   "source": [
    "# 分析指标数据之间的相关性\n",
    "df3.select_dtypes(include=['number']).corr()"
   ]
  },
  {
   "cell_type": "code",
   "execution_count": null,
   "metadata": {},
   "outputs": [],
   "source": [
    "# 筛选和评分相关性的数据\n",
    "# df3.select_dtypes(include=['number']).corr()['评分']\n",
    "# 筛选和评分相关性的数据，比较强的前10个指标\n",
    "df3.select_dtypes(include=['number']).corr()['评分'].sort_values(ascending=False).head(10)"
   ]
  },
  {
   "cell_type": "code",
   "execution_count": null,
   "metadata": {},
   "outputs": [],
   "source": [
    "# 查看评分和年龄的相关性\n",
    "df3.plot.scatter(x='年龄',y='评分')"
   ]
  },
  {
   "cell_type": "code",
   "execution_count": null,
   "metadata": {},
   "outputs": [],
   "source": [
    "# 对年龄进行分组\n",
    "pd.cut(df3['年龄'],bins=4,labels=['青年','中年','壮年','老年'])"
   ]
  },
  {
   "cell_type": "code",
   "execution_count": null,
   "metadata": {},
   "outputs": [],
   "source": [
    "# 将切分好的数据，添加到原来的数据中\n",
    "df3['age'] = pd.cut(df3['年龄'],bins=4,labels=['青年','中年','壮年','老年'])\n",
    "df3"
   ]
  },
  {
   "cell_type": "code",
   "execution_count": null,
   "metadata": {},
   "outputs": [],
   "source": [
    "# 按照年龄分组，查看评分的情况\n",
    "df3.groupby('age')['评分'].mean()"
   ]
  },
  {
   "cell_type": "code",
   "execution_count": null,
   "metadata": {},
   "outputs": [],
   "source": [
    " # 通过图表，按照年龄分组，查看评分的情况\n",
    " df3.groupby('age')['评分'].mean().plot(kind='line')"
   ]
  },
  {
   "cell_type": "code",
   "execution_count": null,
   "metadata": {},
   "outputs": [],
   "source": [
    "# 按照年龄分组，指定分组的边界\n",
    "pd.cut(df3['年龄'],bins=[10,30,40,50],labels=['青年','中年','壮年'])"
   ]
  }
 ],
 "metadata": {
  "kernelspec": {
   "display_name": "football_env",
   "language": "python",
   "name": "python3"
  },
  "language_info": {
   "codemirror_mode": {
    "name": "ipython",
    "version": 3
   },
   "file_extension": ".py",
   "mimetype": "text/x-python",
   "name": "python",
   "nbconvert_exporter": "python",
   "pygments_lexer": "ipython3",
   "version": "3.10.10"
  },
  "orig_nbformat": 4
 },
 "nbformat": 4,
 "nbformat_minor": 2
}
