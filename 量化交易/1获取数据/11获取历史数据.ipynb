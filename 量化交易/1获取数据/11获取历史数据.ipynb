{
 "cells": [
  {
   "cell_type": "code",
   "execution_count": 6,
   "metadata": {},
   "outputs": [],
   "source": [
    "import jqdatasdk as jq\n",
    "import pandas as pd\n",
    "jq.auth('15661317439','Ax020629.')"
   ]
  },
  {
   "cell_type": "code",
   "execution_count": 7,
   "metadata": {},
   "outputs": [
    {
     "data": {
      "text/plain": [
       "'\\n名词解释：\\n\\n龙虎榜数据：股市术语，\\n沪深交易龙虎榜指每日两市中涨跌幅、换手率等由大到小的排名榜单，\\n并从中可以看到龙虎榜单中的股票在哪个证券营业部的成交量较大。\\n该数据有助于了解当日异动个股的资金进出情况，判断是游资所为还是机构所为。\\n'"
      ]
     },
     "execution_count": 7,
     "metadata": {},
     "output_type": "execute_result"
    }
   ],
   "source": [
    "from jqdatasdk import *\n",
    "'''\n",
    "名词解释：\n",
    "\n",
    "龙虎榜数据：股市术语，\n",
    "沪深交易龙虎榜指每日两市中涨跌幅、换手率等由大到小的排名榜单，\n",
    "并从中可以看到龙虎榜单中的股票在哪个证券营业部的成交量较大。\n",
    "该数据有助于了解当日异动个股的资金进出情况，判断是游资所为还是机构所为。\n",
    "'''"
   ]
  },
  {
   "cell_type": "code",
   "execution_count": null,
   "metadata": {},
   "outputs": [],
   "source": [
    "# 获取历史数据,查询多个标的单个数据字段\n",
    "df1 = jq.history_engine(count=5, unit='1d', field='close', \n",
    "               security_list=['000001.XSHE','000002.XSHE','000009.XSHE'], \n",
    "               df=True, skip_paused=False, fq='pre',\n",
    "               end_dt='2023-06-01')\n",
    "\n",
    "# 获取历史数据,查询单个标的多个数据字段\n",
    "df2 = attribute_history_engine('000009.XSHE', count=5, unit='1d',\n",
    "               fields=['open', 'close', 'high', 'low', 'volume','money'],\n",
    "               skip_paused=True, df=True, fq='pre',\n",
    "               end_dt='2023-06-01')\n",
    "\n",
    "display(df1,df2)"
   ]
  }
 ],
 "metadata": {
  "kernelspec": {
   "display_name": "base",
   "language": "python",
   "name": "python3"
  },
  "language_info": {
   "codemirror_mode": {
    "name": "ipython",
    "version": 3
   },
   "file_extension": ".py",
   "mimetype": "text/x-python",
   "name": "python",
   "nbconvert_exporter": "python",
   "pygments_lexer": "ipython3",
   "version": "3.11.4"
  }
 },
 "nbformat": 4,
 "nbformat_minor": 2
}
