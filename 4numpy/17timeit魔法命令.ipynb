{
 "cells": [
  {
   "cell_type": "code",
   "execution_count": 8,
   "metadata": {},
   "outputs": [
    {
     "data": {
      "text/plain": [
       "'\\ntimeit计时更为精确\\ntimeit可以循环多次执行被统计语句,得到平均执行时间,支持行模式和单元格模式。\\ntimeit命令参数,-n指定每轮测试次数,-r指定测试轮数\\n'"
      ]
     },
     "execution_count": 8,
     "metadata": {},
     "output_type": "execute_result"
    }
   ],
   "source": [
    "import numpy as np\n",
    "import time\n",
    "'''\n",
    "timeit计时更为精确\n",
    "timeit可以循环多次执行被统计语句,得到平均执行时间,支持行模式和单元格模式。\n",
    "timeit命令参数,-n指定每轮测试次数,-r指定测试轮数\n",
    "'''\n",
    "\n",
    "# time对一些执行较快的代码的时间统计不精确"
   ]
  },
  {
   "cell_type": "code",
   "execution_count": 9,
   "metadata": {},
   "outputs": [
    {
     "name": "stdout",
     "output_type": "stream",
     "text": [
      "CPU times: total: 0 ns\n",
      "Wall time: 0 ns\n"
     ]
    }
   ],
   "source": [
    "%time a = 1"
   ]
  },
  {
   "cell_type": "code",
   "execution_count": 11,
   "metadata": {},
   "outputs": [
    {
     "name": "stdout",
     "output_type": "stream",
     "text": [
      "12.7 ns ± 0.245 ns per loop (mean ± std. dev. of 7 runs, 100,000,000 loops each)\n",
      "14.6 ns ± 1.08 ns per loop (mean ± std. dev. of 3 runs, 1,000 loops each)\n"
     ]
    }
   ],
   "source": [
    "%timeit a = 1\n",
    "%timeit -n 1000 -r 3 a = 1"
   ]
  },
  {
   "cell_type": "markdown",
   "metadata": {},
   "source": [
    "第一行语句（与timeit同一行语句）为初始化语句，作用为后续代码中变量提供初始化功能。\n",
    "初始化语句执行次数由轮数来决定。\n",
    "初始化语句每轮测试只执行一次，且不参与计时。第二行至整个单元格末尾语句会执行相应次数，并参与计时。"
   ]
  },
  {
   "cell_type": "code",
   "execution_count": 13,
   "metadata": {},
   "outputs": [
    {
     "name": "stdout",
     "output_type": "stream",
     "text": [
      "初始化语句\n",
      "hello\n",
      "python\n",
      "hello\n",
      "python\n",
      "初始化语句\n",
      "hello\n",
      "python\n",
      "hello\n",
      "python\n",
      "初始化语句\n",
      "hello\n",
      "python\n",
      "hello\n",
      "python\n",
      "4.13 µs ± 352 ns per loop (mean ± std. dev. of 3 runs, 2 loops each)\n"
     ]
    }
   ],
   "source": [
    "%%timeit -n 2 -r 3 print('初始化语句')\n",
    "print('hello')\n",
    "print('python')\n",
    "'''\n",
    "第一行语句(与timeit同一行语句)为初始化语句,作用为后续代码中变量提供初始化功能。\n",
    "初始化语句执行次数由轮数来决定。\n",
    "初始化语句每轮测试只执行一次，且不参与计时。第二行至整个单元格末尾语句会执行相应次数，并参与计时。\n",
    "'''"
   ]
  }
 ],
 "metadata": {
  "kernelspec": {
   "display_name": "conda_env",
   "language": "python",
   "name": "python3"
  },
  "language_info": {
   "codemirror_mode": {
    "name": "ipython",
    "version": 3
   },
   "file_extension": ".py",
   "mimetype": "text/x-python",
   "name": "python",
   "nbconvert_exporter": "python",
   "pygments_lexer": "ipython3",
   "version": "3.11.4"
  }
 },
 "nbformat": 4,
 "nbformat_minor": 2
}
