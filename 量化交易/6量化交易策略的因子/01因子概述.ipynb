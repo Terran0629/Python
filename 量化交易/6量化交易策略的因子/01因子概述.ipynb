{
 "cells": [
  {
   "cell_type": "markdown",
   "metadata": {},
   "source": [
    "### 交易策略的因子"
   ]
  },
  {
   "cell_type": "code",
   "execution_count": null,
   "metadata": {},
   "outputs": [],
   "source": [
    "'''\n",
    "在量化交易中,\n",
    "因子就是量化选股或量化择时的标准。\n",
    "\n",
    "例如,如果认为净利润同比增长率高的公司是好公司,\n",
    "那就把净利润同比增长率大于50%的股票选出来,\n",
    "此时,净利润同比增长率大于50%就是因子\n",
    "'''"
   ]
  },
  {
   "cell_type": "markdown",
   "metadata": {},
   "source": [
    "### 因子的类型"
   ]
  },
  {
   "cell_type": "code",
   "execution_count": null,
   "metadata": {},
   "outputs": [],
   "source": [
    "'''\n",
    "因子在量化交易中可以分为两类：\n",
    "\n",
    "量化选股因子（好股票的标准）\n",
    "大多为财务指数,如营业利润率、销售净利率、营业收入环比增长率等\n",
    "\n",
    "量化择时因子\n",
    "大多为技术指标,如均线、换手率、波动率等\n",
    "'''"
   ]
  },
  {
   "cell_type": "markdown",
   "metadata": {},
   "source": [
    "### 因子分析的作用\n"
   ]
  },
  {
   "cell_type": "code",
   "execution_count": null,
   "metadata": {},
   "outputs": [],
   "source": [
    "'''\n",
    "相比之前只能在回测模块中一个一个地测试每个指标来说,\n",
    "\n",
    "因子分析功能规避了回测的噪音、复杂的资产配置和交易系统所产生的导致指标失真的问题\n",
    "\n",
    "因此因子分析功能非常强大\n",
    "'''"
   ]
  }
 ],
 "metadata": {
  "language_info": {
   "name": "python"
  }
 },
 "nbformat": 4,
 "nbformat_minor": 2
}
