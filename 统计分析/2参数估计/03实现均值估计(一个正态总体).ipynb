{
 "cells": [
  {
   "cell_type": "code",
   "execution_count": 5,
   "metadata": {},
   "outputs": [],
   "source": [
    "import numpy as np\n",
    "from scipy.stats import norm, t, chi2"
   ]
  },
  {
   "cell_type": "code",
   "execution_count": 6,
   "metadata": {},
   "outputs": [],
   "source": [
    "def mean_ci_est(data,alpha,sigma=None):\n",
    "    n = len(data)  # 样本容量\n",
    "    sample_mean = np.mean(data)     # 样本均值\n",
    "\n",
    "    if sigma is None:   # 方差未知的情况\n",
    "        s = np.std(data)\n",
    "        se = s / np.sqrt(n)\n",
    "        # t.ppf(alpha/2, n-1)返回的是左侧面积为alpha/2对应的t值\n",
    "        t_value = np.abs(t.ppf(alpha / 2,n-1))\n",
    "        # 置信区间\n",
    "        return (sample_mean - se * t_value,sample_mean + se * t_value)\n",
    "\n",
    "\n",
    "    else:# 方差已知的情况\n",
    "        # 标准误\n",
    "        se = sigma / np.sqrt(n)\n",
    "        # norm.ppf(alpha / 2)返回的是左侧面积为alpha/2对应的z值\n",
    "        z_value = abs(norm.ppf(alpha/2))\n",
    "        # 置信区间\n",
    "        return (sample_mean - se * z_value,sample_mean + se * z_value)\n",
    "\n"
   ]
  },
  {
   "cell_type": "code",
   "execution_count": 7,
   "metadata": {},
   "outputs": [
    {
     "name": "stdout",
     "output_type": "stream",
     "text": [
      "1518.4 (1066.9558093661096, 1969.8441906338905)\n",
      "2716.4 (1740.433238065152, 3692.366761934848)\n"
     ]
    }
   ],
   "source": [
    "salary_18 = [1484, 785, 1598, 1366, 1716, 1020, 1716, 785, 3113, 1601]\n",
    "salary_35 = [902, 4508, 3809, 3923, 4276, 2065, 1601, 553, 3345, 2182]\n",
    "\n",
    "print(np.mean(salary_18), mean_ci_est(salary_18, 0.05))\n",
    "print(np.mean(salary_35), mean_ci_est(salary_35, 0.05))"
   ]
  }
 ],
 "metadata": {
  "kernelspec": {
   "display_name": "base",
   "language": "python",
   "name": "python3"
  },
  "language_info": {
   "codemirror_mode": {
    "name": "ipython",
    "version": 3
   },
   "file_extension": ".py",
   "mimetype": "text/x-python",
   "name": "python",
   "nbconvert_exporter": "python",
   "pygments_lexer": "ipython3",
   "version": "3.11.4"
  }
 },
 "nbformat": 4,
 "nbformat_minor": 2
}
