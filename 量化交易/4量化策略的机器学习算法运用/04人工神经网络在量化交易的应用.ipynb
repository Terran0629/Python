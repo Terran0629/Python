{
 "cells": [
  {
   "cell_type": "markdown",
   "metadata": {},
   "source": [
    "实战需求\n",
    "\n",
    "利用人工神经网络算法，预测中国石化的涨跌行情，然后再将预测结果与实际情况进行对比，判断预测对错。"
   ]
  },
  {
   "cell_type": "code",
   "execution_count": 5,
   "metadata": {},
   "outputs": [],
   "source": [
    "import talib   #导入talib库\n",
    "from jqdata import *  #导入聚宽函数库\n",
    "from pybrain.datasets import ClassificationDataSet  #从pybrain的数据集中导入分类数据集"
   ]
  },
  {
   "cell_type": "code",
   "execution_count": 4,
   "metadata": {},
   "outputs": [],
   "source": [
    "test_stock = '600028.XSHG'  #设置测试标的为中国石化\n",
    "start_date = datetime.date(2023, 1, 4)  #设置开始时间\n",
    "end_date = datetime.date(2023, 4, 21)   #设置结束时间"
   ]
  },
  {
   "cell_type": "code",
   "execution_count": 6,
   "metadata": {},
   "outputs": [],
   "source": [
    "trading_days = list(get_all_trade_days())  #获取所有交易日\n",
    "start_date_index = trading_days.index(start_date)  #获取开始时间\n",
    "end_date_index = trading_days.index(end_date)   #获取结束时间"
   ]
  },
  {
   "cell_type": "code",
   "execution_count": 7,
   "metadata": {},
   "outputs": [],
   "source": [
    "#训练数据\n",
    "#这是一个分类数据集，参数有3个,分别是输入的特征的数目、输出的结果的数目、类别的数目\n",
    "#输入的特征的数目有2个，输出的结果只有一个结果，其中的类别是涨或者跌，所以参数是2，1，2\n",
    "train_data = ClassificationDataSet(2, 1, nb_classes=2)\n",
    "# 测试数据\n",
    "test_data = ClassificationDataSet(2, 1, nb_classes=2)"
   ]
  },
  {
   "cell_type": "code",
   "execution_count": 10,
   "metadata": {},
   "outputs": [],
   "source": [
    "for index in range(start_date_index, end_date_index):\n",
    "    # 得到计算指标的所有数据\n",
    "    start_day = trading_days[index - 30]\n",
    "    end_day = trading_days[index]\n",
    "    \n",
    "    #利用get_price()函数获得股票数据\n",
    "    stock_data = get_price(test_stock,start_day,end_day,\n",
    "                           frequency='daily', fields=['close'])\n",
    "    \n",
    "    #变义变量并赋值为收盘价\n",
    "    close_prices = stock_data['close'].values\n",
    "    \n",
    "    #通过数据计算指标\n",
    "    # -2是保证获取的数据是昨天的，-1就是通过今天的数据计算出来的指标\n",
    "    sma = talib.SMA(close_prices)[-2]  #简单移动平均线指标\n",
    "    wma = talib.WMA(close_prices)[-2]  #加权移动平均数指标\n",
    "    \n",
    "    #训练数据或者测试数据的输入特征\n",
    "    features = []\n",
    "    features.append(sma)\n",
    "    features.append(wma)\n",
    "    \n",
    "    # 训练数据或者测试的标签数据，就是涨或者跌，涨用1表示，平或者跌用0表示\n",
    "    label = 0\n",
    "    if close_prices[-1] > close_prices[-2]:\n",
    "       label = 1\n",
    "    \n",
    "    # 添加训练数据和测试数据\n",
    "    if index < end_date_index - 1:\n",
    "        train_data.addSample(features, [label])\n",
    "    else:\n",
    "        test_data.addSample(features, [label])\n",
    "\n",
    "    #采用独热编码将离散标称值转换为数值变量\n",
    "    train_data._convertToOneOfMany( )\n",
    "    test_data._convertToOneOfMany( )      "
   ]
  },
  {
   "cell_type": "code",
   "execution_count": 1,
   "metadata": {},
   "outputs": [
    {
     "ename": "ModuleNotFoundError",
     "evalue": "No module named 'structure'",
     "output_type": "error",
     "traceback": [
      "\u001b[1;31m---------------------------------------------------------------------------\u001b[0m",
      "\u001b[1;31mModuleNotFoundError\u001b[0m                       Traceback (most recent call last)",
      "Cell \u001b[1;32mIn[1], line 2\u001b[0m\n\u001b[0;32m      1\u001b[0m \u001b[38;5;66;03m#导入需要的数据包\u001b[39;00m\n\u001b[1;32m----> 2\u001b[0m \u001b[38;5;28;01mfrom\u001b[39;00m \u001b[38;5;21;01mpybrain\u001b[39;00m\u001b[38;5;21;01m.\u001b[39;00m\u001b[38;5;21;01mtools\u001b[39;00m\u001b[38;5;21;01m.\u001b[39;00m\u001b[38;5;21;01mshortcuts\u001b[39;00m \u001b[38;5;28;01mimport\u001b[39;00m buildNetwork\n\u001b[0;32m      3\u001b[0m \u001b[38;5;28;01mfrom\u001b[39;00m \u001b[38;5;21;01mpybrain\u001b[39;00m\u001b[38;5;21;01m.\u001b[39;00m\u001b[38;5;21;01msupervised\u001b[39;00m\u001b[38;5;21;01m.\u001b[39;00m\u001b[38;5;21;01mtrainers\u001b[39;00m \u001b[38;5;28;01mimport\u001b[39;00m BackpropTrainer\n\u001b[0;32m      4\u001b[0m \u001b[38;5;28;01mfrom\u001b[39;00m \u001b[38;5;21;01mpybrain\u001b[39;00m\u001b[38;5;21;01m.\u001b[39;00m\u001b[38;5;21;01mstructure\u001b[39;00m\u001b[38;5;21;01m.\u001b[39;00m\u001b[38;5;21;01mmodules\u001b[39;00m  \u001b[38;5;28;01mimport\u001b[39;00m SoftmaxLayer\n",
      "File \u001b[1;32md:\\Anaconda\\Lib\\site-packages\\pybrain\\__init__.py:1\u001b[0m\n\u001b[1;32m----> 1\u001b[0m \u001b[38;5;28;01mfrom\u001b[39;00m \u001b[38;5;21;01mstructure\u001b[39;00m\u001b[38;5;21;01m.\u001b[39;00m\u001b[38;5;21;01m__init__\u001b[39;00m \u001b[38;5;28;01mimport\u001b[39;00m \u001b[38;5;241m*\u001b[39m\n",
      "\u001b[1;31mModuleNotFoundError\u001b[0m: No module named 'structure'"
     ]
    }
   ],
   "source": [
    "#导入需要的数据包\n",
    "from pybrain.tools.shortcuts import buildNetwork\n",
    "from pybrain.supervised.trainers import BackpropTrainer\n",
    "from pybrain.structure.modules  import SoftmaxLayer\n",
    "from pybrain.utilities      import percentError"
   ]
  },
  {
   "cell_type": "code",
   "execution_count": 12,
   "metadata": {},
   "outputs": [
    {
     "name": "stdout",
     "output_type": "stream",
     "text": [
      "Total error:  0.138692077971\n",
      "预测误差: 0.0\n",
      "预测正确！\n"
     ]
    }
   ],
   "source": [
    "#创建神经网络\n",
    "fnn = buildNetwork( train_data.indim, 5, train_data.outdim, outclass=SoftmaxLayer)\n",
    "\n",
    "#训练神经网络\n",
    "trainer = BackpropTrainer( fnn, dataset=train_data, momentum=0.1, verbose=True, weightdecay=0.01)\n",
    "\n",
    "#训练一次，可以通过括号里面的数字调节训练的次数\n",
    "trainer.trainEpochs( 1 )\n",
    "\n",
    "# 计算预测误差，这个是误差，不是预测准确率，0表示预测对了，100%表示预测错了\n",
    "tstresult = percentError( trainer.testOnClassData(dataset=test_data ), \n",
    "                         test_data['class'] )\n",
    "\n",
    "\n",
    "print(\"预测误差:\",tstresult)\n",
    "if tstresult==0 :\n",
    "    print(\"预测正确！\")\n",
    "else :\n",
    "    print(\"预测错误！\")"
   ]
  }
 ],
 "metadata": {
  "kernelspec": {
   "display_name": "Python 3",
   "language": "python",
   "name": "python3"
  },
  "language_info": {
   "codemirror_mode": {
    "name": "ipython",
    "version": 3
   },
   "file_extension": ".py",
   "mimetype": "text/x-python",
   "name": "python",
   "nbconvert_exporter": "python",
   "pygments_lexer": "ipython3",
   "version": "3.11.4"
  },
  "toc": {
   "base_numbering": 1,
   "nav_menu": {},
   "number_sections": false,
   "sideBar": true,
   "skip_h1_title": false,
   "title_cell": "MarkDown菜单",
   "title_sidebar": "Contents",
   "toc_cell": false,
   "toc_position": {},
   "toc_section_display": true,
   "toc_window_display": false
  }
 },
 "nbformat": 4,
 "nbformat_minor": 2
}
