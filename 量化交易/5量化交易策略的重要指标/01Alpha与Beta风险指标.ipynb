{
 "cells": [
  {
   "cell_type": "markdown",
   "metadata": {},
   "source": [
    "### Alpha指标"
   ]
  },
  {
   "cell_type": "code",
   "execution_count": null,
   "metadata": {},
   "outputs": [],
   "source": [
    "'''\n",
    "Alpha表示与市场波动无关的超额收益,也就是投资者面临的'非系统性风险',常常用来衡量一个策略的好坏\n",
    "\n",
    "超额收益(超额回报):指从证券或投资组合中获得的投资回报超过具有相同风险水平的指数或基准的收益的部分\n",
    "\n",
    "注意\n",
    "交易策略相对于风险获得的收益判断：\n",
    "Alpha > 0,策略相对于风险获得了超额收益\n",
    "Alpha = 0,策略相对于风险获得了适当收益\n",
    "Alpha < 0,策略相对于风险获得了较少收益\n",
    "'''"
   ]
  },
  {
   "cell_type": "markdown",
   "metadata": {},
   "source": [
    "### Beta指标"
   ]
  },
  {
   "cell_type": "code",
   "execution_count": null,
   "metadata": {},
   "outputs": [],
   "source": [
    "'''\n",
    "Beta表示投资的'系统性风险',反映了策略对大盘变化的敏感性\n",
    "\n",
    "例如一个策略的Beta值为1.5,则大盘涨1%的时候,策略可能涨1.5%;\n",
    "如果一个策略的Beta值为-1.5,说明大盘涨1%的时候,策略可能跌1.5%\n",
    "\n",
    "\n",
    "注意\n",
    "Beta < 0,投资组合和基准的走向通常是反方向的\n",
    "Beta = 0,投资组合和基准的走向没有相关性,如固定收益类\n",
    "0 < Beta < 1,投资组合和基准的走向相同,但是比基准的移动幅度小\n",
    "Beta = 1,投资组合和基准的走向相同,并且和基准的移动幅度贴近\n",
    "Beta > 1,投资组合和基准的走向相同,但是比基准的移动幅度大\n",
    "'''"
   ]
  }
 ],
 "metadata": {
  "language_info": {
   "name": "python"
  }
 },
 "nbformat": 4,
 "nbformat_minor": 2
}
