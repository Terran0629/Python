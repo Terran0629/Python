{
 "cells": [
  {
   "cell_type": "code",
   "execution_count": 6,
   "metadata": {},
   "outputs": [],
   "source": [
    "import numpy as np\n",
    "from scipy.stats import norm, t, chi2, f"
   ]
  },
  {
   "cell_type": "code",
   "execution_count": 7,
   "metadata": {},
   "outputs": [],
   "source": [
    "def var_ratio_ci_est(data1, data2, alpha):\n",
    "    n1 = len(data1)\n",
    "    n2 = len(data2)\n",
    "    # F分布右侧面积\n",
    "    f_right_value = f.ppf(alpha/2, n1-1, n2-1)\n",
    "    # F分布左侧面积\n",
    "    f_left_value = f.ppf(1-alpha/2, n1-1, n2-1)\n",
    "    var_ratio = np.var(data1) / np.var(data2)\n",
    "    return (var_ratio / f_left_value, var_ratio / f_right_value)"
   ]
  },
  {
   "cell_type": "code",
   "execution_count": 8,
   "metadata": {},
   "outputs": [
    {
     "name": "stdout",
     "output_type": "stream",
     "text": [
      "(0.05314530971751432, 0.8614126063098585)\n"
     ]
    }
   ],
   "source": [
    "salary_18 = [1484, 785, 1598, 1366, 1716, 1020, 1716, 785, 3113, 1601]\n",
    "salary_35 = [902, 4508, 3809, 3923, 4276, 2065, 1601, 553, 3345, 2182]\n",
    "\n",
    "\n",
    "print(var_ratio_ci_est(salary_18, salary_35, 0.05))"
   ]
  }
 ],
 "metadata": {
  "kernelspec": {
   "display_name": "base",
   "language": "python",
   "name": "python3"
  },
  "language_info": {
   "codemirror_mode": {
    "name": "ipython",
    "version": 3
   },
   "file_extension": ".py",
   "mimetype": "text/x-python",
   "name": "python",
   "nbconvert_exporter": "python",
   "pygments_lexer": "ipython3",
   "version": "3.11.4"
  }
 },
 "nbformat": 4,
 "nbformat_minor": 2
}
