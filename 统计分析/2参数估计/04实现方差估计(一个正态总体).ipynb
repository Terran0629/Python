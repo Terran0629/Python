{
 "cells": [
  {
   "cell_type": "code",
   "execution_count": 5,
   "metadata": {},
   "outputs": [],
   "source": [
    "import numpy as np\n",
    "from scipy.stats import norm, t, chi2"
   ]
  },
  {
   "cell_type": "code",
   "execution_count": 6,
   "metadata": {},
   "outputs": [],
   "source": [
    "def var_ci_est(data,alpha):\n",
    "    n = len(data)       # 样本容量\n",
    "    s = np.var(data)    # 样本方差\n",
    "\n",
    "    # 卡方分布左侧的面积\n",
    "    chi2_left_value = chi2.ppf(1 - alpha/2, n-1)\n",
    "    # 卡方分布右侧的面积\n",
    "    chi2_right_value = chi2.ppf(alpha / 2, n-1)\n",
    "    # 左侧面积>右侧面积\n",
    "    return ((n-1) * s / chi2_left_value, (n-1) * s / chi2_right_value)"
   ]
  },
  {
   "cell_type": "code",
   "execution_count": 9,
   "metadata": {},
   "outputs": [
    {
     "name": "stdout",
     "output_type": "stream",
     "text": [
      "631.0754629994736 398256.24 (188421.9056837747, 1327329.3204650925)\n",
      "1364.3074580167038 1861334.8399999999 (880629.6611156773, 6203554.546528138)\n",
      "19.02276779864163\n",
      "2.7003894999803584\n"
     ]
    }
   ],
   "source": [
    "salary_18 = [1484, 785, 1598, 1366, 1716, 1020, 1716, 785, 3113, 1601]\n",
    "salary_35 = [902, 4508, 3809, 3923, 4276, 2065, 1601, 553, 3345, 2182]\n",
    "\n",
    "\n",
    "print(np.std(salary_18), np.var(salary_18), var_ci_est(salary_18, 0.05))\n",
    "print(np.std(salary_35), np.var(salary_35), var_ci_est(salary_35, 0.05))\n",
    "print(chi2.ppf(1 - 0.05/2, 10-1))\n",
    "print(chi2.ppf(0.05/2, 10-1))"
   ]
  }
 ],
 "metadata": {
  "kernelspec": {
   "display_name": "base",
   "language": "python",
   "name": "python3"
  },
  "language_info": {
   "codemirror_mode": {
    "name": "ipython",
    "version": 3
   },
   "file_extension": ".py",
   "mimetype": "text/x-python",
   "name": "python",
   "nbconvert_exporter": "python",
   "pygments_lexer": "ipython3",
   "version": "3.11.4"
  }
 },
 "nbformat": 4,
 "nbformat_minor": 2
}
