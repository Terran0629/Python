{
 "cells": [
  {
   "cell_type": "code",
   "execution_count": null,
   "metadata": {},
   "outputs": [],
   "source": [
    "import pandas as pd\n",
    "# 分组可以帮助我们更好地理解数据,进行统计分析和数据处理\n",
    "df = pd.read_excel('D:/数据分析/源码压缩/数据源/人口数据.xlsx')\n",
    "dfDivisionRegion"
   ]
  },
  {
   "cell_type": "code",
   "execution_count": 7,
   "metadata": {},
   "outputs": [
    {
     "data": {
      "text/plain": [
       "<bound method GroupBy.describe of <pandas.core.groupby.generic.DataFrameGroupBy object at 0x0000024DB28F9590>>"
      ]
     },
     "execution_count": 7,
     "metadata": {},
     "output_type": "execute_result"
    }
   ],
   "source": [
    "# 数据分组\n",
    "a = df.groupby('Division')\n",
    "# 查看数据\n",
    "a.groups\n",
    "a.describe()"
   ]
  },
  {
   "cell_type": "code",
   "execution_count": 9,
   "metadata": {},
   "outputs": [
    {
     "data": {
      "text/plain": [
       "{('East North Central', 'Midwest'): [9, 10, 11, 12, 13, 60, 61, 62, 63, 64, 111, 112, 113, 114, 115, 162, 163, 164, 165, 166, 213, 214, 215, 216, 217, 264, 265, 266, 267, 268, 315, 316, 317, 318, 319, 366, 367, 368, 369, 370, 417, 418, 419, 420, 421, 468, 469, 470, 471, 472, 519, 520, 521, 522, 523, 570, 571, 572, 573, 574, 621, 622, 623, 624, 625, 672, 673, 674, 675, 676, 723, 724, 725, 726, 727, 774, 775, 776, 777, 778, 825, 826, 827, 828, 829, 876, 877, 878, 879, 880, 927, 928, 929, 930, 931, 978, 979, 980, 981, 982, ...], ('East South Central', 'South'): [30, 31, 32, 33, 81, 82, 83, 84, 132, 133, 134, 135, 183, 184, 185, 186, 234, 235, 236, 237, 285, 286, 287, 288, 336, 337, 338, 339, 387, 388, 389, 390, 438, 439, 440, 441, 489, 490, 491, 492, 540, 541, 542, 543, 591, 592, 593, 594, 642, 643, 644, 645, 693, 694, 695, 696, 744, 745, 746, 747, 795, 796, 797, 798, 846, 847, 848, 849, 897, 898, 899, 900, 948, 949, 950, 951, 999, 1000, 1001, 1002, 1050, 1051, 1052, 1053, 1101, 1102, 1103, 1104, 1152, 1153, 1154, 1155, 1203, 1204, 1205, 1206, 1254, 1255, 1256, 1257, ...], ('Middle Atlantic', 'Northeast'): [6, 7, 8, 57, 58, 59, 108, 109, 110, 159, 160, 161, 210, 211, 212, 261, 262, 263, 312, 313, 314, 363, 364, 365, 414, 415, 416, 465, 466, 467, 516, 517, 518, 567, 568, 569, 618, 619, 620, 669, 670, 671, 720, 721, 722, 771, 772, 773, 822, 823, 824, 873, 874, 875, 924, 925, 926, 975, 976, 977, 1026, 1027, 1028, 1077, 1078, 1079, 1128, 1129, 1130, 1179, 1180, 1181, 1230, 1231, 1232, 1281, 1282, 1283, 1332, 1333, 1334, 1383, 1384, 1385, 1434, 1435, 1436, 1485, 1486, 1487, 1536, 1537, 1538, 1587, 1588, 1589, 1638, 1639, 1640, 1689, ...], ('Mountain', 'West'): [38, 39, 40, 41, 42, 43, 44, 45, 89, 90, 91, 92, 93, 94, 95, 96, 140, 141, 142, 143, 144, 145, 146, 147, 191, 192, 193, 194, 195, 196, 197, 198, 242, 243, 244, 245, 246, 247, 248, 249, 293, 294, 295, 296, 297, 298, 299, 300, 344, 345, 346, 347, 348, 349, 350, 351, 395, 396, 397, 398, 399, 400, 401, 402, 446, 447, 448, 449, 450, 451, 452, 453, 497, 498, 499, 500, 501, 502, 503, 504, 548, 549, 550, 551, 552, 553, 554, 555, 599, 600, 601, 602, 603, 604, 605, 606, 650, 651, 652, 653, ...], ('New England', 'Northeast'): [0, 1, 2, 3, 4, 5, 51, 52, 53, 54, 55, 56, 102, 103, 104, 105, 106, 107, 153, 154, 155, 156, 157, 158, 204, 205, 206, 207, 208, 209, 255, 256, 257, 258, 259, 260, 306, 307, 308, 309, 310, 311, 357, 358, 359, 360, 361, 362, 408, 409, 410, 411, 412, 413, 459, 460, 461, 462, 463, 464, 510, 511, 512, 513, 514, 515, 561, 562, 563, 564, 565, 566, 612, 613, 614, 615, 616, 617, 663, 664, 665, 666, 667, 668, 714, 715, 716, 717, 718, 719, 765, 766, 767, 768, 769, 770, 816, 817, 818, 819, ...], ('Pacific', 'West'): [46, 47, 48, 49, 50, 97, 98, 99, 100, 101, 148, 149, 150, 151, 152, 199, 200, 201, 202, 203, 250, 251, 252, 253, 254, 301, 302, 303, 304, 305, 352, 353, 354, 355, 356, 403, 404, 405, 406, 407, 454, 455, 456, 457, 458, 505, 506, 507, 508, 509, 556, 557, 558, 559, 560, 607, 608, 609, 610, 611, 658, 659, 660, 661, 662, 709, 710, 711, 712, 713, 760, 761, 762, 763, 764, 811, 812, 813, 814, 815, 862, 863, 864, 865, 866, 913, 914, 915, 916, 917, 964, 965, 966, 967, 968, 1015, 1016, 1017, 1018, 1019, ...], ('South Atlantic', 'South'): [21, 22, 23, 24, 25, 26, 27, 28, 29, 72, 73, 74, 75, 76, 77, 78, 79, 80, 123, 124, 125, 126, 127, 128, 129, 130, 131, 174, 175, 176, 177, 178, 179, 180, 181, 182, 225, 226, 227, 228, 229, 230, 231, 232, 233, 276, 277, 278, 279, 280, 281, 282, 283, 284, 327, 328, 329, 330, 331, 332, 333, 334, 335, 378, 379, 380, 381, 382, 383, 384, 385, 386, 429, 430, 431, 432, 433, 434, 435, 436, 437, 480, 481, 482, 483, 484, 485, 486, 487, 488, 531, 532, 533, 534, 535, 536, 537, 538, 539, 582, ...], ('West North Central', 'Midwest'): [14, 15, 16, 17, 18, 19, 20, 65, 66, 67, 68, 69, 70, 71, 116, 117, 118, 119, 120, 121, 122, 167, 168, 169, 170, 171, 172, 173, 218, 219, 220, 221, 222, 223, 224, 269, 270, 271, 272, 273, 274, 275, 320, 321, 322, 323, 324, 325, 326, 371, 372, 373, 374, 375, 376, 377, 422, 423, 424, 425, 426, 427, 428, 473, 474, 475, 476, 477, 478, 479, 524, 525, 526, 527, 528, 529, 530, 575, 576, 577, 578, 579, 580, 581, 626, 627, 628, 629, 630, 631, 632, 677, 678, 679, 680, 681, 682, 683, 728, 729, ...], ('West South Central', 'South'): [34, 35, 36, 37, 85, 86, 87, 88, 136, 137, 138, 139, 187, 188, 189, 190, 238, 239, 240, 241, 289, 290, 291, 292, 340, 341, 342, 343, 391, 392, 393, 394, 442, 443, 444, 445, 493, 494, 495, 496, 544, 545, 546, 547, 595, 596, 597, 598, 646, 647, 648, 649, 697, 698, 699, 700, 748, 749, 750, 751, 799, 800, 801, 802, 850, 851, 852, 853, 901, 902, 903, 904, 952, 953, 954, 955, 1003, 1004, 1005, 1006, 1054, 1055, 1056, 1057, 1105, 1106, 1107, 1108, 1156, 1157, 1158, 1159, 1207, 1208, 1209, 1210, 1258, 1259, 1260, 1261, ...]}"
      ]
     },
     "execution_count": 9,
     "metadata": {},
     "output_type": "execute_result"
    }
   ],
   "source": [
    "# 多个分组\n",
    "b = df.groupby(['Division','Region'])\n",
    "b.groups"
   ]
  },
  {
   "cell_type": "code",
   "execution_count": 10,
   "metadata": {},
   "outputs": [
    {
     "data": {
      "text/html": [
       "<div>\n",
       "<style scoped>\n",
       "    .dataframe tbody tr th:only-of-type {\n",
       "        vertical-align: middle;\n",
       "    }\n",
       "\n",
       "    .dataframe tbody tr th {\n",
       "        vertical-align: top;\n",
       "    }\n",
       "\n",
       "    .dataframe thead th {\n",
       "        text-align: right;\n",
       "    }\n",
       "</style>\n",
       "<table border=\"1\" class=\"dataframe\">\n",
       "  <thead>\n",
       "    <tr style=\"text-align: right;\">\n",
       "      <th></th>\n",
       "      <th>Division</th>\n",
       "      <th>Name</th>\n",
       "      <th>Region</th>\n",
       "      <th>Age</th>\n",
       "      <th>Gender</th>\n",
       "      <th>Counts</th>\n",
       "    </tr>\n",
       "  </thead>\n",
       "  <tbody>\n",
       "    <tr>\n",
       "      <th>9</th>\n",
       "      <td>East North Central</td>\n",
       "      <td>Illinois</td>\n",
       "      <td>Midwest</td>\n",
       "      <td>0</td>\n",
       "      <td>Male</td>\n",
       "      <td>88525</td>\n",
       "    </tr>\n",
       "    <tr>\n",
       "      <th>10</th>\n",
       "      <td>East North Central</td>\n",
       "      <td>Indiana</td>\n",
       "      <td>Midwest</td>\n",
       "      <td>0</td>\n",
       "      <td>Male</td>\n",
       "      <td>43266</td>\n",
       "    </tr>\n",
       "    <tr>\n",
       "      <th>11</th>\n",
       "      <td>East North Central</td>\n",
       "      <td>Michigan</td>\n",
       "      <td>Midwest</td>\n",
       "      <td>0</td>\n",
       "      <td>Male</td>\n",
       "      <td>67319</td>\n",
       "    </tr>\n",
       "    <tr>\n",
       "      <th>12</th>\n",
       "      <td>East North Central</td>\n",
       "      <td>Ohio</td>\n",
       "      <td>Midwest</td>\n",
       "      <td>0</td>\n",
       "      <td>Male</td>\n",
       "      <td>75821</td>\n",
       "    </tr>\n",
       "    <tr>\n",
       "      <th>13</th>\n",
       "      <td>East North Central</td>\n",
       "      <td>Wisconsin</td>\n",
       "      <td>Midwest</td>\n",
       "      <td>0</td>\n",
       "      <td>Male</td>\n",
       "      <td>34685</td>\n",
       "    </tr>\n",
       "    <tr>\n",
       "      <th>...</th>\n",
       "      <td>...</td>\n",
       "      <td>...</td>\n",
       "      <td>...</td>\n",
       "      <td>...</td>\n",
       "      <td>...</td>\n",
       "      <td>...</td>\n",
       "    </tr>\n",
       "    <tr>\n",
       "      <th>8730</th>\n",
       "      <td>East North Central</td>\n",
       "      <td>Illinois</td>\n",
       "      <td>Midwest</td>\n",
       "      <td>85</td>\n",
       "      <td>Female</td>\n",
       "      <td>139050</td>\n",
       "    </tr>\n",
       "    <tr>\n",
       "      <th>8731</th>\n",
       "      <td>East North Central</td>\n",
       "      <td>Indiana</td>\n",
       "      <td>Midwest</td>\n",
       "      <td>85</td>\n",
       "      <td>Female</td>\n",
       "      <td>66270</td>\n",
       "    </tr>\n",
       "    <tr>\n",
       "      <th>8732</th>\n",
       "      <td>East North Central</td>\n",
       "      <td>Michigan</td>\n",
       "      <td>Midwest</td>\n",
       "      <td>85</td>\n",
       "      <td>Female</td>\n",
       "      <td>101710</td>\n",
       "    </tr>\n",
       "    <tr>\n",
       "      <th>8733</th>\n",
       "      <td>East North Central</td>\n",
       "      <td>Ohio</td>\n",
       "      <td>Midwest</td>\n",
       "      <td>85</td>\n",
       "      <td>Female</td>\n",
       "      <td>128623</td>\n",
       "    </tr>\n",
       "    <tr>\n",
       "      <th>8734</th>\n",
       "      <td>East North Central</td>\n",
       "      <td>Wisconsin</td>\n",
       "      <td>Midwest</td>\n",
       "      <td>85</td>\n",
       "      <td>Female</td>\n",
       "      <td>68374</td>\n",
       "    </tr>\n",
       "  </tbody>\n",
       "</table>\n",
       "<p>860 rows × 6 columns</p>\n",
       "</div>"
      ],
      "text/plain": [
       "                Division       Name   Region  Age  Gender  Counts\n",
       "9     East North Central   Illinois  Midwest    0    Male   88525\n",
       "10    East North Central    Indiana  Midwest    0    Male   43266\n",
       "11    East North Central   Michigan  Midwest    0    Male   67319\n",
       "12    East North Central       Ohio  Midwest    0    Male   75821\n",
       "13    East North Central  Wisconsin  Midwest    0    Male   34685\n",
       "...                  ...        ...      ...  ...     ...     ...\n",
       "8730  East North Central   Illinois  Midwest   85  Female  139050\n",
       "8731  East North Central    Indiana  Midwest   85  Female   66270\n",
       "8732  East North Central   Michigan  Midwest   85  Female  101710\n",
       "8733  East North Central       Ohio  Midwest   85  Female  128623\n",
       "8734  East North Central  Wisconsin  Midwest   85  Female   68374\n",
       "\n",
       "[860 rows x 6 columns]"
      ]
     },
     "execution_count": 10,
     "metadata": {},
     "output_type": "execute_result"
    }
   ],
   "source": [
    "# 获取分组后的数组\n",
    "a.get_group('East North Central')"
   ]
  }
 ],
 "metadata": {
  "kernelspec": {
   "display_name": "base",
   "language": "python",
   "name": "python3"
  },
  "language_info": {
   "codemirror_mode": {
    "name": "ipython",
    "version": 3
   },
   "file_extension": ".py",
   "mimetype": "text/x-python",
   "name": "python",
   "nbconvert_exporter": "python",
   "pygments_lexer": "ipython3",
   "version": "3.11.4"
  }
 },
 "nbformat": 4,
 "nbformat_minor": 2
}
