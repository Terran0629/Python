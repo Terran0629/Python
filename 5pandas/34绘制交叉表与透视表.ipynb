{
 "cells": [
  {
   "cell_type": "code",
   "execution_count": null,
   "metadata": {},
   "outputs": [],
   "source": [
    "import pandas as pd\n",
    "\n",
    "df = pd.read_excel('D:/数据分析/源码压缩/数据源/stu.xlsx')"
   ]
  },
  {
   "cell_type": "code",
   "execution_count": null,
   "metadata": {},
   "outputs": [],
   "source": [
    "# 透视表\n",
    "df.pivot_table(values=['支出'],index=['课程','软件'],columns=['性别'],aggfunc=['mean','sum'])"
   ]
  },
  {
   "cell_type": "code",
   "execution_count": 5,
   "metadata": {},
   "outputs": [
    {
     "data": {
      "text/html": [
       "<div>\n",
       "<style scoped>\n",
       "    .dataframe tbody tr th:only-of-type {\n",
       "        vertical-align: middle;\n",
       "    }\n",
       "\n",
       "    .dataframe tbody tr th {\n",
       "        vertical-align: top;\n",
       "    }\n",
       "\n",
       "    .dataframe thead th {\n",
       "        text-align: right;\n",
       "    }\n",
       "</style>\n",
       "<table border=\"1\" class=\"dataframe\">\n",
       "  <thead>\n",
       "    <tr style=\"text-align: right;\">\n",
       "      <th>性别</th>\n",
       "      <th>女</th>\n",
       "      <th>男</th>\n",
       "    </tr>\n",
       "    <tr>\n",
       "      <th>课程</th>\n",
       "      <th></th>\n",
       "      <th></th>\n",
       "    </tr>\n",
       "  </thead>\n",
       "  <tbody>\n",
       "    <tr>\n",
       "      <th>概率统计</th>\n",
       "      <td>28.500</td>\n",
       "      <td>22.2375</td>\n",
       "    </tr>\n",
       "    <tr>\n",
       "      <th>统计方法</th>\n",
       "      <td>33.200</td>\n",
       "      <td>30.4625</td>\n",
       "    </tr>\n",
       "    <tr>\n",
       "      <th>编程技术</th>\n",
       "      <td>21.100</td>\n",
       "      <td>25.6000</td>\n",
       "    </tr>\n",
       "    <tr>\n",
       "      <th>都学习过</th>\n",
       "      <td>23.800</td>\n",
       "      <td>12.3000</td>\n",
       "    </tr>\n",
       "    <tr>\n",
       "      <th>都未学过</th>\n",
       "      <td>27.825</td>\n",
       "      <td>7.1500</td>\n",
       "    </tr>\n",
       "  </tbody>\n",
       "</table>\n",
       "</div>"
      ],
      "text/plain": [
       "性别         女        男\n",
       "课程                   \n",
       "概率统计  28.500  22.2375\n",
       "统计方法  33.200  30.4625\n",
       "编程技术  21.100  25.6000\n",
       "都学习过  23.800  12.3000\n",
       "都未学过  27.825   7.1500"
      ]
     },
     "execution_count": 5,
     "metadata": {},
     "output_type": "execute_result"
    }
   ],
   "source": [
    "# 交叉表\n",
    "pd.crosstab(index=df['课程'],columns=df['性别'],values=df['支出'],aggfunc='mean')"
   ]
  }
 ],
 "metadata": {
  "kernelspec": {
   "display_name": "base",
   "language": "python",
   "name": "python3"
  },
  "language_info": {
   "codemirror_mode": {
    "name": "ipython",
    "version": 3
   },
   "file_extension": ".py",
   "mimetype": "text/x-python",
   "name": "python",
   "nbconvert_exporter": "python",
   "pygments_lexer": "ipython3",
   "version": "3.11.4"
  }
 },
 "nbformat": 4,
 "nbformat_minor": 2
}
