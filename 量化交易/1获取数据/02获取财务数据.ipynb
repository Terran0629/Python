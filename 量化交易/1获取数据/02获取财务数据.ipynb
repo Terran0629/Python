{
 "cells": [
  {
   "cell_type": "code",
   "execution_count": 2,
   "metadata": {},
   "outputs": [
    {
     "name": "stdout",
     "output_type": "stream",
     "text": [
      "auth success \n"
     ]
    }
   ],
   "source": [
    "import jqdatasdk as jq\n",
    "import pandas as pd\n",
    "jq.auth('15661317439','Ax020629.')"
   ]
  },
  {
   "cell_type": "code",
   "execution_count": 5,
   "metadata": {},
   "outputs": [
    {
     "data": {
      "text/html": [
       "<div>\n",
       "<style scoped>\n",
       "    .dataframe tbody tr th:only-of-type {\n",
       "        vertical-align: middle;\n",
       "    }\n",
       "\n",
       "    .dataframe tbody tr th {\n",
       "        vertical-align: top;\n",
       "    }\n",
       "\n",
       "    .dataframe thead th {\n",
       "        text-align: right;\n",
       "    }\n",
       "</style>\n",
       "<table border=\"1\" class=\"dataframe\">\n",
       "  <thead>\n",
       "    <tr style=\"text-align: right;\">\n",
       "      <th></th>\n",
       "      <th>id</th>\n",
       "      <th>code</th>\n",
       "      <th>pe_ratio</th>\n",
       "      <th>turnover_ratio</th>\n",
       "      <th>pb_ratio</th>\n",
       "      <th>ps_ratio</th>\n",
       "      <th>pcf_ratio</th>\n",
       "      <th>capitalization</th>\n",
       "      <th>market_cap</th>\n",
       "      <th>circulating_cap</th>\n",
       "      <th>circulating_market_cap</th>\n",
       "      <th>day</th>\n",
       "      <th>pe_ratio_lyr</th>\n",
       "    </tr>\n",
       "  </thead>\n",
       "  <tbody>\n",
       "    <tr>\n",
       "      <th>0</th>\n",
       "      <td>3931412</td>\n",
       "      <td>000001.XSHE</td>\n",
       "      <td>5.8227</td>\n",
       "      <td>0.4215</td>\n",
       "      <td>0.7185</td>\n",
       "      <td>1.4152</td>\n",
       "      <td>-3.0743</td>\n",
       "      <td>1.940592e+06</td>\n",
       "      <td>2553.8188</td>\n",
       "      <td>1940554.695</td>\n",
       "      <td>2553.77</td>\n",
       "      <td>2022-12-30</td>\n",
       "      <td>7.0283</td>\n",
       "    </tr>\n",
       "  </tbody>\n",
       "</table>\n",
       "</div>"
      ],
      "text/plain": [
       "        id         code  pe_ratio  turnover_ratio  pb_ratio  ps_ratio  \\\n",
       "0  3931412  000001.XSHE    5.8227          0.4215    0.7185    1.4152   \n",
       "\n",
       "   pcf_ratio  capitalization  market_cap  circulating_cap  \\\n",
       "0    -3.0743    1.940592e+06   2553.8188      1940554.695   \n",
       "\n",
       "   circulating_market_cap         day  pe_ratio_lyr  \n",
       "0                 2553.77  2022-12-30        7.0283  "
      ]
     },
     "execution_count": 5,
     "metadata": {},
     "output_type": "execute_result"
    }
   ],
   "source": [
    "# 获取平安银行（000001）指定日期的财务数据\n",
    "from jqdatasdk import *\n",
    "\n",
    "q = jq.query(valuation).filter(valuation.code=='000001.XSHE')\n",
    "df = jq.get_fundamentals(q,statDate='2022')\n",
    "df.head()"
   ]
  }
 ],
 "metadata": {
  "kernelspec": {
   "display_name": "base",
   "language": "python",
   "name": "python3"
  },
  "language_info": {
   "codemirror_mode": {
    "name": "ipython",
    "version": 3
   },
   "file_extension": ".py",
   "mimetype": "text/x-python",
   "name": "python",
   "nbconvert_exporter": "python",
   "pygments_lexer": "ipython3",
   "version": "3.11.4"
  }
 },
 "nbformat": 4,
 "nbformat_minor": 2
}
