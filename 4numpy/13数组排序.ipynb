{
 "cells": [
  {
   "cell_type": "code",
   "execution_count": 1,
   "metadata": {},
   "outputs": [
    {
     "name": "stdout",
     "output_type": "stream",
     "text": [
      "[5 2 4 6 1 9]\n",
      "[1 2 4 5 6 9]\n",
      "[4 1 2 0 3 5]\n"
     ]
    }
   ],
   "source": [
    "import numpy as np\n",
    "\n",
    "a = np.array([5,2,4,6,1,9])\n",
    "print(a)\n",
    "print(np.sort(a))\n",
    "print(np.argsort(a))"
   ]
  },
  {
   "cell_type": "code",
   "execution_count": 2,
   "metadata": {},
   "outputs": [
    {
     "name": "stdout",
     "output_type": "stream",
     "text": [
      "[[10 35 39 43 76 47]\n",
      " [62 61 90 30 25 99]\n",
      " [79 89 60  0 42 77]\n",
      " [82 83 33 97 63  6]]\n",
      "-----------------------------\n",
      "axis=0:\n",
      " [[10 35 33  0 25  6]\n",
      " [62 61 39 30 42 47]\n",
      " [79 83 60 43 63 77]\n",
      " [82 89 90 97 76 99]]\n",
      "-----------------------------\n",
      "axis=1:\n",
      " [[10 35 39 43 47 76]\n",
      " [25 30 61 62 90 99]\n",
      " [ 0 42 60 77 79 89]\n",
      " [ 6 33 63 82 83 97]]\n"
     ]
    }
   ],
   "source": [
    "a = np.array([\n",
    "       [10, 35, 39, 43, 76, 47],\n",
    "       [62, 61, 90, 30, 25, 99],\n",
    "       [79, 89, 60,  0, 42, 77],\n",
    "       [82, 83, 33, 97, 63,  6]\n",
    "       ])\n",
    "print(a)\n",
    "print('-----------------------------')\n",
    "print('axis=0:\\n',np.sort(a,axis=0))\n",
    "print('-----------------------------')\n",
    "print('axis=1:\\n',np.sort(a,axis=1))"
   ]
  },
  {
   "cell_type": "code",
   "execution_count": 6,
   "metadata": {},
   "outputs": [
    {
     "name": "stdout",
     "output_type": "stream",
     "text": [
      "[2 1 0 3]\n",
      "[[79 89 60  0 42 77]\n",
      " [62 61 90 30 25 99]\n",
      " [10 35 39 43 76 47]\n",
      " [82 83 33 97 63  6]]\n"
     ]
    }
   ],
   "source": [
    "a = np.array([\n",
    "       [10, 35, 39, 43, 76, 47],\n",
    "       [62, 61, 90, 30, 25, 99],\n",
    "       [79, 89, 60,  0, 42, 77],\n",
    "       [82, 83, 33, 97, 63,  6]\n",
    "       ])\n",
    "\n",
    "b = a[:,3]\n",
    "index = np.argsort(b)\n",
    "print(index)\n",
    "print(a[index])\n",
    "'''\n",
    "花式索引(Fancy Indexing)\n",
    "在 NumPy 中,当你使用一个整数数组来索引另一个数组时,\n",
    "你会得到一个新数组,其内容是用索引数组中的索引从被索引数组中选取的元素。这和传统的切片操作不同。\n",
    "当你执行 a[index] 时，你实际上是在告诉 NumPy:给我一个新的数组,其\n",
    "行的顺序应该与 index 数组中的索引顺序相匹配。\n",
    "'''"
   ]
  }
 ],
 "metadata": {
  "kernelspec": {
   "display_name": "conda_env",
   "language": "python",
   "name": "python3"
  },
  "language_info": {
   "codemirror_mode": {
    "name": "ipython",
    "version": 3
   },
   "file_extension": ".py",
   "mimetype": "text/x-python",
   "name": "python",
   "nbconvert_exporter": "python",
   "pygments_lexer": "ipython3",
   "version": "3.11.4"
  }
 },
 "nbformat": 4,
 "nbformat_minor": 2
}
