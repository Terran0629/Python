{
 "cells": [
  {
   "cell_type": "markdown",
   "metadata": {},
   "source": [
    "### 基准波动率"
   ]
  },
  {
   "cell_type": "code",
   "execution_count": null,
   "metadata": {},
   "outputs": [],
   "source": [
    "'''\n",
    "基准波动率用来测量基准的风险性,基准波动率越大代表基准风险越高\n",
    "'''"
   ]
  },
  {
   "cell_type": "markdown",
   "metadata": {},
   "source": [
    "### 最大回撤"
   ]
  },
  {
   "cell_type": "code",
   "execution_count": null,
   "metadata": {},
   "outputs": [],
   "source": [
    "'''\n",
    "最大回撤描述策略可能出现的最糟糕的情况,即最极端的亏损情况\n",
    "\n",
    "注意\n",
    "最大回撤可以理解为可能发生的最大亏损幅度\n",
    "最大回撤越小越好\n",
    "\n",
    "最大回撤和风险成正比——回撤越大,风险越大;回撤越小,风险越小\n",
    "'''"
   ]
  }
 ],
 "metadata": {
  "language_info": {
   "name": "python"
  }
 },
 "nbformat": 4,
 "nbformat_minor": 2
}
