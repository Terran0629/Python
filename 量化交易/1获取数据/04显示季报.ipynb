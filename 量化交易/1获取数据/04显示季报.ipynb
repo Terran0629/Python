{
 "cells": [
  {
   "cell_type": "code",
   "execution_count": 2,
   "metadata": {},
   "outputs": [
    {
     "name": "stdout",
     "output_type": "stream",
     "text": [
      "auth success \n"
     ]
    }
   ],
   "source": [
    "import jqdatasdk as jq\n",
    "import pandas as pd\n",
    "jq.auth('15661317439','Ax020629.')"
   ]
  },
  {
   "cell_type": "code",
   "execution_count": 3,
   "metadata": {},
   "outputs": [
    {
     "data": {
      "text/plain": [
       "'\\nincome表示利润数据\\n\\nbalance表示资产负债数据\\n\\ncash_flow表示现金流数据\\n\\n各财务数据的含义:\\n\\nincome.statDate:财务报表统计的季度的最后一天\\nincome.code:股票代码\\nincome.basic_eps:基本每股收益(元)\\nbalance.cash_equivalents:货币资金(元)\\ncash_flow.goods_sale_and_service_render_cash: 销售商品、提供劳务收到的现金(元)\\n'"
      ]
     },
     "execution_count": 3,
     "metadata": {},
     "output_type": "execute_result"
    }
   ],
   "source": [
    "from jqdatasdk import *\n",
    "'''\n",
    "income表示利润数据\n",
    "\n",
    "balance表示资产负债数据\n",
    "\n",
    "cash_flow表示现金流数据\n",
    "\n",
    "各财务数据的含义:\n",
    "\n",
    "income.statDate:财务报表统计的季度的最后一天\n",
    "income.code:股票代码\n",
    "income.basic_eps:基本每股收益(元)\n",
    "balance.cash_equivalents:货币资金(元)\n",
    "cash_flow.goods_sale_and_service_render_cash: 销售商品、提供劳务收到的现金(元)\n",
    "'''\n"
   ]
  },
  {
   "cell_type": "code",
   "execution_count": 13,
   "metadata": {},
   "outputs": [
    {
     "data": {
      "text/html": [
       "<div>\n",
       "<style scoped>\n",
       "    .dataframe tbody tr th:only-of-type {\n",
       "        vertical-align: middle;\n",
       "    }\n",
       "\n",
       "    .dataframe tbody tr th {\n",
       "        vertical-align: top;\n",
       "    }\n",
       "\n",
       "    .dataframe thead th {\n",
       "        text-align: right;\n",
       "    }\n",
       "</style>\n",
       "<table border=\"1\" class=\"dataframe\">\n",
       "  <thead>\n",
       "    <tr style=\"text-align: right;\">\n",
       "      <th></th>\n",
       "      <th>statDate</th>\n",
       "      <th>code</th>\n",
       "      <th>basic_eps</th>\n",
       "      <th>cash_equivalents</th>\n",
       "      <th>goods_sale_and_service_render_cash</th>\n",
       "    </tr>\n",
       "  </thead>\n",
       "  <tbody>\n",
       "    <tr>\n",
       "      <th>0</th>\n",
       "      <td>2023-03-31</td>\n",
       "      <td>000001.XSHE</td>\n",
       "      <td>0.65</td>\n",
       "      <td>4.273490e+11</td>\n",
       "      <td>0.0</td>\n",
       "    </tr>\n",
       "  </tbody>\n",
       "</table>\n",
       "</div>"
      ],
      "text/plain": [
       "     statDate         code  basic_eps  cash_equivalents  \\\n",
       "0  2023-03-31  000001.XSHE       0.65      4.273490e+11   \n",
       "\n",
       "   goods_sale_and_service_render_cash  \n",
       "0                                 0.0  "
      ]
     },
     "metadata": {},
     "output_type": "display_data"
    },
    {
     "data": {
      "text/html": [
       "<div>\n",
       "<style scoped>\n",
       "    .dataframe tbody tr th:only-of-type {\n",
       "        vertical-align: middle;\n",
       "    }\n",
       "\n",
       "    .dataframe tbody tr th {\n",
       "        vertical-align: top;\n",
       "    }\n",
       "\n",
       "    .dataframe thead th {\n",
       "        text-align: right;\n",
       "    }\n",
       "</style>\n",
       "<table border=\"1\" class=\"dataframe\">\n",
       "  <thead>\n",
       "    <tr style=\"text-align: right;\">\n",
       "      <th></th>\n",
       "      <th>statDate</th>\n",
       "      <th>code</th>\n",
       "      <th>basic_eps</th>\n",
       "      <th>cash_equivalents</th>\n",
       "      <th>goods_sale_and_service_render_cash</th>\n",
       "    </tr>\n",
       "  </thead>\n",
       "  <tbody>\n",
       "    <tr>\n",
       "      <th>0</th>\n",
       "      <td>2023-06-30</td>\n",
       "      <td>000001.XSHE</td>\n",
       "      <td>0.5098</td>\n",
       "      <td>4.175150e+11</td>\n",
       "      <td>NaN</td>\n",
       "    </tr>\n",
       "  </tbody>\n",
       "</table>\n",
       "</div>"
      ],
      "text/plain": [
       "     statDate         code  basic_eps  cash_equivalents  \\\n",
       "0  2023-06-30  000001.XSHE     0.5098      4.175150e+11   \n",
       "\n",
       "   goods_sale_and_service_render_cash  \n",
       "0                                 NaN  "
      ]
     },
     "metadata": {},
     "output_type": "display_data"
    },
    {
     "data": {
      "text/html": [
       "<div>\n",
       "<style scoped>\n",
       "    .dataframe tbody tr th:only-of-type {\n",
       "        vertical-align: middle;\n",
       "    }\n",
       "\n",
       "    .dataframe tbody tr th {\n",
       "        vertical-align: top;\n",
       "    }\n",
       "\n",
       "    .dataframe thead th {\n",
       "        text-align: right;\n",
       "    }\n",
       "</style>\n",
       "<table border=\"1\" class=\"dataframe\">\n",
       "  <thead>\n",
       "    <tr style=\"text-align: right;\">\n",
       "      <th></th>\n",
       "      <th>statDate</th>\n",
       "      <th>code</th>\n",
       "      <th>basic_eps</th>\n",
       "      <th>cash_equivalents</th>\n",
       "      <th>goods_sale_and_service_render_cash</th>\n",
       "    </tr>\n",
       "  </thead>\n",
       "  <tbody>\n",
       "    <tr>\n",
       "      <th>0</th>\n",
       "      <td>2023-09-30</td>\n",
       "      <td>000001.XSHE</td>\n",
       "      <td>0.6974</td>\n",
       "      <td>4.484470e+11</td>\n",
       "      <td>NaN</td>\n",
       "    </tr>\n",
       "  </tbody>\n",
       "</table>\n",
       "</div>"
      ],
      "text/plain": [
       "     statDate         code  basic_eps  cash_equivalents  \\\n",
       "0  2023-09-30  000001.XSHE     0.6974      4.484470e+11   \n",
       "\n",
       "   goods_sale_and_service_render_cash  \n",
       "0                                 NaN  "
      ]
     },
     "metadata": {},
     "output_type": "display_data"
    }
   ],
   "source": [
    "q = query(\n",
    "    income.statDate,\n",
    "    income.code,\n",
    "    income.basic_eps,\n",
    "    balance.cash_equivalents,\n",
    "    cash_flow.goods_sale_and_service_render_cash\n",
    "   ).filter(income.code == '000001.XSHE')\n",
    "\n",
    "\n",
    "df = [get_fundamentals(q, statDate='2023q'+str(i)) for i in range(1, 5)]\n",
    "\n",
    "display(df[0])\n",
    "display(df[1])\n",
    "display(df[2])"
   ]
  }
 ],
 "metadata": {
  "kernelspec": {
   "display_name": "base",
   "language": "python",
   "name": "python3"
  },
  "language_info": {
   "codemirror_mode": {
    "name": "ipython",
    "version": 3
   },
   "file_extension": ".py",
   "mimetype": "text/x-python",
   "name": "python",
   "nbconvert_exporter": "python",
   "pygments_lexer": "ipython3",
   "version": "3.11.4"
  }
 },
 "nbformat": 4,
 "nbformat_minor": 2
}
