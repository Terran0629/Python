{
 "cells": [
  {
   "cell_type": "code",
   "execution_count": 1,
   "metadata": {},
   "outputs": [
    {
     "name": "stdout",
     "output_type": "stream",
     "text": [
      "(array([ 1.,  2.,  3.,  4.,  5.,  6.,  7.,  8.,  9., 10.]), 1.0)\n",
      "[1.  1.9 2.8 3.7 4.6 5.5 6.4 7.3 8.2 9.1]\n"
     ]
    }
   ],
   "source": [
    "import numpy as np\n",
    "\n",
    "a = np.linspace(1,10,10,retstep=True)\n",
    "b = np.linspace(1,10,10,endpoint=False)\n",
    "print(a)\n",
    "print(b)\n"
   ]
  },
  {
   "cell_type": "code",
   "execution_count": 4,
   "metadata": {},
   "outputs": [
    {
     "name": "stdout",
     "output_type": "stream",
     "text": [
      "[10.0000 100.0000 1000.0000 10000.0000 100000.0000 1000000.0000\n",
      " 10000000.0000 100000000.0000 1000000000.0000 10000000000.0000]\n"
     ]
    }
   ],
   "source": [
    "# base是底数\n",
    "# 起始值:base**start  结束值:base**stop \n",
    "a = np.logspace(1,10,10,base=10)\n",
    "print(a)\n",
    "\n",
    "# 禁用科学计数法\n",
    "np.set_printoptions(suppress=True, formatter={'float_kind':'{:.4f}'.format})"
   ]
  }
 ],
 "metadata": {
  "kernelspec": {
   "display_name": "conda_env",
   "language": "python",
   "name": "python3"
  },
  "language_info": {
   "codemirror_mode": {
    "name": "ipython",
    "version": 3
   },
   "file_extension": ".py",
   "mimetype": "text/x-python",
   "name": "python",
   "nbconvert_exporter": "python",
   "pygments_lexer": "ipython3",
   "version": "3.11.4"
  }
 },
 "nbformat": 4,
 "nbformat_minor": 2
}
