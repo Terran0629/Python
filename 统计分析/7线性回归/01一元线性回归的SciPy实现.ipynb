{
 "cells": [
  {
   "cell_type": "code",
   "execution_count": 16,
   "metadata": {},
   "outputs": [],
   "source": [
    "import pandas as pd\n",
    "from scipy import stats as ss\n",
    "import matplotlib.pyplot as plt\n",
    "\n",
    "plt.rcParams['font.family'] = 'SimHei'"
   ]
  },
  {
   "cell_type": "code",
   "execution_count": 17,
   "metadata": {},
   "outputs": [],
   "source": [
    "df = pd.read_excel('D:\\Vscode\\统计分析/0数据源\\CCSS_sample.xlsx',sheet_name=0)"
   ]
  },
  {
   "cell_type": "code",
   "execution_count": 18,
   "metadata": {},
   "outputs": [
    {
     "data": {
      "text/plain": [
       "LinregressResult(slope=-0.3576848241677336, intercept=108.89832302796889, rvalue=-0.21907931386002932, pvalue=6.24301335501853e-14, stderr=0.0470777657345422, intercept_stderr=1.8155043693103545)"
      ]
     },
     "execution_count": 18,
     "metadata": {},
     "output_type": "execute_result"
    }
   ],
   "source": [
    "# 建立年龄和总信心指数的回归方程\n",
    "ss.linregress(df['s3'],df['index1'])"
   ]
  },
  {
   "cell_type": "code",
   "execution_count": 19,
   "metadata": {},
   "outputs": [
    {
     "data": {
      "text/plain": [
       "LinregressResult(slope=-0.3576848241677336, intercept=108.89832302796889, rvalue=-0.21907931386002932, pvalue=6.24301335501853e-14, stderr=0.0470777657345422, intercept_stderr=1.8155043693103545)"
      ]
     },
     "execution_count": 19,
     "metadata": {},
     "output_type": "execute_result"
    }
   ],
   "source": [
    "# 以k*2形式的二维数组提供数据\n",
    "# ss.linregress(df.loc[:, ['s3', 'index1']])\n",
    "ss.linregress(df[['s3', 'index1']])"
   ]
  },
  {
   "cell_type": "code",
   "execution_count": 20,
   "metadata": {},
   "outputs": [
    {
     "data": {
      "text/plain": [
       "'\\n原假设: 回归系数=0   备择假设:回归系数!=0\\np_value < alpha\\n拒绝原假设\\n'"
      ]
     },
     "execution_count": 20,
     "metadata": {},
     "output_type": "execute_result"
    }
   ],
   "source": [
    "'''\n",
    "原假设: 回归系数=0   备择假设:回归系数!=0\n",
    "p_value < alpha\n",
    "拒绝原假设\n",
    "'''"
   ]
  }
 ],
 "metadata": {
  "kernelspec": {
   "display_name": "base",
   "language": "python",
   "name": "python3"
  },
  "language_info": {
   "codemirror_mode": {
    "name": "ipython",
    "version": 3
   },
   "file_extension": ".py",
   "mimetype": "text/x-python",
   "name": "python",
   "nbconvert_exporter": "python",
   "pygments_lexer": "ipython3",
   "version": "3.11.4"
  }
 },
 "nbformat": 4,
 "nbformat_minor": 2
}
