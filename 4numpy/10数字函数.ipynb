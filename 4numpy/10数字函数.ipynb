{
 "cells": [
  {
   "cell_type": "code",
   "execution_count": 4,
   "metadata": {},
   "outputs": [
    {
     "name": "stdout",
     "output_type": "stream",
     "text": [
      "[1.         0.5        0.33333333 0.25       0.2        0.16666667\n",
      " 0.14285714 0.125      0.11111111]\n",
      "[ 1.  4.  9. 16. 25. 36. 49. 64. 81.]\n",
      "[ 1.  4.  9. 16. 25. 36. 49. 64. 81.]\n"
     ]
    }
   ],
   "source": [
    "import numpy as np\n",
    "\n",
    "a = np.arange(1,10,dtype=float)\n",
    "print(np.reciprocal(a))  # 倒数\n",
    "print(np.square(a))      # 平方\n",
    "print(np.sign(a))        # 计算各元素的符号,1(正数),0(零),-1(负数)\n"
   ]
  },
  {
   "cell_type": "code",
   "execution_count": 6,
   "metadata": {},
   "outputs": [
    {
     "name": "stdout",
     "output_type": "stream",
     "text": [
      "[  1.   5. 123.   1.  26.  -1.]\n",
      "[  1.   5. 123.   1.  26.  -1.]\n",
      "[  1.   4. 123.   0.  25.  -2.]\n"
     ]
    }
   ],
   "source": [
    "a = np.array([1.0,4.55, 123, 0.567, 25.532,-1.414])\n",
    "print(np.around(a))\n",
    "# print(np.ceil(a))     向上取整\n",
    "# print(np.floor(a))    向下取整"
   ]
  },
  {
   "cell_type": "code",
   "execution_count": 15,
   "metadata": {},
   "outputs": [
    {
     "name": "stdout",
     "output_type": "stream",
     "text": [
      "[[1. 2. 3.]\n",
      " [4. 5. 6.]\n",
      " [7. 8. 9.]]\n",
      "[[ 9. 11. 13.]\n",
      " [12. 14. 16.]\n",
      " [15. 17. 19.]]\n",
      "-------------------------\n",
      "[[-7. -7. -7.]\n",
      " [-4. -4. -4.]\n",
      " [-1. -1. -1.]]\n",
      "-------------------------\n",
      "[[ 8. 18. 30.]\n",
      " [32. 45. 60.]\n",
      " [56. 72. 90.]]\n",
      "-------------------------\n",
      "[[0.125      0.22222222 0.3       ]\n",
      " [0.5        0.55555556 0.6       ]\n",
      " [0.875      0.88888889 0.9       ]]\n"
     ]
    }
   ],
   "source": [
    "a = np.arange(1,10,dtype=float).reshape(3,3)\n",
    "b = np.array([8,9,10])\n",
    "print(a)\n",
    "print(np.add(a,b))\n",
    "print('-------------------------')\n",
    "print(np.subtract(a,b))\n",
    "print('-------------------------')\n",
    "print(np.multiply(a,b))\n",
    "print('-------------------------')\n",
    "print(np.divide(a,b))\n"
   ]
  },
  {
   "cell_type": "code",
   "execution_count": 16,
   "metadata": {},
   "outputs": [
    {
     "name": "stdout",
     "output_type": "stream",
     "text": [
      "[1 0 2]\n",
      "[1 0 2]\n"
     ]
    }
   ],
   "source": [
    "a=np.array([10,10,30])\n",
    "b=np.array([3,5,7])\n",
    "print(np.mod(a,b))\n",
    "print(a%b)"
   ]
  }
 ],
 "metadata": {
  "kernelspec": {
   "display_name": "conda_env",
   "language": "python",
   "name": "python3"
  },
  "language_info": {
   "codemirror_mode": {
    "name": "ipython",
    "version": 3
   },
   "file_extension": ".py",
   "mimetype": "text/x-python",
   "name": "python",
   "nbconvert_exporter": "python",
   "pygments_lexer": "ipython3",
   "version": "3.11.4"
  }
 },
 "nbformat": 4,
 "nbformat_minor": 2
}
