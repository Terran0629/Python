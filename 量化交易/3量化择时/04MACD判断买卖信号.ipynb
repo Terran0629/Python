{
 "cells": [
  {
   "cell_type": "code",
   "execution_count": 8,
   "metadata": {},
   "outputs": [],
   "source": [
    "#导入technical_analysis库\n",
    "from jqlib.technical_analysis import *"
   ]
  },
  {
   "cell_type": "code",
   "execution_count": 9,
   "metadata": {},
   "outputs": [],
   "source": [
    "# 定义股票池列表\n",
    "security_list = ['002797.XSHE','000001.XSHE']\n",
    "\n",
    "# 计算并输出 security_list的MACD相关数据\n",
    "dif,dea,macd = MACD(\n",
    "                    security_list, check_date='2023-01-01',\n",
    "                    SHORT = 12, LONG = 26, MID = 9\n",
    "                )"
   ]
  },
  {
   "cell_type": "code",
   "execution_count": 10,
   "metadata": {},
   "outputs": [
    {
     "data": {
      "text/plain": [
       "{'002797.XSHE': -0.07184752152414031, '000001.XSHE': 0.19210843823835866}"
      ]
     },
     "metadata": {},
     "output_type": "display_data"
    },
    {
     "data": {
      "text/plain": [
       "{'002797.XSHE': -0.05359125566912358, '000001.XSHE': 0.2514602601943422}"
      ]
     },
     "metadata": {},
     "output_type": "display_data"
    },
    {
     "data": {
      "text/plain": [
       "{'002797.XSHE': -0.03651253171003346, '000001.XSHE': -0.11870364391196708}"
      ]
     },
     "metadata": {},
     "output_type": "display_data"
    }
   ],
   "source": [
    "# macd的值为2倍的能量柱\n",
    "display(dif,dea,macd)"
   ]
  },
  {
   "cell_type": "markdown",
   "metadata": {
    "code_folding": []
   },
   "source": [
    "### 买卖信号的规则制定"
   ]
  },
  {
   "cell_type": "code",
   "execution_count": 11,
   "metadata": {},
   "outputs": [
    {
     "data": {
      "text/plain": [
       "False"
      ]
     },
     "execution_count": 11,
     "metadata": {},
     "output_type": "execute_result"
    }
   ],
   "source": [
    "\"\"\"\n",
    "判断“第一创业”的买入信号，如果设定规则：DIF、DEA均为正，且DIF向上突破DEA时(高位金叉)为买入信号\n",
    "\"\"\"\n",
    "buy = (dif['002797.XSHE'] > 0) & (dea['002797.XSHE'] > 0) & (dif['002797.XSHE'] > dea['002797.XSHE'])\n",
    "buy"
   ]
  },
  {
   "cell_type": "code",
   "execution_count": 12,
   "metadata": {},
   "outputs": [
    {
     "data": {
      "text/plain": [
       "True"
      ]
     },
     "execution_count": 12,
     "metadata": {},
     "output_type": "execute_result"
    }
   ],
   "source": [
    "\"\"\"\n",
    "判断“第一创业”的卖出信号，如果设定规则：DIF、DEA均为负，且DIF向下跌破DEA（低位死叉）时，为卖出信号\n",
    "\"\"\"\n",
    "sell = (dif['002797.XSHE'] < 0) & (dea['002797.XSHE'] < 0) & (dif['002797.XSHE'] < dea['002797.XSHE'])\n",
    "sell"
   ]
  }
 ],
 "metadata": {
  "kernelspec": {
   "display_name": "Python 3",
   "language": "python",
   "name": "python3"
  },
  "language_info": {
   "codemirror_mode": {
    "name": "ipython",
    "version": 3
   },
   "file_extension": ".py",
   "mimetype": "text/x-python",
   "name": "python",
   "nbconvert_exporter": "python",
   "pygments_lexer": "ipython3",
   "version": "3.6.7"
  },
  "toc": {
   "base_numbering": 1,
   "nav_menu": {},
   "number_sections": false,
   "sideBar": true,
   "skip_h1_title": false,
   "title_cell": "MarkDown菜单",
   "title_sidebar": "Contents",
   "toc_cell": false,
   "toc_position": {},
   "toc_section_display": true,
   "toc_window_display": false
  }
 },
 "nbformat": 4,
 "nbformat_minor": 2
}
