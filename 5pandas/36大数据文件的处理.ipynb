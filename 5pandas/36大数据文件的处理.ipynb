{
 "cells": [
  {
   "cell_type": "code",
   "execution_count": null,
   "metadata": {},
   "outputs": [],
   "source": [
    "import pandas as pd\n",
    "\n",
    "# 方案一\n",
    "# 逐块读取\n",
    "df = pd.read_csv('D:/数据分析/源码压缩/数据源/stu.csv',encoding='gbk',chunksize = 5) \n",
    "for i in df:\n",
    "    display(i)"
   ]
  },
  {
   "cell_type": "code",
   "execution_count": null,
   "metadata": {},
   "outputs": [],
   "source": [
    "# 方案二\n",
    "# 指定使用的行\n",
    "df = pd.read_csv('D:/数据分析/源码压缩/数据源/stu.csv',encoding='gbk',usecols=[0,2,4,5])\n",
    "df"
   ]
  },
  {
   "cell_type": "code",
   "execution_count": null,
   "metadata": {},
   "outputs": [],
   "source": [
    "# 方案三\n",
    "# 数据预处理\n",
    "data = pd.DataFrame({\n",
    "  \"a\":[0,1, 2, 3, 4, 5, 6, 7, 8, 9], \n",
    "  \"b\":[\"祖安狂人\",\"祖安狂人\",\"冰晶凤凰\",\"冰晶凤凰\", \"祖安狂人\",\"祖安狂人\",\"祖安狂人\",\"冰晶凤凰\", \"冰晶凤凰\",\"祖安狂人\"]}) \n",
    "\n",
    "data['a'] = data['a'].astype('int8')"
   ]
  },
  {
   "cell_type": "code",
   "execution_count": null,
   "metadata": {},
   "outputs": [],
   "source": [
    "# 其他方案\n",
    "'''\n",
    "分布式计算: 如果单台机器的内存无法满足需求,可以考虑使用分布式计算框架,\n",
    "           如 Apache Spark、Dask 等,将数据分布在多台机器上进行处理。这些框架可以处理大规模数据,并提供内存管理和并行计算能力\n",
    "\n",
    "数据库存储: 将数据存储到数据库中,例如使用 SQLite、MySQL、PostgreSQL 等数据库。\n",
    "           通过查询和分批处理数据,可以有效地处理大量数据,并减少内存压力\n",
    "\n",
    "压缩存储: 如果数据集可以压缩,可以考虑将数据压缩后进行存储。\n",
    "         这样可以减少磁盘占用空间,并在需要时进行解压缩和处理数据\n",
    "         \n",
    "硬件升级: 如果内存不足以处理海量数据,可以考虑升级硬件,增加机器的内存容量。\n",
    "         这是一种物理上增加内存资源的方法,能够更好地处理大型数据集\n",
    "'''"
   ]
  }
 ],
 "metadata": {
  "kernelspec": {
   "display_name": "base",
   "language": "python",
   "name": "python3"
  },
  "language_info": {
   "codemirror_mode": {
    "name": "ipython",
    "version": 3
   },
   "file_extension": ".py",
   "mimetype": "text/x-python",
   "name": "python",
   "nbconvert_exporter": "python",
   "pygments_lexer": "ipython3",
   "version": "3.11.4"
  }
 },
 "nbformat": 4,
 "nbformat_minor": 2
}
