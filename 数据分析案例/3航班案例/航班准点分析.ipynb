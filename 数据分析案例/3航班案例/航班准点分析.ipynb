{
 "cells": [
  {
   "cell_type": "markdown",
   "metadata": {},
   "source": [
    "### 准备环境"
   ]
  },
  {
   "cell_type": "code",
   "execution_count": null,
   "metadata": {},
   "outputs": [],
   "source": [
    "# 导入模块\n",
    "import pandas as pd\n",
    "import matplotlib.pyplot as plt"
   ]
  },
  {
   "cell_type": "code",
   "execution_count": null,
   "metadata": {},
   "outputs": [],
   "source": [
    "# 设置图表的参数\n",
    "plt.rcParams['font.family'] = 'Microsoft Yahei'\n",
    "# 使用unicode_minus参数设置正常显示负号\n",
    "plt.rcParams['axes.unicode_minus'] = False"
   ]
  },
  {
   "cell_type": "markdown",
   "metadata": {},
   "source": [
    "### 加载与了解数据"
   ]
  },
  {
   "cell_type": "code",
   "execution_count": null,
   "metadata": {},
   "outputs": [],
   "source": [
    "# 读取数据\n",
    "df = pd.read_csv('airport-ontime.csv')\n",
    "df.head()"
   ]
  },
  {
   "cell_type": "code",
   "execution_count": null,
   "metadata": {},
   "outputs": [],
   "source": [
    "# 了解数据基本情况\n",
    "df.info()"
   ]
  },
  {
   "cell_type": "code",
   "execution_count": null,
   "metadata": {},
   "outputs": [],
   "source": [
    "# 删除无用的列\n",
    "df.dropna(axis=1,how='all',inplace=True)"
   ]
  },
  {
   "cell_type": "code",
   "execution_count": null,
   "metadata": {},
   "outputs": [],
   "source": [
    "# 查看哪列有缺失值\n",
    "df.isnull().sum()"
   ]
  },
  {
   "cell_type": "code",
   "execution_count": null,
   "metadata": {},
   "outputs": [],
   "source": [
    "# 查看重复的值\n",
    "df.duplicated().any()"
   ]
  },
  {
   "cell_type": "code",
   "execution_count": null,
   "metadata": {},
   "outputs": [],
   "source": [
    "# 删除重复的行\n",
    "df.drop_duplicates(inplace=True)"
   ]
  },
  {
   "cell_type": "code",
   "execution_count": null,
   "metadata": {},
   "outputs": [],
   "source": [
    "df.info()"
   ]
  },
  {
   "cell_type": "code",
   "execution_count": null,
   "metadata": {},
   "outputs": [],
   "source": [
    "df.iloc[:,10:17].head(10)"
   ]
  },
  {
   "cell_type": "code",
   "execution_count": null,
   "metadata": {},
   "outputs": [],
   "source": [
    "# 创建是否有延迟的列\n",
    "# df['new'] = df.ARR_DEL15.apply(lambda x: 1 if x > 0 else 0)"
   ]
  },
  {
   "cell_type": "markdown",
   "metadata": {},
   "source": [
    "### 查看起飞和到达延迟总体状况"
   ]
  },
  {
   "cell_type": "code",
   "execution_count": null,
   "metadata": {},
   "outputs": [],
   "source": [
    "# 因为查看起飞延迟数据，发现有缺失值，所以删除缺失值\n",
    "dep_rs = df.DEP_DEL15.dropna()\n",
    "dep_rs"
   ]
  },
  {
   "cell_type": "code",
   "execution_count": null,
   "metadata": {},
   "outputs": [],
   "source": [
    "# 统计起飞延迟的次数\n",
    "dep_rs.value_counts()"
   ]
  },
  {
   "cell_type": "code",
   "execution_count": null,
   "metadata": {},
   "outputs": [],
   "source": [
    "# 根据起飞延迟的次数，绘制饼图\n",
    "dep_rs.value_counts().plot(kind='pie',labels=['未延迟','延迟'],autopct='%.2f%%',colors=['#9999ff','#ff9999'])"
   ]
  },
  {
   "cell_type": "code",
   "execution_count": null,
   "metadata": {},
   "outputs": [],
   "source": [
    "# 因为查看到达延迟数据，发现有缺失值，所以删除缺失值\n",
    "arr_rs = df.ARR_DEL15.dropna()\n",
    "arr_rs"
   ]
  },
  {
   "cell_type": "code",
   "execution_count": null,
   "metadata": {},
   "outputs": [],
   "source": [
    "# 统计到达延迟的次数\n",
    "arr_rs.value_counts()"
   ]
  },
  {
   "cell_type": "code",
   "execution_count": null,
   "metadata": {},
   "outputs": [],
   "source": [
    "# 根据到达延迟的次数，绘制饼图\n",
    "arr_rs.value_counts().plot(kind='pie',labels=['未延迟','延迟'],autopct='%.2f%%',colors=['#9999ff','#ff9999'])"
   ]
  },
  {
   "cell_type": "markdown",
   "metadata": {},
   "source": [
    "### 分析机场飞机延迟数量"
   ]
  },
  {
   "cell_type": "code",
   "execution_count": null,
   "metadata": {},
   "outputs": [],
   "source": [
    "# 获取数据\n",
    "o_dep_rs = df[['ORIGIN_STATE_ABR','DEP_DEL15']]"
   ]
  },
  {
   "cell_type": "code",
   "execution_count": null,
   "metadata": {},
   "outputs": [],
   "source": [
    "# 判读起飞延迟的数据是否有缺失值\n",
    "# o_dep_rs.isnull().sum()\n",
    "# 删除缺失值\n",
    "o_dep_rs = o_dep_rs.dropna()\n",
    "o_dep_rs.head()"
   ]
  },
  {
   "cell_type": "code",
   "execution_count": null,
   "metadata": {},
   "outputs": [],
   "source": [
    "# 统计每个州的起飞延迟的次数 AK524 AL641\n",
    "# o_dep_rs.groupby(['ORIGIN_STATE_ABR','DEP_DEL15'])['DEP_DEL15'].count()\n",
    "o_dep_dely_count = o_dep_rs.groupby('ORIGIN_STATE_ABR')['DEP_DEL15'].sum()"
   ]
  },
  {
   "cell_type": "code",
   "execution_count": null,
   "metadata": {},
   "outputs": [],
   "source": [
    "# 通过图表显示每个州的起飞延迟的次数\n",
    "o_dep_dely_count.sort_values(ascending=False).plot(kind='bar',title='每个州的起飞延迟的次数',figsize=(20,8))"
   ]
  },
  {
   "cell_type": "code",
   "execution_count": 35,
   "metadata": {},
   "outputs": [],
   "source": [
    "# 获取到达数据\n",
    "o_arr_rs = df[['ORIGIN_STATE_ABR','ARR_DEL15']]"
   ]
  },
  {
   "cell_type": "code",
   "execution_count": 36,
   "metadata": {},
   "outputs": [
    {
     "data": {
      "text/html": [
       "<div>\n",
       "<style scoped>\n",
       "    .dataframe tbody tr th:only-of-type {\n",
       "        vertical-align: middle;\n",
       "    }\n",
       "\n",
       "    .dataframe tbody tr th {\n",
       "        vertical-align: top;\n",
       "    }\n",
       "\n",
       "    .dataframe thead th {\n",
       "        text-align: right;\n",
       "    }\n",
       "</style>\n",
       "<table border=\"1\" class=\"dataframe\">\n",
       "  <thead>\n",
       "    <tr style=\"text-align: right;\">\n",
       "      <th></th>\n",
       "      <th>ORIGIN_STATE_ABR</th>\n",
       "      <th>ARR_DEL15</th>\n",
       "    </tr>\n",
       "  </thead>\n",
       "  <tbody>\n",
       "    <tr>\n",
       "      <th>0</th>\n",
       "      <td>NY</td>\n",
       "      <td>0.0</td>\n",
       "    </tr>\n",
       "    <tr>\n",
       "      <th>1</th>\n",
       "      <td>CA</td>\n",
       "      <td>0.0</td>\n",
       "    </tr>\n",
       "    <tr>\n",
       "      <th>3</th>\n",
       "      <td>CA</td>\n",
       "      <td>1.0</td>\n",
       "    </tr>\n",
       "    <tr>\n",
       "      <th>4</th>\n",
       "      <td>TX</td>\n",
       "      <td>0.0</td>\n",
       "    </tr>\n",
       "    <tr>\n",
       "      <th>5</th>\n",
       "      <td>HI</td>\n",
       "      <td>0.0</td>\n",
       "    </tr>\n",
       "  </tbody>\n",
       "</table>\n",
       "</div>"
      ],
      "text/plain": [
       "  ORIGIN_STATE_ABR  ARR_DEL15\n",
       "0               NY        0.0\n",
       "1               CA        0.0\n",
       "3               CA        1.0\n",
       "4               TX        0.0\n",
       "5               HI        0.0"
      ]
     },
     "execution_count": 36,
     "metadata": {},
     "output_type": "execute_result"
    }
   ],
   "source": [
    "# 判读起飞延迟的数据是否有缺失值\n",
    "# o_arr_rs.isnull().sum()\n",
    "# 删除缺失值\n",
    "o_arr_rs = o_arr_rs.dropna()\n",
    "o_arr_rs.head()"
   ]
  },
  {
   "cell_type": "code",
   "execution_count": 38,
   "metadata": {},
   "outputs": [],
   "source": [
    "# 统计每个州的到达延迟的次数 \n",
    "o_arr_dely_count = o_arr_rs.groupby('ORIGIN_STATE_ABR')['ARR_DEL15'].sum()"
   ]
  },
  {
   "cell_type": "code",
   "execution_count": 40,
   "metadata": {},
   "outputs": [
    {
     "data": {
      "text/plain": [
       "<Axes: title={'center': '每个州的到达延迟的次数'}, xlabel='ORIGIN_STATE_ABR'>"
      ]
     },
     "execution_count": 40,
     "metadata": {},
     "output_type": "execute_result"
    },
    {
     "data": {
      "image/png": "[encoded data removed]",
      "text/plain": [
       "<Figure size 2000x800 with 1 Axes>"
      ]
     },
     "metadata": {},
     "output_type": "display_data"
    }
   ],
   "source": [
    "# 通过图表显示每个州的起飞延迟的次数\n",
    "o_arr_dely_count.sort_values(ascending=False).plot(kind='bar',title='每个州的到达延迟的次数',figsize=(20,8))"
   ]
  },
  {
   "cell_type": "code",
   "execution_count": 42,
   "metadata": {},
   "outputs": [
    {
     "data": {
      "text/html": [
       "<div>\n",
       "<style scoped>\n",
       "    .dataframe tbody tr th:only-of-type {\n",
       "        vertical-align: middle;\n",
       "    }\n",
       "\n",
       "    .dataframe tbody tr th {\n",
       "        vertical-align: top;\n",
       "    }\n",
       "\n",
       "    .dataframe thead th {\n",
       "        text-align: right;\n",
       "    }\n",
       "</style>\n",
       "<table border=\"1\" class=\"dataframe\">\n",
       "  <thead>\n",
       "    <tr style=\"text-align: right;\">\n",
       "      <th></th>\n",
       "      <th>DEP_DEL15</th>\n",
       "      <th>ARR_DEL15</th>\n",
       "    </tr>\n",
       "    <tr>\n",
       "      <th>ORIGIN_STATE_ABR</th>\n",
       "      <th></th>\n",
       "      <th></th>\n",
       "    </tr>\n",
       "  </thead>\n",
       "  <tbody>\n",
       "    <tr>\n",
       "      <th>AK</th>\n",
       "      <td>524.0</td>\n",
       "      <td>594.0</td>\n",
       "    </tr>\n",
       "    <tr>\n",
       "      <th>AL</th>\n",
       "      <td>641.0</td>\n",
       "      <td>722.0</td>\n",
       "    </tr>\n",
       "    <tr>\n",
       "      <th>AR</th>\n",
       "      <td>789.0</td>\n",
       "      <td>931.0</td>\n",
       "    </tr>\n",
       "    <tr>\n",
       "      <th>AZ</th>\n",
       "      <td>3937.0</td>\n",
       "      <td>3732.0</td>\n",
       "    </tr>\n",
       "    <tr>\n",
       "      <th>CA</th>\n",
       "      <td>15955.0</td>\n",
       "      <td>14855.0</td>\n",
       "    </tr>\n",
       "    <tr>\n",
       "      <th>CO</th>\n",
       "      <td>6041.0</td>\n",
       "      <td>6331.0</td>\n",
       "    </tr>\n",
       "    <tr>\n",
       "      <th>CT</th>\n",
       "      <td>293.0</td>\n",
       "      <td>314.0</td>\n",
       "    </tr>\n",
       "    <tr>\n",
       "      <th>DE</th>\n",
       "      <td>19.0</td>\n",
       "      <td>19.0</td>\n",
       "    </tr>\n",
       "    <tr>\n",
       "      <th>FL</th>\n",
       "      <td>7861.0</td>\n",
       "      <td>8243.0</td>\n",
       "    </tr>\n",
       "    <tr>\n",
       "      <th>GA</th>\n",
       "      <td>7795.0</td>\n",
       "      <td>7606.0</td>\n",
       "    </tr>\n",
       "    <tr>\n",
       "      <th>HI</th>\n",
       "      <td>496.0</td>\n",
       "      <td>560.0</td>\n",
       "    </tr>\n",
       "    <tr>\n",
       "      <th>IA</th>\n",
       "      <td>418.0</td>\n",
       "      <td>522.0</td>\n",
       "    </tr>\n",
       "    <tr>\n",
       "      <th>ID</th>\n",
       "      <td>218.0</td>\n",
       "      <td>208.0</td>\n",
       "    </tr>\n",
       "    <tr>\n",
       "      <th>IL</th>\n",
       "      <td>12172.0</td>\n",
       "      <td>13385.0</td>\n",
       "    </tr>\n",
       "    <tr>\n",
       "      <th>IN</th>\n",
       "      <td>801.0</td>\n",
       "      <td>905.0</td>\n",
       "    </tr>\n",
       "    <tr>\n",
       "      <th>KS</th>\n",
       "      <td>265.0</td>\n",
       "      <td>328.0</td>\n",
       "    </tr>\n",
       "    <tr>\n",
       "      <th>KY</th>\n",
       "      <td>859.0</td>\n",
       "      <td>950.0</td>\n",
       "    </tr>\n",
       "    <tr>\n",
       "      <th>LA</th>\n",
       "      <td>1473.0</td>\n",
       "      <td>1644.0</td>\n",
       "    </tr>\n",
       "    <tr>\n",
       "      <th>MA</th>\n",
       "      <td>1796.0</td>\n",
       "      <td>1863.0</td>\n",
       "    </tr>\n",
       "    <tr>\n",
       "      <th>MD</th>\n",
       "      <td>2426.0</td>\n",
       "      <td>2218.0</td>\n",
       "    </tr>\n",
       "    <tr>\n",
       "      <th>ME</th>\n",
       "      <td>146.0</td>\n",
       "      <td>147.0</td>\n",
       "    </tr>\n",
       "    <tr>\n",
       "      <th>MI</th>\n",
       "      <td>2301.0</td>\n",
       "      <td>2362.0</td>\n",
       "    </tr>\n",
       "    <tr>\n",
       "      <th>MN</th>\n",
       "      <td>2369.0</td>\n",
       "      <td>2689.0</td>\n",
       "    </tr>\n",
       "    <tr>\n",
       "      <th>MO</th>\n",
       "      <td>2627.0</td>\n",
       "      <td>2777.0</td>\n",
       "    </tr>\n",
       "    <tr>\n",
       "      <th>MS</th>\n",
       "      <td>254.0</td>\n",
       "      <td>303.0</td>\n",
       "    </tr>\n",
       "    <tr>\n",
       "      <th>MT</th>\n",
       "      <td>164.0</td>\n",
       "      <td>194.0</td>\n",
       "    </tr>\n",
       "    <tr>\n",
       "      <th>NC</th>\n",
       "      <td>3135.0</td>\n",
       "      <td>3553.0</td>\n",
       "    </tr>\n",
       "    <tr>\n",
       "      <th>ND</th>\n",
       "      <td>244.0</td>\n",
       "      <td>294.0</td>\n",
       "    </tr>\n",
       "    <tr>\n",
       "      <th>NE</th>\n",
       "      <td>523.0</td>\n",
       "      <td>550.0</td>\n",
       "    </tr>\n",
       "    <tr>\n",
       "      <th>NH</th>\n",
       "      <td>99.0</td>\n",
       "      <td>93.0</td>\n",
       "    </tr>\n",
       "    <tr>\n",
       "      <th>NJ</th>\n",
       "      <td>2954.0</td>\n",
       "      <td>2836.0</td>\n",
       "    </tr>\n",
       "    <tr>\n",
       "      <th>NM</th>\n",
       "      <td>744.0</td>\n",
       "      <td>730.0</td>\n",
       "    </tr>\n",
       "    <tr>\n",
       "      <th>NV</th>\n",
       "      <td>3990.0</td>\n",
       "      <td>3594.0</td>\n",
       "    </tr>\n",
       "    <tr>\n",
       "      <th>NY</th>\n",
       "      <td>4730.0</td>\n",
       "      <td>5282.0</td>\n",
       "    </tr>\n",
       "    <tr>\n",
       "      <th>OH</th>\n",
       "      <td>1594.0</td>\n",
       "      <td>1765.0</td>\n",
       "    </tr>\n",
       "    <tr>\n",
       "      <th>OK</th>\n",
       "      <td>877.0</td>\n",
       "      <td>949.0</td>\n",
       "    </tr>\n",
       "    <tr>\n",
       "      <th>OR</th>\n",
       "      <td>1057.0</td>\n",
       "      <td>977.0</td>\n",
       "    </tr>\n",
       "    <tr>\n",
       "      <th>PA</th>\n",
       "      <td>1998.0</td>\n",
       "      <td>2233.0</td>\n",
       "    </tr>\n",
       "    <tr>\n",
       "      <th>PR</th>\n",
       "      <td>434.0</td>\n",
       "      <td>484.0</td>\n",
       "    </tr>\n",
       "    <tr>\n",
       "      <th>RI</th>\n",
       "      <td>144.0</td>\n",
       "      <td>133.0</td>\n",
       "    </tr>\n",
       "    <tr>\n",
       "      <th>SC</th>\n",
       "      <td>638.0</td>\n",
       "      <td>669.0</td>\n",
       "    </tr>\n",
       "    <tr>\n",
       "      <th>SD</th>\n",
       "      <td>250.0</td>\n",
       "      <td>301.0</td>\n",
       "    </tr>\n",
       "    <tr>\n",
       "      <th>TN</th>\n",
       "      <td>1916.0</td>\n",
       "      <td>2043.0</td>\n",
       "    </tr>\n",
       "    <tr>\n",
       "      <th>TT</th>\n",
       "      <td>9.0</td>\n",
       "      <td>14.0</td>\n",
       "    </tr>\n",
       "    <tr>\n",
       "      <th>TX</th>\n",
       "      <td>19000.0</td>\n",
       "      <td>20114.0</td>\n",
       "    </tr>\n",
       "    <tr>\n",
       "      <th>UT</th>\n",
       "      <td>1304.0</td>\n",
       "      <td>1295.0</td>\n",
       "    </tr>\n",
       "    <tr>\n",
       "      <th>VA</th>\n",
       "      <td>3265.0</td>\n",
       "      <td>3509.0</td>\n",
       "    </tr>\n",
       "    <tr>\n",
       "      <th>VI</th>\n",
       "      <td>46.0</td>\n",
       "      <td>67.0</td>\n",
       "    </tr>\n",
       "    <tr>\n",
       "      <th>VT</th>\n",
       "      <td>108.0</td>\n",
       "      <td>107.0</td>\n",
       "    </tr>\n",
       "    <tr>\n",
       "      <th>WA</th>\n",
       "      <td>2007.0</td>\n",
       "      <td>2029.0</td>\n",
       "    </tr>\n",
       "    <tr>\n",
       "      <th>WI</th>\n",
       "      <td>1163.0</td>\n",
       "      <td>1361.0</td>\n",
       "    </tr>\n",
       "    <tr>\n",
       "      <th>WV</th>\n",
       "      <td>89.0</td>\n",
       "      <td>91.0</td>\n",
       "    </tr>\n",
       "    <tr>\n",
       "      <th>WY</th>\n",
       "      <td>123.0</td>\n",
       "      <td>137.0</td>\n",
       "    </tr>\n",
       "  </tbody>\n",
       "</table>\n",
       "</div>"
      ],
      "text/plain": [
       "                  DEP_DEL15  ARR_DEL15\n",
       "ORIGIN_STATE_ABR                      \n",
       "AK                    524.0      594.0\n",
       "AL                    641.0      722.0\n",
       "AR                    789.0      931.0\n",
       "AZ                   3937.0     3732.0\n",
       "CA                  15955.0    14855.0\n",
       "CO                   6041.0     6331.0\n",
       "CT                    293.0      314.0\n",
       "DE                     19.0       19.0\n",
       "FL                   7861.0     8243.0\n",
       "GA                   7795.0     7606.0\n",
       "HI                    496.0      560.0\n",
       "IA                    418.0      522.0\n",
       "ID                    218.0      208.0\n",
       "IL                  12172.0    13385.0\n",
       "IN                    801.0      905.0\n",
       "KS                    265.0      328.0\n",
       "KY                    859.0      950.0\n",
       "LA                   1473.0     1644.0\n",
       "MA                   1796.0     1863.0\n",
       "MD                   2426.0     2218.0\n",
       "ME                    146.0      147.0\n",
       "MI                   2301.0     2362.0\n",
       "MN                   2369.0     2689.0\n",
       "MO                   2627.0     2777.0\n",
       "MS                    254.0      303.0\n",
       "MT                    164.0      194.0\n",
       "NC                   3135.0     3553.0\n",
       "ND                    244.0      294.0\n",
       "NE                    523.0      550.0\n",
       "NH                     99.0       93.0\n",
       "NJ                   2954.0     2836.0\n",
       "NM                    744.0      730.0\n",
       "NV                   3990.0     3594.0\n",
       "NY                   4730.0     5282.0\n",
       "OH                   1594.0     1765.0\n",
       "OK                    877.0      949.0\n",
       "OR                   1057.0      977.0\n",
       "PA                   1998.0     2233.0\n",
       "PR                    434.0      484.0\n",
       "RI                    144.0      133.0\n",
       "SC                    638.0      669.0\n",
       "SD                    250.0      301.0\n",
       "TN                   1916.0     2043.0\n",
       "TT                      9.0       14.0\n",
       "TX                  19000.0    20114.0\n",
       "UT                   1304.0     1295.0\n",
       "VA                   3265.0     3509.0\n",
       "VI                     46.0       67.0\n",
       "VT                    108.0      107.0\n",
       "WA                   2007.0     2029.0\n",
       "WI                   1163.0     1361.0\n",
       "WV                     89.0       91.0\n",
       "WY                    123.0      137.0"
      ]
     },
     "execution_count": 42,
     "metadata": {},
     "output_type": "execute_result"
    }
   ],
   "source": [
    "# 合并起飞延迟和到达延迟的数据\n",
    "o_dep_arr_dely_count = pd.DataFrame([o_dep_dely_count,o_arr_dely_count]).T\n",
    "o_dep_arr_dely_count"
   ]
  },
  {
   "cell_type": "code",
   "execution_count": 43,
   "metadata": {},
   "outputs": [
    {
     "data": {
      "text/plain": [
       "<Axes: title={'center': '每个州的起飞延迟和到达延迟的次数'}, xlabel='ORIGIN_STATE_ABR'>"
      ]
     },
     "execution_count": 43,
     "metadata": {},
     "output_type": "execute_result"
    },
    {
     "data": {
      "image/png": "[encoded data removed]",
      "text/plain": [
       "<Figure size 2000x800 with 1 Axes>"
      ]
     },
     "metadata": {},
     "output_type": "display_data"
    }
   ],
   "source": [
    "# 根据合并起飞延迟和到达延迟的数据 绘制柱状图\n",
    "o_dep_arr_dely_count.sort_values(by='DEP_DEL15',ascending=False).plot(kind='bar',title='每个州的起飞延迟和到达延迟的次数',figsize=(20,8))"
   ]
  },
  {
   "cell_type": "markdown",
   "metadata": {},
   "source": [
    "### 查看机场延迟百分比"
   ]
  },
  {
   "cell_type": "code",
   "execution_count": null,
   "metadata": {},
   "outputs": [],
   "source": [
    "# 获取机场起飞延迟的总次\n",
    "# o_dep_arr_dely_count['DEP_DEL15']\n",
    "# 获取机场到达延迟的总次\n",
    "# o_dep_arr_dely_count['ARR_DEL15']\n",
    "# 获取起飞航班的总次数\n",
    "o_dep_count = df[['ORIGIN_STATE_ABR','DEP_DEL15']].dropna()['DEP_DEL15'].count()\n",
    "o_arr_count = df[['ORIGIN_STATE_ABR','ARR_DEL15']].dropna()['ARR_DEL15'].count()\n",
    "# 计算起飞延迟的比例\n",
    "dep_rs_100 = o_dep_arr_dely_count['DEP_DEL15'] / o_dep_count\n",
    "arr_rs_100 = o_dep_arr_dely_count['ARR_DEL15'] / o_arr_count\n",
    "# 显示百分比\n",
    "dep_rs_100.sort_values(ascending=False)\n",
    "# display(arr_rs_100*100)"
   ]
  },
  {
   "cell_type": "code",
   "execution_count": 84,
   "metadata": {},
   "outputs": [
    {
     "data": {
      "text/plain": [
       "ORIGIN_STATE_ABR\n",
       "AK    0.209672\n",
       "AL    0.360639\n",
       "AR    0.443968\n",
       "AZ    0.311052\n",
       "CA    0.311785\n",
       "CO    0.344901\n",
       "CT    0.225575\n",
       "DE    0.250000\n",
       "FL    0.323610\n",
       "GA    0.327182\n",
       "HI    0.131703\n",
       "IA    0.364271\n",
       "ID    0.196597\n",
       "IL    0.462349\n",
       "IN    0.325540\n",
       "KS    0.360440\n",
       "KY    0.331704\n",
       "LA    0.365333\n",
       "MA    0.285605\n",
       "MD    0.344196\n",
       "ME    0.270221\n",
       "MI    0.273887\n",
       "MN    0.326058\n",
       "MO    0.358693\n",
       "MS    0.377335\n",
       "MT    0.166954\n",
       "NC    0.351156\n",
       "ND    0.281071\n",
       "NE    0.325829\n",
       "NH    0.215278\n",
       "NJ    0.364290\n",
       "NM    0.333943\n",
       "NV    0.346076\n",
       "NY    0.332076\n",
       "OH    0.322198\n",
       "OK    0.339778\n",
       "OR    0.221442\n",
       "PA    0.315574\n",
       "PR    0.259517\n",
       "RI    0.186798\n",
       "SC    0.340112\n",
       "SD    0.328962\n",
       "TN    0.352484\n",
       "TT    0.341463\n",
       "TX    0.405148\n",
       "UT    0.183610\n",
       "VA    0.337891\n",
       "VI    0.185596\n",
       "VT    0.325228\n",
       "WA    0.239212\n",
       "WI    0.341359\n",
       "WV    0.358268\n",
       "WY    0.180263\n",
       "Name: ARR_DEL15, dtype: float64"
      ]
     },
     "execution_count": 84,
     "metadata": {},
     "output_type": "execute_result"
    }
   ],
   "source": [
    "# 获取机场起飞延迟的总次\n",
    "# o_dep_arr_dely_count['DEP_DEL15']\n",
    "# 获取机场到达延迟的总次\n",
    "# o_dep_arr_dely_count['ARR_DEL15']\n",
    "# 获取机场起飞航班的总次数\n",
    "o_dep_count = df[['ORIGIN_STATE_ABR','DEP_DEL15']].dropna().groupby('ORIGIN_STATE_ABR')['DEP_DEL15'].count()\n",
    "o_arr_count = df[['ORIGIN_STATE_ABR','ARR_DEL15']].dropna().groupby('ORIGIN_STATE_ABR')['ARR_DEL15'].count()\n",
    "dep_rs_100 = o_dep_arr_dely_count['DEP_DEL15'] / o_dep_count\n",
    "arr_rs_100 = o_dep_arr_dely_count['ARR_DEL15'] / o_arr_count\n",
    "dep_rs_100\n",
    "arr_rs_100"
   ]
  }
 ],
 "metadata": {
  "kernelspec": {
   "display_name": "fly_env",
   "language": "python",
   "name": "python3"
  },
  "language_info": {
   "codemirror_mode": {
    "name": "ipython",
    "version": 3
   },
   "file_extension": ".py",
   "mimetype": "text/x-python",
   "name": "python",
   "nbconvert_exporter": "python",
   "pygments_lexer": "ipython3",
   "version": "3.10.10"
  }
 },
 "nbformat": 4,
 "nbformat_minor": 2
}
