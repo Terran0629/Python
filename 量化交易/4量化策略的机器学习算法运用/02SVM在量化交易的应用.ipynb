{
 "cells": [
  {
   "cell_type": "markdown",
   "metadata": {},
   "source": [
    "实战需求\n",
    "\n",
    "预测招商银行的涨跌行情（如果预测为涨，则可以买进该股票；如果预测为跌，则可以卖出该股票），然后将预测结果与实际情况进行对比，来判断预测结果的对错。"
   ]
  },
  {
   "cell_type": "code",
   "execution_count": 3,
   "metadata": {},
   "outputs": [],
   "source": [
    "import talib   #导入talib库\n",
    "from jqdata import *  #导入聚宽函数库"
   ]
  },
  {
   "cell_type": "code",
   "execution_count": 4,
   "metadata": {},
   "outputs": [],
   "source": [
    "test_stock = '600036.XSHG'  #设置测试标的为招商银行\n",
    "start_date = datetime.date(2023, 1, 4)  #设置开始时间\n",
    "end_date = datetime.date(2023, 4, 21)   #设置结束时间"
   ]
  },
  {
   "cell_type": "code",
   "execution_count": 10,
   "metadata": {},
   "outputs": [],
   "source": [
    "trading_days = list(get_all_trade_days())  #获取所有交易日\n",
    "start = trading_days.index(start_date) #获取开始时间索引\n",
    "end = trading_days.index(end_date)  #获取结束时间索引\n",
    "\n",
    "\n",
    "x_all = []\n",
    "y_all = []"
   ]
  },
  {
   "cell_type": "code",
   "execution_count": 13,
   "metadata": {},
   "outputs": [],
   "source": [
    "for index in range(start,end):\n",
    "    start_day = trading_days[index-30] \n",
    "    end_day = trading_days[index]\n",
    "    \n",
    "    # 获取招商银行的股票数据\n",
    "    stock_data = get_price(test_stock,start_day,end_day,\n",
    "                           frequency='daily',fields=['close'])\n",
    "    \n",
    "    # 获取当前时间段的收盘价\n",
    "    close_prices = stock_data['close'].values\n",
    "    \n",
    "    ema = talib.EMA(close_prices)[-2] # 指数移动平均线指标\n",
    "    rsi = talib.RSI(close_prices)[-2] # RSI指标\n",
    "    \n",
    "    # 特征列表\n",
    "    features = []\n",
    "    features.append(ema)\n",
    "    features.append(rsi)\n",
    "    \n",
    "    # 标签变量label\n",
    "    label = False\n",
    "    # 如果今天的收盘价大于昨天收盘价，则label修改为True\n",
    "    if close_prices[-1] > close_prices[-2]:\n",
    "       label = True\n",
    "    \n",
    "    x_all.append(features)\n",
    "    y_all.append(label)    "
   ]
  },
  {
   "cell_type": "code",
   "execution_count": 19,
   "metadata": {},
   "outputs": [
    {
     "data": {
      "text/plain": [
       "array([nan, nan, nan, nan, nan, nan, nan, nan, nan, nan, nan, nan, nan,\n",
       "       nan, nan, nan, nan, nan, nan, nan, nan, nan, nan, nan, nan, nan,\n",
       "       nan, nan, nan, 32.75800000000001, 32.78393548387098])"
      ]
     },
     "execution_count": 19,
     "metadata": {},
     "output_type": "execute_result"
    }
   ],
   "source": [
    "talib.EMA(close_prices)"
   ]
  },
  {
   "cell_type": "code",
   "execution_count": 14,
   "metadata": {},
   "outputs": [],
   "source": [
    "import numpy as np\n",
    "x_train = np.array(x_all[:-1])\n",
    "y_train = np.array(y_all[:-1])\n",
    "\n",
    "x_test = np.array(x_all[-1]).reshape(1,-1)\n",
    "y_test = np.array(y_all[-1])"
   ]
  },
  {
   "cell_type": "code",
   "execution_count": 15,
   "metadata": {},
   "outputs": [],
   "source": [
    "from sklearn import svm\n",
    "\n",
    "# 开始利用支持向量机(SVM)机器学习算法计算\n",
    "clf = svm.SVC()\n",
    "\n",
    "# 训练\n",
    "clf.fit(x_train,y_train)\n",
    "\n",
    "# 预测\n",
    "prediction = clf.predict(x_test)"
   ]
  },
  {
   "cell_type": "code",
   "execution_count": 16,
   "metadata": {},
   "outputs": [
    {
     "data": {
      "text/plain": [
       "array([False])"
      ]
     },
     "metadata": {},
     "output_type": "display_data"
    },
    {
     "data": {
      "text/plain": [
       "array(False)"
      ]
     },
     "metadata": {},
     "output_type": "display_data"
    }
   ],
   "source": [
    "display(prediction,y_test)"
   ]
  }
 ],
 "metadata": {
  "kernelspec": {
   "display_name": "Python 3",
   "language": "python",
   "name": "python3"
  },
  "language_info": {
   "codemirror_mode": {
    "name": "ipython",
    "version": 3
   },
   "file_extension": ".py",
   "mimetype": "text/x-python",
   "name": "python",
   "nbconvert_exporter": "python",
   "pygments_lexer": "ipython3",
   "version": "3.6.7"
  },
  "toc": {
   "base_numbering": 1,
   "nav_menu": {},
   "number_sections": false,
   "sideBar": true,
   "skip_h1_title": false,
   "title_cell": "MarkDown菜单",
   "title_sidebar": "Contents",
   "toc_cell": false,
   "toc_position": {},
   "toc_section_display": true,
   "toc_window_display": false
  }
 },
 "nbformat": 4,
 "nbformat_minor": 2
}
