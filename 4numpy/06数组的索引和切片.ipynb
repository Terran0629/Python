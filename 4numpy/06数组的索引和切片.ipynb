{
 "cells": [
  {
   "cell_type": "code",
   "execution_count": 17,
   "metadata": {},
   "outputs": [
    {
     "name": "stdout",
     "output_type": "stream",
     "text": [
      "[0 1 2 3 4 5 6 7 8 9]\n",
      "[0 1 2 3 4 5 6 7 8 9]\n",
      "2\n",
      "[2 3 4]\n",
      "[9 8 7 6 5 4 3 2 1 0]\n",
      "[8 9]\n"
     ]
    }
   ],
   "source": [
    "import numpy as np\n",
    "\n",
    "# 一维数组\n",
    "a = np.arange(10)\n",
    "print(a)\n",
    "print(a[:])\n",
    "print(a[2])\n",
    "print(a[2:5])\n",
    "print(a[::-1])\n",
    "print(a[-2:])"
   ]
  },
  {
   "cell_type": "code",
   "execution_count": 33,
   "metadata": {},
   "outputs": [
    {
     "name": "stdout",
     "output_type": "stream",
     "text": [
      "[[ 1  2  3]\n",
      " [ 4  5  6]\n",
      " [ 7  8  9]\n",
      " [10 11 12]]\n",
      "第二行: [4 5 6]\n",
      "二行三列: 6\n",
      "每行第二列: [ 2  5  8 11]\n",
      "奇数行的第一列: [1 7]\n",
      "偶数行的第一列: [ 4 10]\n",
      "第三行第二列和第四行第一列: [ 8 10]\n",
      "第一行和第二行的前两列:\n",
      " [[1 2]\n",
      " [4 5]]\n",
      "倒序:\n",
      " [[12 11 10]\n",
      " [ 9  8  7]\n",
      " [ 6  5  4]\n",
      " [ 3  2  1]]\n"
     ]
    }
   ],
   "source": [
    "# 二维数组\n",
    "'''\n",
    "Axis 0 ——> 行索引,从上往下\n",
    "Axis 1 ——> 列索引,从左往右\n",
    "'''\n",
    "x = np.arange(1,13)\n",
    "a = np.reshape(x,(4,3))\n",
    "print(a)\n",
    "print('第二行:',a[1])\n",
    "print('二行三列:',a[1,2])   # a[1][2]\n",
    "print('每行第二列:',a[:,1])\n",
    "print('奇数行的第一列:',a[::2,0])\n",
    "print('偶数行的第一列:',a[1::2,0])\n",
    "print('第三行第二列和第四行第一列:',a[(2,3),(1,0)])\n",
    "print('第一行和第二行的前两列:\\n',a[0:2,0:2])\n",
    "print('倒序:\\n',a[::-1,::-1])"
   ]
  },
  {
   "cell_type": "code",
   "execution_count": null,
   "metadata": {},
   "outputs": [],
   "source": [
    "# 切片数组的复制\n",
    "'''\n",
    "numpy中的copy()是深拷贝\n",
    "'''"
   ]
  }
 ],
 "metadata": {
  "kernelspec": {
   "display_name": "conda_env",
   "language": "python",
   "name": "python3"
  },
  "language_info": {
   "codemirror_mode": {
    "name": "ipython",
    "version": 3
   },
   "file_extension": ".py",
   "mimetype": "text/x-python",
   "name": "python",
   "nbconvert_exporter": "python",
   "pygments_lexer": "ipython3",
   "version": "3.11.4"
  }
 },
 "nbformat": 4,
 "nbformat_minor": 2
}
