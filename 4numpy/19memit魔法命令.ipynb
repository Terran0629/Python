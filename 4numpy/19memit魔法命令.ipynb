{
 "cells": [
  {
   "cell_type": "code",
   "execution_count": null,
   "metadata": {},
   "outputs": [],
   "source": [
    "'''\n",
    "分析语句内存使用情况。\n",
    "memit支持行模式与单元格模式。\n",
    "单元格模式下,初始化语句不会参与计算内存。第二行至整个单元格末尾会参与计算内存。\n",
    "\n",
    "\n",
    "安装后，需要通过%load_ext memory_profiler载入,才能使用\n",
    "'''"
   ]
  },
  {
   "cell_type": "code",
   "execution_count": 1,
   "metadata": {},
   "outputs": [
    {
     "name": "stdout",
     "output_type": "stream",
     "text": [
      "hello\n",
      "peak memory: 84.22 MiB, increment: 1.94 MiB\n"
     ]
    }
   ],
   "source": [
    "%load_ext memory_profiler\n",
    "def f():\n",
    "    print('hello')\n",
    "\n",
    "%memit f()\n",
    "# peak memory(峰值内存)是运行此代码的进程消耗的内存。\n",
    "# increment增量只是由于添加这行代码而需要/消耗的内存"
   ]
  }
 ],
 "metadata": {
  "kernelspec": {
   "display_name": "conda_env",
   "language": "python",
   "name": "python3"
  },
  "language_info": {
   "codemirror_mode": {
    "name": "ipython",
    "version": 3
   },
   "file_extension": ".py",
   "mimetype": "text/x-python",
   "name": "python",
   "nbconvert_exporter": "python",
   "pygments_lexer": "ipython3",
   "version": "3.11.4"
  }
 },
 "nbformat": 4,
 "nbformat_minor": 2
}
