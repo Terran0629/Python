{
 "cells": [
  {
   "cell_type": "markdown",
   "metadata": {},
   "source": [
    "### Sharp指标（夏普比率）"
   ]
  },
  {
   "cell_type": "code",
   "execution_count": null,
   "metadata": {},
   "outputs": [],
   "source": [
    "'''\n",
    "Sharp表示每承受一单位总风险会产生多少超额报酬,可以对策略的收益与风险进行综合考虑\n",
    "'''"
   ]
  },
  {
   "cell_type": "markdown",
   "metadata": {},
   "source": [
    "### Sortino指标（索提诺比率）"
   ]
  },
  {
   "cell_type": "code",
   "execution_count": null,
   "metadata": {},
   "outputs": [],
   "source": [
    "'''\n",
    "Sortino表示\n",
    "每承担一单位的下行风险(股价下行风险是指未来股价走势有可能低于分析师或投资者预期的目标价位的风险),\n",
    "将获得多少超额回报\n",
    "'''"
   ]
  },
  {
   "cell_type": "code",
   "execution_count": null,
   "metadata": {},
   "outputs": [],
   "source": [
    "'''\n",
    "夏普比率关注的是同时包括了上行和下行的整个资产的波动率,即标准差；\n",
    "而索提诺比率只关注资产的下行波动,即策略下行标准差。简单来说,就是索提诺比率区分了波动的好坏。\n",
    "\n",
    "索提诺比率可以看作是夏普比率在衡量标的时的一种修正方式。\n",
    "\n",
    "打个比方：\n",
    "小王是一名中学生,一年当中参加了10次考试,平均分是80分,其中3次在80分以上,5次在80分以下,2次正好80分。\n",
    "按照夏普比率的计算方法,偏离80分的成绩都是波动,都是不确定的。\n",
    "\n",
    "如果换成索提诺比率的计算方法呢？\n",
    "对于小王来说,只有低于80分的成绩是不好的,高于80分的成绩其实是加分项,应该是好的表现。\n",
    "\n",
    "所以,如果能够剔除好的表现,计算差的表现出现的次数和幅度,就能更好地反映出小明的成绩\n",
    "'''"
   ]
  }
 ],
 "metadata": {
  "language_info": {
   "name": "python"
  }
 },
 "nbformat": 4,
 "nbformat_minor": 2
}
