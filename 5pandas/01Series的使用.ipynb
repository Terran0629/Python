{
 "cells": [
  {
   "cell_type": "code",
   "execution_count": null,
   "metadata": {},
   "outputs": [],
   "source": [
    "import pandas as pd\n",
    "\n",
    "a = pd.Series([5,4,3,2,1])\n",
    "print(a)\n",
    "print(a.index)\n",
    "print(a.values)\n",
    "\n",
    "b = pd.Series([5,4,3,2,1],index=['a','b','c','d','e'])\n",
    "print(b)"
   ]
  },
  {
   "cell_type": "code",
   "execution_count": null,
   "metadata": {},
   "outputs": [],
   "source": [
    "value = {'sh':3000,'bj':2800,'gz':5000,'hz':4500}\n",
    "a = pd.Series(value)\n",
    "print(a)\n",
    "b = pd.Series(value,index=['sh','bj'])\n",
    "print(b)\n",
    "c = pd.Series(value,index=['sh','bz'])\n",
    "print(c)"
   ]
  },
  {
   "cell_type": "code",
   "execution_count": null,
   "metadata": {},
   "outputs": [],
   "source": [
    "a = pd.Series(5,index=list('abcde'))\n",
    "print(a)"
   ]
  }
 ],
 "metadata": {
  "kernelspec": {
   "display_name": "base",
   "language": "python",
   "name": "python3"
  },
  "language_info": {
   "codemirror_mode": {
    "name": "ipython",
    "version": 3
   },
   "file_extension": ".py",
   "mimetype": "text/x-python",
   "name": "python",
   "nbconvert_exporter": "python",
   "pygments_lexer": "ipython3",
   "version": "3.11.4"
  }
 },
 "nbformat": 4,
 "nbformat_minor": 2
}
