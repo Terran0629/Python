{
 "cells": [
  {
   "cell_type": "code",
   "execution_count": 8,
   "metadata": {},
   "outputs": [],
   "source": [
    "import pandas as pd\n",
    "from scipy import stats as ss\n",
    "import matplotlib.pyplot as plt\n",
    "\n",
    "plt.rcParams['font.family'] = 'SimHei'"
   ]
  },
  {
   "cell_type": "code",
   "execution_count": 9,
   "metadata": {},
   "outputs": [],
   "source": [
    "df = pd.read_excel('D:\\Vscode\\统计分析\\数据源\\CCSS_sample.xlsx',sheet_name=0)\n",
    "df.query(' s0==\"广州\" & time==203004')['index1'].describe()\n",
    "sample = df.query(' s0==\"广州\" & time==203004')['index1']"
   ]
  },
  {
   "cell_type": "code",
   "execution_count": null,
   "metadata": {},
   "outputs": [],
   "source": [
    "# 消费的信心指数分布的对称性考察\n",
    "df.index1.plot.hist()"
   ]
  },
  {
   "cell_type": "code",
   "execution_count": 11,
   "metadata": {},
   "outputs": [
    {
     "data": {
      "text/html": [
       "<div>\n",
       "<style scoped>\n",
       "    .dataframe tbody tr th:only-of-type {\n",
       "        vertical-align: middle;\n",
       "    }\n",
       "\n",
       "    .dataframe tbody tr th {\n",
       "        vertical-align: top;\n",
       "    }\n",
       "\n",
       "    .dataframe thead th {\n",
       "        text-align: right;\n",
       "    }\n",
       "</style>\n",
       "<table border=\"1\" class=\"dataframe\">\n",
       "  <thead>\n",
       "    <tr style=\"text-align: right;\">\n",
       "      <th></th>\n",
       "      <th>count</th>\n",
       "      <th>mean</th>\n",
       "      <th>std</th>\n",
       "      <th>min</th>\n",
       "      <th>25%</th>\n",
       "      <th>50%</th>\n",
       "      <th>75%</th>\n",
       "      <th>max</th>\n",
       "    </tr>\n",
       "    <tr>\n",
       "      <th>s7</th>\n",
       "      <th></th>\n",
       "      <th></th>\n",
       "      <th></th>\n",
       "      <th></th>\n",
       "      <th></th>\n",
       "      <th></th>\n",
       "      <th></th>\n",
       "      <th></th>\n",
       "    </tr>\n",
       "  </thead>\n",
       "  <tbody>\n",
       "    <tr>\n",
       "      <th>已婚</th>\n",
       "      <td>790.0</td>\n",
       "      <td>95.033107</td>\n",
       "      <td>21.282486</td>\n",
       "      <td>0.000000</td>\n",
       "      <td>85.917363</td>\n",
       "      <td>93.728032</td>\n",
       "      <td>109.349371</td>\n",
       "      <td>156.213387</td>\n",
       "    </tr>\n",
       "    <tr>\n",
       "      <th>未婚</th>\n",
       "      <td>343.0</td>\n",
       "      <td>98.282359</td>\n",
       "      <td>19.959823</td>\n",
       "      <td>23.432031</td>\n",
       "      <td>85.917363</td>\n",
       "      <td>101.538702</td>\n",
       "      <td>109.349371</td>\n",
       "      <td>156.213387</td>\n",
       "    </tr>\n",
       "    <tr>\n",
       "      <th>离异/分居/丧偶</th>\n",
       "      <td>14.0</td>\n",
       "      <td>85.917363</td>\n",
       "      <td>24.316544</td>\n",
       "      <td>31.242677</td>\n",
       "      <td>72.248692</td>\n",
       "      <td>85.917363</td>\n",
       "      <td>101.538702</td>\n",
       "      <td>124.970710</td>\n",
       "    </tr>\n",
       "  </tbody>\n",
       "</table>\n",
       "</div>"
      ],
      "text/plain": [
       "          count       mean        std        min        25%         50%  \\\n",
       "s7                                                                        \n",
       "已婚        790.0  95.033107  21.282486   0.000000  85.917363   93.728032   \n",
       "未婚        343.0  98.282359  19.959823  23.432031  85.917363  101.538702   \n",
       "离异/分居/丧偶   14.0  85.917363  24.316544  31.242677  72.248692   85.917363   \n",
       "\n",
       "                 75%         max  \n",
       "s7                                \n",
       "已婚        109.349371  156.213387  \n",
       "未婚        109.349371  156.213387  \n",
       "离异/分居/丧偶  101.538702  124.970710  "
      ]
     },
     "execution_count": 11,
     "metadata": {},
     "output_type": "execute_result"
    }
   ],
   "source": [
    "# 不同婚姻状况的消费信心指数分组描述\n",
    "df.groupby('s7').index1.describe()"
   ]
  },
  {
   "cell_type": "code",
   "execution_count": 12,
   "metadata": {},
   "outputs": [
    {
     "data": {
      "text/plain": [
       "LeveneResult(statistic=0.6178738290825966, pvalue=0.4320031337363959)"
      ]
     },
     "execution_count": 12,
     "metadata": {},
     "output_type": "execute_result"
    }
   ],
   "source": [
    "# 方差齐性检验\n",
    "ss.levene(df.index1[df.s7 == '未婚'], df.index1[df.s7 == '已婚'])\n",
    "'''\n",
    "结果证明这两个方差是相等的  \n",
    "原假设: 方差齐性  备择假设: 方差非齐性\n",
    "结果: P > alpha\n",
    "'''"
   ]
  },
  {
   "cell_type": "code",
   "execution_count": 15,
   "metadata": {},
   "outputs": [
    {
     "data": {
      "text/plain": [
       "Ttest_indResult(statistic=2.4052614244262576, pvalue=0.01632071963816213)"
      ]
     },
     "execution_count": 15,
     "metadata": {},
     "output_type": "execute_result"
    }
   ],
   "source": [
    "# 两样本t检验(方差齐性)\n",
    "ss.ttest_ind(df.index1[df.s7 == '未婚'], df.index1[df.s7 == '已婚'],equal_var=True)"
   ]
  },
  {
   "cell_type": "code",
   "execution_count": 16,
   "metadata": {},
   "outputs": [
    {
     "data": {
      "text/plain": [
       "Ttest_indResult(statistic=2.466907208318663, pvalue=0.013870358702526698)"
      ]
     },
     "execution_count": 16,
     "metadata": {},
     "output_type": "execute_result"
    }
   ],
   "source": [
    "# 两样本t检验(方差非齐性)\n",
    "ss.ttest_ind(df.index1[df.s7 == '未婚'], df.index1[df.s7 == '已婚'],equal_var=False)"
   ]
  }
 ],
 "metadata": {
  "kernelspec": {
   "display_name": "base",
   "language": "python",
   "name": "python3"
  },
  "language_info": {
   "codemirror_mode": {
    "name": "ipython",
    "version": 3
   },
   "file_extension": ".py",
   "mimetype": "text/x-python",
   "name": "python",
   "nbconvert_exporter": "python",
   "pygments_lexer": "ipython3",
   "version": "3.11.4"
  }
 },
 "nbformat": 4,
 "nbformat_minor": 2
}
