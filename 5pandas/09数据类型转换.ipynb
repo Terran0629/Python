{
 "cells": [
  {
   "cell_type": "code",
   "execution_count": 28,
   "metadata": {},
   "outputs": [],
   "source": [
    "import pandas as pd\n",
    "\n",
    "df = pd.read_excel('D:/数据分析/源码压缩/数据源/人口数据.xlsx')\n",
    "\n",
    "# 所有列\n",
    "df.astype('str')\n",
    "\n",
    "# 指定列\n",
    "df['Counts'].astype('int64')\n",
    "df['Age'].astype('int',errors='ignore')\n",
    "df['Age','Counts'].astype('str')\n"
   ]
  }
 ],
 "metadata": {
  "kernelspec": {
   "display_name": "base",
   "language": "python",
   "name": "python3"
  },
  "language_info": {
   "codemirror_mode": {
    "name": "ipython",
    "version": 3
   },
   "file_extension": ".py",
   "mimetype": "text/x-python",
   "name": "python",
   "nbconvert_exporter": "python",
   "pygments_lexer": "ipython3",
   "version": "3.11.4"
  }
 },
 "nbformat": 4,
 "nbformat_minor": 2
}
