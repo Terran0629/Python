{
 "cells": [
  {
   "cell_type": "code",
   "execution_count": 2,
   "metadata": {},
   "outputs": [
    {
     "name": "stdout",
     "output_type": "stream",
     "text": [
      "[0.61205885 0.54053957 0.8482905  0.55012311 0.55753731 0.16491622\n",
      " 0.40004413 0.48585435 0.47101495 0.07082539]\n",
      "[[0.88296331 0.98327471 0.17279668]\n",
      " [0.57297063 0.77089343 0.45527891]]\n"
     ]
    }
   ],
   "source": [
    "import numpy as np\n",
    "\n",
    "a = np.random.random(10)\n",
    "b = np.random.random((2,3))\n",
    "print(a)\n",
    "print(b)"
   ]
  },
  {
   "cell_type": "code",
   "execution_count": 10,
   "metadata": {},
   "outputs": [
    {
     "name": "stdout",
     "output_type": "stream",
     "text": [
      "[1 3 0 1 1]\n",
      "[[2 1 4]\n",
      " [1 0 4]]\n"
     ]
    }
   ],
   "source": [
    "a = np.random.randint(5,size=5)\n",
    "b = np.random.randint(5,size=(2,3))\n",
    "print(a)\n",
    "print(b)"
   ]
  },
  {
   "cell_type": "code",
   "execution_count": 9,
   "metadata": {},
   "outputs": [
    {
     "name": "stdout",
     "output_type": "stream",
     "text": [
      "[ 0.25332489  0.48297208 -0.12446436 -0.06632286  0.62971503]\n",
      "[[ 0.7103428   1.37511726 -0.08315289]\n",
      " [-1.80334548 -2.17747635 -1.14070498]]\n"
     ]
    }
   ],
   "source": [
    "# 标准正态分布\n",
    "a = np.random.randn(5)\n",
    "b = np.random.randn(2,3)\n",
    "print(a)\n",
    "print(b)"
   ]
  },
  {
   "cell_type": "code",
   "execution_count": 12,
   "metadata": {},
   "outputs": [
    {
     "name": "stdout",
     "output_type": "stream",
     "text": [
      "[[ 5.25059486  5.13103382 -3.42707782]\n",
      " [-0.24041593 -0.8642572  -3.89405017]]\n"
     ]
    }
   ],
   "source": [
    "# 指定正态分布\n",
    "a = np.random.normal(loc=5,scale=6,size=(2,3))\n",
    "print(a)"
   ]
  }
 ],
 "metadata": {
  "kernelspec": {
   "display_name": "conda_env",
   "language": "python",
   "name": "python3"
  },
  "language_info": {
   "codemirror_mode": {
    "name": "ipython",
    "version": 3
   },
   "file_extension": ".py",
   "mimetype": "text/x-python",
   "name": "python",
   "nbconvert_exporter": "python",
   "pygments_lexer": "ipython3",
   "version": "3.11.4"
  }
 },
 "nbformat": 4,
 "nbformat_minor": 2
}
