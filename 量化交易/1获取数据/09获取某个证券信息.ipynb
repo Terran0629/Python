{
 "cells": [
  {
   "cell_type": "code",
   "execution_count": 2,
   "metadata": {},
   "outputs": [
    {
     "name": "stdout",
     "output_type": "stream",
     "text": [
      "auth success \n"
     ]
    }
   ],
   "source": [
    "import jqdatasdk as jq\n",
    "import pandas as pd\n",
    "jq.auth('15661317439','Ax020629.')"
   ]
  },
  {
   "cell_type": "code",
   "execution_count": 3,
   "metadata": {},
   "outputs": [
    {
     "data": {
      "text/plain": [
       "'\\n返回值：\\n一个对象, 有如下属性:\\n\\ndisplay_name # 中文名称\\nname # 缩写简称\\nstart_date # 开始日期, [datetime.date] 类型\\nend_date # 结束日期，[datetime.date] 类型\\ntype # 类型\\n'"
      ]
     },
     "execution_count": 3,
     "metadata": {},
     "output_type": "execute_result"
    }
   ],
   "source": [
    "from jqdatasdk import *\n",
    "'''\n",
    "返回值：\n",
    "一个对象, 有如下属性:\n",
    "\n",
    "display_name # 中文名称\n",
    "name # 缩写简称\n",
    "start_date # 开始日期, [datetime.date] 类型\n",
    "end_date # 结束日期，[datetime.date] 类型\n",
    "type # 类型\n",
    "'''"
   ]
  },
  {
   "cell_type": "code",
   "execution_count": 5,
   "metadata": {},
   "outputs": [
    {
     "data": {
      "text/plain": [
       "'上证50B'"
      ]
     },
     "metadata": {},
     "output_type": "display_data"
    },
    {
     "data": {
      "text/plain": [
       "'SZ50B'"
      ]
     },
     "metadata": {},
     "output_type": "display_data"
    },
    {
     "data": {
      "text/plain": [
       "datetime.date(2015, 4, 27)"
      ]
     },
     "metadata": {},
     "output_type": "display_data"
    },
    {
     "data": {
      "text/plain": [
       "'502048.XSHG'"
      ]
     },
     "metadata": {},
     "output_type": "display_data"
    },
    {
     "data": {
      "text/plain": [
       "'fjb'"
      ]
     },
     "metadata": {},
     "output_type": "display_data"
    }
   ],
   "source": [
    "df = get_security_info('502050.XSHG')\n",
    "display(df.display_name)\n",
    "display(df.name)\n",
    "display(df.start_date)\n",
    "display(df.parent)\n",
    "display(df.type)"
   ]
  }
 ],
 "metadata": {
  "kernelspec": {
   "display_name": "base",
   "language": "python",
   "name": "python3"
  },
  "language_info": {
   "codemirror_mode": {
    "name": "ipython",
    "version": 3
   },
   "file_extension": ".py",
   "mimetype": "text/x-python",
   "name": "python",
   "nbconvert_exporter": "python",
   "pygments_lexer": "ipython3",
   "version": "3.11.4"
  }
 },
 "nbformat": 4,
 "nbformat_minor": 2
}
