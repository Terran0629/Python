{
 "cells": [
  {
   "cell_type": "markdown",
   "metadata": {},
   "source": [
    "实战需求\n",
    "\n",
    "利用随机森林训练“青岛啤酒”的均线指标、相对强弱指标来预测该股票下一个交易日的涨跌。"
   ]
  },
  {
   "cell_type": "code",
   "execution_count": null,
   "metadata": {},
   "outputs": [],
   "source": [
    "import talib\n",
    "from jqdata import *"
   ]
  },
  {
   "cell_type": "code",
   "execution_count": 11,
   "metadata": {},
   "outputs": [],
   "source": [
    "#设置测试标的为青岛啤酒\n",
    "test_stock = '600600.XSHG'  \n",
    "\n",
    "start_date = datetime.date(2024, 1, 4)  #设置开始时间\n",
    "end_date = datetime.date(2025, 2, 21)   #设置结束时间\n",
    "\n",
    "# 获取所有交易日\n",
    "trading_days = list(get_all_trade_days())\n",
    "\n",
    "# 获取开始时间\n",
    "start = trading_days.index(start_date)\n",
    "# 获取结束时间\n",
    "end = trading_days.index(end_date)"
   ]
  },
  {
   "cell_type": "code",
   "execution_count": 12,
   "metadata": {},
   "outputs": [],
   "source": [
    "#定义两个列表变量\n",
    "x_all = []   \n",
    "y_all = []\n",
    "\n",
    "\n",
    "for index in range(start,end):\n",
    "    # 得到计算指标的所有数据\n",
    "    start_day = trading_days[index-30]\n",
    "    end_day = trading_days[index]\n",
    "    \n",
    "    #利用get_price()函数获得股票数据\n",
    "    stock_data = get_price(test_stock,start_date=start_day, \n",
    "                           end_date=end_day,frequency='daily',fields=['close'])\n",
    "    \n",
    "    #定义变量并赋值为收盘价\n",
    "    close_prices = stock_data['close'].values\n",
    "\n",
    "    # 获取前一天的数据\n",
    "    ma = talib.MA(close_prices)[-2]  # 均线指标\n",
    "    rsi = talib.RSI(close_prices)[-2]  # RSI指标\n",
    "\n",
    "    # 特征列表\n",
    "    features = []\n",
    "    # 添加指标\n",
    "    features.append(ma)\n",
    "    features.append(rsi)\n",
    "    \n",
    "    # 设置标签变量label\n",
    "    label = False\n",
    "    if close_prices[-1] > close_prices[-2]:\n",
    "        label = True\n",
    "        \n",
    "    x_all.append(features)\n",
    "    y_all.append(label)\n",
    "    "
   ]
  },
  {
   "cell_type": "code",
   "execution_count": 14,
   "metadata": {
    "code_folding": []
   },
   "outputs": [],
   "source": [
    "# 准备随机森林算法需要用到的数据\n",
    "import numpy as np\n",
    "x_train = np.array(x_all[: -1])\n",
    "y_train = np.array(y_all[: -1])\n",
    "\n",
    "x_test = np.array(x_all[-1]).reshape(1,-1)\n",
    "y_test = np.array(y_all[-1])"
   ]
  },
  {
   "cell_type": "code",
   "execution_count": 16,
   "metadata": {},
   "outputs": [
    {
     "data": {
      "text/plain": [
       "array([False])"
      ]
     },
     "metadata": {},
     "output_type": "display_data"
    },
    {
     "data": {
      "text/plain": [
       "array(False)"
      ]
     },
     "metadata": {},
     "output_type": "display_data"
    }
   ],
   "source": [
    "from sklearn.ensemble import RandomForestClassifier  #导入随机森林分类器\n",
    "#调用随机森林分类器\n",
    "clf = RandomForestClassifier()\n",
    "\n",
    "#训练的代码\n",
    "clf.fit(x_train, y_train)\n",
    "\n",
    "#测试结果\n",
    "prediction = clf.predict(x_test)\n",
    "display(prediction,y_test)"
   ]
  }
 ],
 "metadata": {
  "kernelspec": {
   "display_name": "Python 3",
   "language": "python",
   "name": "python3"
  },
  "language_info": {
   "codemirror_mode": {
    "name": "ipython",
    "version": 3
   },
   "file_extension": ".py",
   "mimetype": "text/x-python",
   "name": "python",
   "nbconvert_exporter": "python",
   "pygments_lexer": "ipython3",
   "version": "3.11.4"
  },
  "toc": {
   "base_numbering": 1,
   "nav_menu": {},
   "number_sections": false,
   "sideBar": true,
   "skip_h1_title": false,
   "title_cell": "MarkDown菜单",
   "title_sidebar": "Contents",
   "toc_cell": false,
   "toc_position": {},
   "toc_section_display": true,
   "toc_window_display": false
  }
 },
 "nbformat": 4,
 "nbformat_minor": 2
}
