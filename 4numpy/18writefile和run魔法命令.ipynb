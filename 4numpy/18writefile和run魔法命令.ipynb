{
 "cells": [
  {
   "cell_type": "code",
   "execution_count": 1,
   "metadata": {},
   "outputs": [
    {
     "name": "stdout",
     "output_type": "stream",
     "text": [
      "Writing writefile_test.py\n"
     ]
    }
   ],
   "source": [
    "%%writefile writefile_test.py\n",
    "print('hello')\n",
    "print('writefile')\n",
    "'''\n",
    "writefile将单元格内容写入到文件中。如果文件不存在则创建,\n",
    "如果文件存在,则覆盖文件。如果指定-a参数,则追加内容,不覆盖。\n",
    "'''"
   ]
  },
  {
   "cell_type": "code",
   "execution_count": 4,
   "metadata": {},
   "outputs": [
    {
     "name": "stdout",
     "output_type": "stream",
     "text": [
      "Appending to writefile_test.py\n"
     ]
    }
   ],
   "source": [
    "%%writefile -a writefile_test.py\n",
    "print('append....')\n",
    "m = 666"
   ]
  },
  {
   "cell_type": "code",
   "execution_count": 5,
   "metadata": {},
   "outputs": [
    {
     "name": "stdout",
     "output_type": "stream",
     "text": [
      "hello\n",
      "writefile\n",
      "append....\n",
      "append....\n"
     ]
    },
    {
     "data": {
      "text/plain": [
       "666"
      ]
     },
     "execution_count": 5,
     "metadata": {},
     "output_type": "execute_result"
    }
   ],
   "source": [
    "%run writefile_test.py\n",
    "m # 使用文件中定义的变量"
   ]
  }
 ],
 "metadata": {
  "kernelspec": {
   "display_name": "base",
   "language": "python",
   "name": "python3"
  },
  "language_info": {
   "codemirror_mode": {
    "name": "ipython",
    "version": 3
   },
   "file_extension": ".py",
   "mimetype": "text/x-python",
   "name": "python",
   "nbconvert_exporter": "python",
   "pygments_lexer": "ipython3",
   "version": "3.11.4"
  }
 },
 "nbformat": 4,
 "nbformat_minor": 2
}
