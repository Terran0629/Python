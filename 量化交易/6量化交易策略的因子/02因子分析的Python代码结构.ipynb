{
 "cells": [
  {
   "cell_type": "markdown",
   "metadata": {},
   "source": [
    "### 因子分析的Python代码结构"
   ]
  },
  {
   "cell_type": "code",
   "execution_count": null,
   "metadata": {},
   "outputs": [],
   "source": [
    "'''\n",
    "在量化交易中,要实现因子分析功能,需要自定义因子的类,\n",
    "继承Factor类,并实现calc方法,\n",
    "\n",
    "代码如下：\n",
    "'''\n",
    "class MA10(Factor):\n",
    "    name = 'ma10'  # 因子名称\n",
    "    max_window = 10 # 用来获取数据的最长时间窗口\n",
    "    dependencies = ['close'] # 用来设置依赖的基础因子名称\n",
    "    def calc(self,data): \n",
    "        return data['close'][-10:].mean()"
   ]
  },
  {
   "cell_type": "code",
   "execution_count": null,
   "metadata": {},
   "outputs": [],
   "source": [
    "'''\n",
    "\n",
    "***在calc中,可以通过data参数获取通过max_window和dependencies定义的数据。\n",
    "参数data是一个dict对象,其key属性是dependencies中的因子名称,value属性是一个DataFrame对象。\n",
    "calc保证返回一个Series对象,其中index属性是股票代码,value属性是因子值。\n",
    "\n",
    "'''"
   ]
  }
 ],
 "metadata": {
  "language_info": {
   "name": "python"
  }
 },
 "nbformat": 4,
 "nbformat_minor": 2
}
