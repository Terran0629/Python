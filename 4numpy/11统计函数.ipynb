{
 "cells": [
  {
   "cell_type": "code",
   "execution_count": null,
   "metadata": {},
   "outputs": [],
   "source": [
    "'''\n",
    "np.sum()\t求和\n",
    "np.prod()\t所有元素相乘\n",
    "np.mean()\t平均值\n",
    "np.std()\t标准差\n",
    "np.var()\t方差\n",
    "np.median()\t中数\n",
    "np.power()\t幂运算\n",
    "np.sqrt()\t开方\n",
    "np.min()\t最小值\n",
    "np.max()\t最大值\n",
    "np.argmin()\t最小值的下标\n",
    "np.argmax()\t最大值的下标\n",
    "np.ptp()\t计算一组数中最大值与最小值的差，可指定轴\n",
    "np.unique()\t删除数组中的重复数据，并对数据进行排序\n",
    "np.nonzero()\t返回数组中非零元素的索引\n",
    "'''"
   ]
  },
  {
   "cell_type": "code",
   "execution_count": 2,
   "metadata": {},
   "outputs": [
    {
     "name": "stdout",
     "output_type": "stream",
     "text": [
      "[ 1722778750  1851457775 -1018845203  -163876197]\n",
      "[ 1  4  9 16]\n"
     ]
    }
   ],
   "source": [
    "import numpy as np\n",
    "\n",
    "x = np.arange(1,5)\n",
    "y = np.empty_like(x)\n",
    "print(y)\n",
    "np.power(x, 2, out=y)\n",
    "print(y)"
   ]
  },
  {
   "cell_type": "code",
   "execution_count": 4,
   "metadata": {},
   "outputs": [
    {
     "name": "stdout",
     "output_type": "stream",
     "text": [
      "5.5\n",
      "[3.5 4.5 5.5 6.5 7.5]\n",
      "[3. 8.]\n"
     ]
    }
   ],
   "source": [
    "a=np.arange(1,11).reshape(2,5)\n",
    "\n",
    "print(np.mean(a))\n",
    "\n",
    "print(np.mean(a,axis=0))\n",
    "\n",
    "print(np.mean(a,axis=1))\n"
   ]
  }
 ],
 "metadata": {
  "kernelspec": {
   "display_name": "conda_env",
   "language": "python",
   "name": "python3"
  },
  "language_info": {
   "codemirror_mode": {
    "name": "ipython",
    "version": 3
   },
   "file_extension": ".py",
   "mimetype": "text/x-python",
   "name": "python",
   "nbconvert_exporter": "python",
   "pygments_lexer": "ipython3",
   "version": "3.11.4"
  }
 },
 "nbformat": 4,
 "nbformat_minor": 2
}
